{
  "nbformat": 4,
  "nbformat_minor": 0,
  "metadata": {
    "colab": {
      "name": "S6IntroduceRegularization.ipynb",
      "provenance": [],
      "collapsed_sections": []
    },
    "kernelspec": {
      "name": "python3",
      "display_name": "Python 3"
    },
    "widgets": {
      "application/vnd.jupyter.widget-state+json": {
        "eb0ec5f8417a4ccd96229fd92e077a73": {
          "model_module": "@jupyter-widgets/controls",
          "model_name": "HBoxModel",
          "state": {
            "_view_name": "HBoxView",
            "_dom_classes": [],
            "_model_name": "HBoxModel",
            "_view_module": "@jupyter-widgets/controls",
            "_model_module_version": "1.5.0",
            "_view_count": null,
            "_view_module_version": "1.5.0",
            "box_style": "",
            "layout": "IPY_MODEL_8be42b9ce1e048b5947a0a2c0d7cbe29",
            "_model_module": "@jupyter-widgets/controls",
            "children": [
              "IPY_MODEL_dbdd6f79c79e4046aa64b53f150c66d3",
              "IPY_MODEL_26ce4a5db87e41f2ac90064649c55428"
            ]
          }
        },
        "8be42b9ce1e048b5947a0a2c0d7cbe29": {
          "model_module": "@jupyter-widgets/base",
          "model_name": "LayoutModel",
          "state": {
            "_view_name": "LayoutView",
            "grid_template_rows": null,
            "right": null,
            "justify_content": null,
            "_view_module": "@jupyter-widgets/base",
            "overflow": null,
            "_model_module_version": "1.2.0",
            "_view_count": null,
            "flex_flow": null,
            "width": null,
            "min_width": null,
            "border": null,
            "align_items": null,
            "bottom": null,
            "_model_module": "@jupyter-widgets/base",
            "top": null,
            "grid_column": null,
            "overflow_y": null,
            "overflow_x": null,
            "grid_auto_flow": null,
            "grid_area": null,
            "grid_template_columns": null,
            "flex": null,
            "_model_name": "LayoutModel",
            "justify_items": null,
            "grid_row": null,
            "max_height": null,
            "align_content": null,
            "visibility": null,
            "align_self": null,
            "height": null,
            "min_height": null,
            "padding": null,
            "grid_auto_rows": null,
            "grid_gap": null,
            "max_width": null,
            "order": null,
            "_view_module_version": "1.2.0",
            "grid_template_areas": null,
            "object_position": null,
            "object_fit": null,
            "grid_auto_columns": null,
            "margin": null,
            "display": null,
            "left": null
          }
        },
        "dbdd6f79c79e4046aa64b53f150c66d3": {
          "model_module": "@jupyter-widgets/controls",
          "model_name": "FloatProgressModel",
          "state": {
            "_view_name": "ProgressView",
            "style": "IPY_MODEL_d4c197fdb5434228ba48e3e99a11692d",
            "_dom_classes": [],
            "description": "",
            "_model_name": "FloatProgressModel",
            "bar_style": "info",
            "max": 1,
            "_view_module": "@jupyter-widgets/controls",
            "_model_module_version": "1.5.0",
            "value": 1,
            "_view_count": null,
            "_view_module_version": "1.5.0",
            "orientation": "horizontal",
            "min": 0,
            "description_tooltip": null,
            "_model_module": "@jupyter-widgets/controls",
            "layout": "IPY_MODEL_44f3cd07e4c3450b83c4ee05075d9f61"
          }
        },
        "26ce4a5db87e41f2ac90064649c55428": {
          "model_module": "@jupyter-widgets/controls",
          "model_name": "HTMLModel",
          "state": {
            "_view_name": "HTMLView",
            "style": "IPY_MODEL_31ed8ed75e704e28a08419ce999a9a1e",
            "_dom_classes": [],
            "description": "",
            "_model_name": "HTMLModel",
            "placeholder": "​",
            "_view_module": "@jupyter-widgets/controls",
            "_model_module_version": "1.5.0",
            "value": " 9920512/? [00:20&lt;00:00, 9387460.59it/s]",
            "_view_count": null,
            "_view_module_version": "1.5.0",
            "description_tooltip": null,
            "_model_module": "@jupyter-widgets/controls",
            "layout": "IPY_MODEL_a06820f297b343e0ae23313cb6310fc5"
          }
        },
        "d4c197fdb5434228ba48e3e99a11692d": {
          "model_module": "@jupyter-widgets/controls",
          "model_name": "ProgressStyleModel",
          "state": {
            "_view_name": "StyleView",
            "_model_name": "ProgressStyleModel",
            "description_width": "initial",
            "_view_module": "@jupyter-widgets/base",
            "_model_module_version": "1.5.0",
            "_view_count": null,
            "_view_module_version": "1.2.0",
            "bar_color": null,
            "_model_module": "@jupyter-widgets/controls"
          }
        },
        "44f3cd07e4c3450b83c4ee05075d9f61": {
          "model_module": "@jupyter-widgets/base",
          "model_name": "LayoutModel",
          "state": {
            "_view_name": "LayoutView",
            "grid_template_rows": null,
            "right": null,
            "justify_content": null,
            "_view_module": "@jupyter-widgets/base",
            "overflow": null,
            "_model_module_version": "1.2.0",
            "_view_count": null,
            "flex_flow": null,
            "width": null,
            "min_width": null,
            "border": null,
            "align_items": null,
            "bottom": null,
            "_model_module": "@jupyter-widgets/base",
            "top": null,
            "grid_column": null,
            "overflow_y": null,
            "overflow_x": null,
            "grid_auto_flow": null,
            "grid_area": null,
            "grid_template_columns": null,
            "flex": null,
            "_model_name": "LayoutModel",
            "justify_items": null,
            "grid_row": null,
            "max_height": null,
            "align_content": null,
            "visibility": null,
            "align_self": null,
            "height": null,
            "min_height": null,
            "padding": null,
            "grid_auto_rows": null,
            "grid_gap": null,
            "max_width": null,
            "order": null,
            "_view_module_version": "1.2.0",
            "grid_template_areas": null,
            "object_position": null,
            "object_fit": null,
            "grid_auto_columns": null,
            "margin": null,
            "display": null,
            "left": null
          }
        },
        "31ed8ed75e704e28a08419ce999a9a1e": {
          "model_module": "@jupyter-widgets/controls",
          "model_name": "DescriptionStyleModel",
          "state": {
            "_view_name": "StyleView",
            "_model_name": "DescriptionStyleModel",
            "description_width": "",
            "_view_module": "@jupyter-widgets/base",
            "_model_module_version": "1.5.0",
            "_view_count": null,
            "_view_module_version": "1.2.0",
            "_model_module": "@jupyter-widgets/controls"
          }
        },
        "a06820f297b343e0ae23313cb6310fc5": {
          "model_module": "@jupyter-widgets/base",
          "model_name": "LayoutModel",
          "state": {
            "_view_name": "LayoutView",
            "grid_template_rows": null,
            "right": null,
            "justify_content": null,
            "_view_module": "@jupyter-widgets/base",
            "overflow": null,
            "_model_module_version": "1.2.0",
            "_view_count": null,
            "flex_flow": null,
            "width": null,
            "min_width": null,
            "border": null,
            "align_items": null,
            "bottom": null,
            "_model_module": "@jupyter-widgets/base",
            "top": null,
            "grid_column": null,
            "overflow_y": null,
            "overflow_x": null,
            "grid_auto_flow": null,
            "grid_area": null,
            "grid_template_columns": null,
            "flex": null,
            "_model_name": "LayoutModel",
            "justify_items": null,
            "grid_row": null,
            "max_height": null,
            "align_content": null,
            "visibility": null,
            "align_self": null,
            "height": null,
            "min_height": null,
            "padding": null,
            "grid_auto_rows": null,
            "grid_gap": null,
            "max_width": null,
            "order": null,
            "_view_module_version": "1.2.0",
            "grid_template_areas": null,
            "object_position": null,
            "object_fit": null,
            "grid_auto_columns": null,
            "margin": null,
            "display": null,
            "left": null
          }
        },
        "ac8a0eb977a6433d8be52ffe72665cc0": {
          "model_module": "@jupyter-widgets/controls",
          "model_name": "HBoxModel",
          "state": {
            "_view_name": "HBoxView",
            "_dom_classes": [],
            "_model_name": "HBoxModel",
            "_view_module": "@jupyter-widgets/controls",
            "_model_module_version": "1.5.0",
            "_view_count": null,
            "_view_module_version": "1.5.0",
            "box_style": "",
            "layout": "IPY_MODEL_62956f1b2d0f42b183592953cf865fcd",
            "_model_module": "@jupyter-widgets/controls",
            "children": [
              "IPY_MODEL_bc1e0c3aab534cf9af70c9548263d223",
              "IPY_MODEL_1f883f5c37c24b058b0699fddc19f7a5"
            ]
          }
        },
        "62956f1b2d0f42b183592953cf865fcd": {
          "model_module": "@jupyter-widgets/base",
          "model_name": "LayoutModel",
          "state": {
            "_view_name": "LayoutView",
            "grid_template_rows": null,
            "right": null,
            "justify_content": null,
            "_view_module": "@jupyter-widgets/base",
            "overflow": null,
            "_model_module_version": "1.2.0",
            "_view_count": null,
            "flex_flow": null,
            "width": null,
            "min_width": null,
            "border": null,
            "align_items": null,
            "bottom": null,
            "_model_module": "@jupyter-widgets/base",
            "top": null,
            "grid_column": null,
            "overflow_y": null,
            "overflow_x": null,
            "grid_auto_flow": null,
            "grid_area": null,
            "grid_template_columns": null,
            "flex": null,
            "_model_name": "LayoutModel",
            "justify_items": null,
            "grid_row": null,
            "max_height": null,
            "align_content": null,
            "visibility": null,
            "align_self": null,
            "height": null,
            "min_height": null,
            "padding": null,
            "grid_auto_rows": null,
            "grid_gap": null,
            "max_width": null,
            "order": null,
            "_view_module_version": "1.2.0",
            "grid_template_areas": null,
            "object_position": null,
            "object_fit": null,
            "grid_auto_columns": null,
            "margin": null,
            "display": null,
            "left": null
          }
        },
        "bc1e0c3aab534cf9af70c9548263d223": {
          "model_module": "@jupyter-widgets/controls",
          "model_name": "FloatProgressModel",
          "state": {
            "_view_name": "ProgressView",
            "style": "IPY_MODEL_487fcb24bc58493fb9c5b61fdccf81ba",
            "_dom_classes": [],
            "description": "",
            "_model_name": "FloatProgressModel",
            "bar_style": "success",
            "max": 1,
            "_view_module": "@jupyter-widgets/controls",
            "_model_module_version": "1.5.0",
            "value": 1,
            "_view_count": null,
            "_view_module_version": "1.5.0",
            "orientation": "horizontal",
            "min": 0,
            "description_tooltip": null,
            "_model_module": "@jupyter-widgets/controls",
            "layout": "IPY_MODEL_e82c751c129e41fba2b8b1cb0f72eed4"
          }
        },
        "1f883f5c37c24b058b0699fddc19f7a5": {
          "model_module": "@jupyter-widgets/controls",
          "model_name": "HTMLModel",
          "state": {
            "_view_name": "HTMLView",
            "style": "IPY_MODEL_28685f81e5eb48a8afa1ddc496a8dbfc",
            "_dom_classes": [],
            "description": "",
            "_model_name": "HTMLModel",
            "placeholder": "​",
            "_view_module": "@jupyter-widgets/controls",
            "_model_module_version": "1.5.0",
            "value": " 32768/? [00:00&lt;00:00, 242119.18it/s]",
            "_view_count": null,
            "_view_module_version": "1.5.0",
            "description_tooltip": null,
            "_model_module": "@jupyter-widgets/controls",
            "layout": "IPY_MODEL_6df6f1894da34d749138ac59f5642419"
          }
        },
        "487fcb24bc58493fb9c5b61fdccf81ba": {
          "model_module": "@jupyter-widgets/controls",
          "model_name": "ProgressStyleModel",
          "state": {
            "_view_name": "StyleView",
            "_model_name": "ProgressStyleModel",
            "description_width": "initial",
            "_view_module": "@jupyter-widgets/base",
            "_model_module_version": "1.5.0",
            "_view_count": null,
            "_view_module_version": "1.2.0",
            "bar_color": null,
            "_model_module": "@jupyter-widgets/controls"
          }
        },
        "e82c751c129e41fba2b8b1cb0f72eed4": {
          "model_module": "@jupyter-widgets/base",
          "model_name": "LayoutModel",
          "state": {
            "_view_name": "LayoutView",
            "grid_template_rows": null,
            "right": null,
            "justify_content": null,
            "_view_module": "@jupyter-widgets/base",
            "overflow": null,
            "_model_module_version": "1.2.0",
            "_view_count": null,
            "flex_flow": null,
            "width": null,
            "min_width": null,
            "border": null,
            "align_items": null,
            "bottom": null,
            "_model_module": "@jupyter-widgets/base",
            "top": null,
            "grid_column": null,
            "overflow_y": null,
            "overflow_x": null,
            "grid_auto_flow": null,
            "grid_area": null,
            "grid_template_columns": null,
            "flex": null,
            "_model_name": "LayoutModel",
            "justify_items": null,
            "grid_row": null,
            "max_height": null,
            "align_content": null,
            "visibility": null,
            "align_self": null,
            "height": null,
            "min_height": null,
            "padding": null,
            "grid_auto_rows": null,
            "grid_gap": null,
            "max_width": null,
            "order": null,
            "_view_module_version": "1.2.0",
            "grid_template_areas": null,
            "object_position": null,
            "object_fit": null,
            "grid_auto_columns": null,
            "margin": null,
            "display": null,
            "left": null
          }
        },
        "28685f81e5eb48a8afa1ddc496a8dbfc": {
          "model_module": "@jupyter-widgets/controls",
          "model_name": "DescriptionStyleModel",
          "state": {
            "_view_name": "StyleView",
            "_model_name": "DescriptionStyleModel",
            "description_width": "",
            "_view_module": "@jupyter-widgets/base",
            "_model_module_version": "1.5.0",
            "_view_count": null,
            "_view_module_version": "1.2.0",
            "_model_module": "@jupyter-widgets/controls"
          }
        },
        "6df6f1894da34d749138ac59f5642419": {
          "model_module": "@jupyter-widgets/base",
          "model_name": "LayoutModel",
          "state": {
            "_view_name": "LayoutView",
            "grid_template_rows": null,
            "right": null,
            "justify_content": null,
            "_view_module": "@jupyter-widgets/base",
            "overflow": null,
            "_model_module_version": "1.2.0",
            "_view_count": null,
            "flex_flow": null,
            "width": null,
            "min_width": null,
            "border": null,
            "align_items": null,
            "bottom": null,
            "_model_module": "@jupyter-widgets/base",
            "top": null,
            "grid_column": null,
            "overflow_y": null,
            "overflow_x": null,
            "grid_auto_flow": null,
            "grid_area": null,
            "grid_template_columns": null,
            "flex": null,
            "_model_name": "LayoutModel",
            "justify_items": null,
            "grid_row": null,
            "max_height": null,
            "align_content": null,
            "visibility": null,
            "align_self": null,
            "height": null,
            "min_height": null,
            "padding": null,
            "grid_auto_rows": null,
            "grid_gap": null,
            "max_width": null,
            "order": null,
            "_view_module_version": "1.2.0",
            "grid_template_areas": null,
            "object_position": null,
            "object_fit": null,
            "grid_auto_columns": null,
            "margin": null,
            "display": null,
            "left": null
          }
        },
        "3f5ae5f1dad04de69db5da9fd6924d4d": {
          "model_module": "@jupyter-widgets/controls",
          "model_name": "HBoxModel",
          "state": {
            "_view_name": "HBoxView",
            "_dom_classes": [],
            "_model_name": "HBoxModel",
            "_view_module": "@jupyter-widgets/controls",
            "_model_module_version": "1.5.0",
            "_view_count": null,
            "_view_module_version": "1.5.0",
            "box_style": "",
            "layout": "IPY_MODEL_d11745255acb4ca0976ac7312e6df5aa",
            "_model_module": "@jupyter-widgets/controls",
            "children": [
              "IPY_MODEL_3c7b0f66a2bb4d8a91d1a3c2a3fabde3",
              "IPY_MODEL_ecba06aec3b14b7c9cc48e6b989bff03"
            ]
          }
        },
        "d11745255acb4ca0976ac7312e6df5aa": {
          "model_module": "@jupyter-widgets/base",
          "model_name": "LayoutModel",
          "state": {
            "_view_name": "LayoutView",
            "grid_template_rows": null,
            "right": null,
            "justify_content": null,
            "_view_module": "@jupyter-widgets/base",
            "overflow": null,
            "_model_module_version": "1.2.0",
            "_view_count": null,
            "flex_flow": null,
            "width": null,
            "min_width": null,
            "border": null,
            "align_items": null,
            "bottom": null,
            "_model_module": "@jupyter-widgets/base",
            "top": null,
            "grid_column": null,
            "overflow_y": null,
            "overflow_x": null,
            "grid_auto_flow": null,
            "grid_area": null,
            "grid_template_columns": null,
            "flex": null,
            "_model_name": "LayoutModel",
            "justify_items": null,
            "grid_row": null,
            "max_height": null,
            "align_content": null,
            "visibility": null,
            "align_self": null,
            "height": null,
            "min_height": null,
            "padding": null,
            "grid_auto_rows": null,
            "grid_gap": null,
            "max_width": null,
            "order": null,
            "_view_module_version": "1.2.0",
            "grid_template_areas": null,
            "object_position": null,
            "object_fit": null,
            "grid_auto_columns": null,
            "margin": null,
            "display": null,
            "left": null
          }
        },
        "3c7b0f66a2bb4d8a91d1a3c2a3fabde3": {
          "model_module": "@jupyter-widgets/controls",
          "model_name": "FloatProgressModel",
          "state": {
            "_view_name": "ProgressView",
            "style": "IPY_MODEL_28aa4ea71e9f4f098f0fda688833edcf",
            "_dom_classes": [],
            "description": "",
            "_model_name": "FloatProgressModel",
            "bar_style": "info",
            "max": 1,
            "_view_module": "@jupyter-widgets/controls",
            "_model_module_version": "1.5.0",
            "value": 1,
            "_view_count": null,
            "_view_module_version": "1.5.0",
            "orientation": "horizontal",
            "min": 0,
            "description_tooltip": null,
            "_model_module": "@jupyter-widgets/controls",
            "layout": "IPY_MODEL_81d66350674842748c5ca69d050512f1"
          }
        },
        "ecba06aec3b14b7c9cc48e6b989bff03": {
          "model_module": "@jupyter-widgets/controls",
          "model_name": "HTMLModel",
          "state": {
            "_view_name": "HTMLView",
            "style": "IPY_MODEL_3786cf2983224a55bf91133c6845950d",
            "_dom_classes": [],
            "description": "",
            "_model_name": "HTMLModel",
            "placeholder": "​",
            "_view_module": "@jupyter-widgets/controls",
            "_model_module_version": "1.5.0",
            "value": " 1654784/? [00:19&lt;00:00, 5959962.20it/s]",
            "_view_count": null,
            "_view_module_version": "1.5.0",
            "description_tooltip": null,
            "_model_module": "@jupyter-widgets/controls",
            "layout": "IPY_MODEL_a840f99a229c455e9d25e9d5d4fe5d60"
          }
        },
        "28aa4ea71e9f4f098f0fda688833edcf": {
          "model_module": "@jupyter-widgets/controls",
          "model_name": "ProgressStyleModel",
          "state": {
            "_view_name": "StyleView",
            "_model_name": "ProgressStyleModel",
            "description_width": "initial",
            "_view_module": "@jupyter-widgets/base",
            "_model_module_version": "1.5.0",
            "_view_count": null,
            "_view_module_version": "1.2.0",
            "bar_color": null,
            "_model_module": "@jupyter-widgets/controls"
          }
        },
        "81d66350674842748c5ca69d050512f1": {
          "model_module": "@jupyter-widgets/base",
          "model_name": "LayoutModel",
          "state": {
            "_view_name": "LayoutView",
            "grid_template_rows": null,
            "right": null,
            "justify_content": null,
            "_view_module": "@jupyter-widgets/base",
            "overflow": null,
            "_model_module_version": "1.2.0",
            "_view_count": null,
            "flex_flow": null,
            "width": null,
            "min_width": null,
            "border": null,
            "align_items": null,
            "bottom": null,
            "_model_module": "@jupyter-widgets/base",
            "top": null,
            "grid_column": null,
            "overflow_y": null,
            "overflow_x": null,
            "grid_auto_flow": null,
            "grid_area": null,
            "grid_template_columns": null,
            "flex": null,
            "_model_name": "LayoutModel",
            "justify_items": null,
            "grid_row": null,
            "max_height": null,
            "align_content": null,
            "visibility": null,
            "align_self": null,
            "height": null,
            "min_height": null,
            "padding": null,
            "grid_auto_rows": null,
            "grid_gap": null,
            "max_width": null,
            "order": null,
            "_view_module_version": "1.2.0",
            "grid_template_areas": null,
            "object_position": null,
            "object_fit": null,
            "grid_auto_columns": null,
            "margin": null,
            "display": null,
            "left": null
          }
        },
        "3786cf2983224a55bf91133c6845950d": {
          "model_module": "@jupyter-widgets/controls",
          "model_name": "DescriptionStyleModel",
          "state": {
            "_view_name": "StyleView",
            "_model_name": "DescriptionStyleModel",
            "description_width": "",
            "_view_module": "@jupyter-widgets/base",
            "_model_module_version": "1.5.0",
            "_view_count": null,
            "_view_module_version": "1.2.0",
            "_model_module": "@jupyter-widgets/controls"
          }
        },
        "a840f99a229c455e9d25e9d5d4fe5d60": {
          "model_module": "@jupyter-widgets/base",
          "model_name": "LayoutModel",
          "state": {
            "_view_name": "LayoutView",
            "grid_template_rows": null,
            "right": null,
            "justify_content": null,
            "_view_module": "@jupyter-widgets/base",
            "overflow": null,
            "_model_module_version": "1.2.0",
            "_view_count": null,
            "flex_flow": null,
            "width": null,
            "min_width": null,
            "border": null,
            "align_items": null,
            "bottom": null,
            "_model_module": "@jupyter-widgets/base",
            "top": null,
            "grid_column": null,
            "overflow_y": null,
            "overflow_x": null,
            "grid_auto_flow": null,
            "grid_area": null,
            "grid_template_columns": null,
            "flex": null,
            "_model_name": "LayoutModel",
            "justify_items": null,
            "grid_row": null,
            "max_height": null,
            "align_content": null,
            "visibility": null,
            "align_self": null,
            "height": null,
            "min_height": null,
            "padding": null,
            "grid_auto_rows": null,
            "grid_gap": null,
            "max_width": null,
            "order": null,
            "_view_module_version": "1.2.0",
            "grid_template_areas": null,
            "object_position": null,
            "object_fit": null,
            "grid_auto_columns": null,
            "margin": null,
            "display": null,
            "left": null
          }
        },
        "e8b78be85a8549f48e24841609592ebb": {
          "model_module": "@jupyter-widgets/controls",
          "model_name": "HBoxModel",
          "state": {
            "_view_name": "HBoxView",
            "_dom_classes": [],
            "_model_name": "HBoxModel",
            "_view_module": "@jupyter-widgets/controls",
            "_model_module_version": "1.5.0",
            "_view_count": null,
            "_view_module_version": "1.5.0",
            "box_style": "",
            "layout": "IPY_MODEL_0b9dba475e7e41b0bb6437845da4c0d5",
            "_model_module": "@jupyter-widgets/controls",
            "children": [
              "IPY_MODEL_676cc543ba874a17adbe60ca18e581b9",
              "IPY_MODEL_c10200562f7b42768c389a7e567c0a7a"
            ]
          }
        },
        "0b9dba475e7e41b0bb6437845da4c0d5": {
          "model_module": "@jupyter-widgets/base",
          "model_name": "LayoutModel",
          "state": {
            "_view_name": "LayoutView",
            "grid_template_rows": null,
            "right": null,
            "justify_content": null,
            "_view_module": "@jupyter-widgets/base",
            "overflow": null,
            "_model_module_version": "1.2.0",
            "_view_count": null,
            "flex_flow": null,
            "width": null,
            "min_width": null,
            "border": null,
            "align_items": null,
            "bottom": null,
            "_model_module": "@jupyter-widgets/base",
            "top": null,
            "grid_column": null,
            "overflow_y": null,
            "overflow_x": null,
            "grid_auto_flow": null,
            "grid_area": null,
            "grid_template_columns": null,
            "flex": null,
            "_model_name": "LayoutModel",
            "justify_items": null,
            "grid_row": null,
            "max_height": null,
            "align_content": null,
            "visibility": null,
            "align_self": null,
            "height": null,
            "min_height": null,
            "padding": null,
            "grid_auto_rows": null,
            "grid_gap": null,
            "max_width": null,
            "order": null,
            "_view_module_version": "1.2.0",
            "grid_template_areas": null,
            "object_position": null,
            "object_fit": null,
            "grid_auto_columns": null,
            "margin": null,
            "display": null,
            "left": null
          }
        },
        "676cc543ba874a17adbe60ca18e581b9": {
          "model_module": "@jupyter-widgets/controls",
          "model_name": "FloatProgressModel",
          "state": {
            "_view_name": "ProgressView",
            "style": "IPY_MODEL_a206c1482f454abe9d24230fdf4bd5dd",
            "_dom_classes": [],
            "description": "",
            "_model_name": "FloatProgressModel",
            "bar_style": "success",
            "max": 1,
            "_view_module": "@jupyter-widgets/controls",
            "_model_module_version": "1.5.0",
            "value": 1,
            "_view_count": null,
            "_view_module_version": "1.5.0",
            "orientation": "horizontal",
            "min": 0,
            "description_tooltip": null,
            "_model_module": "@jupyter-widgets/controls",
            "layout": "IPY_MODEL_398f1b0e26444edbb4bb19a1dfce291a"
          }
        },
        "c10200562f7b42768c389a7e567c0a7a": {
          "model_module": "@jupyter-widgets/controls",
          "model_name": "HTMLModel",
          "state": {
            "_view_name": "HTMLView",
            "style": "IPY_MODEL_dcc11e93cd25439187db65036328895f",
            "_dom_classes": [],
            "description": "",
            "_model_name": "HTMLModel",
            "placeholder": "​",
            "_view_module": "@jupyter-widgets/controls",
            "_model_module_version": "1.5.0",
            "value": " 8192/? [00:06&lt;00:00, 1180.08it/s]",
            "_view_count": null,
            "_view_module_version": "1.5.0",
            "description_tooltip": null,
            "_model_module": "@jupyter-widgets/controls",
            "layout": "IPY_MODEL_5e62344adc23428085175a40df2610a0"
          }
        },
        "a206c1482f454abe9d24230fdf4bd5dd": {
          "model_module": "@jupyter-widgets/controls",
          "model_name": "ProgressStyleModel",
          "state": {
            "_view_name": "StyleView",
            "_model_name": "ProgressStyleModel",
            "description_width": "initial",
            "_view_module": "@jupyter-widgets/base",
            "_model_module_version": "1.5.0",
            "_view_count": null,
            "_view_module_version": "1.2.0",
            "bar_color": null,
            "_model_module": "@jupyter-widgets/controls"
          }
        },
        "398f1b0e26444edbb4bb19a1dfce291a": {
          "model_module": "@jupyter-widgets/base",
          "model_name": "LayoutModel",
          "state": {
            "_view_name": "LayoutView",
            "grid_template_rows": null,
            "right": null,
            "justify_content": null,
            "_view_module": "@jupyter-widgets/base",
            "overflow": null,
            "_model_module_version": "1.2.0",
            "_view_count": null,
            "flex_flow": null,
            "width": null,
            "min_width": null,
            "border": null,
            "align_items": null,
            "bottom": null,
            "_model_module": "@jupyter-widgets/base",
            "top": null,
            "grid_column": null,
            "overflow_y": null,
            "overflow_x": null,
            "grid_auto_flow": null,
            "grid_area": null,
            "grid_template_columns": null,
            "flex": null,
            "_model_name": "LayoutModel",
            "justify_items": null,
            "grid_row": null,
            "max_height": null,
            "align_content": null,
            "visibility": null,
            "align_self": null,
            "height": null,
            "min_height": null,
            "padding": null,
            "grid_auto_rows": null,
            "grid_gap": null,
            "max_width": null,
            "order": null,
            "_view_module_version": "1.2.0",
            "grid_template_areas": null,
            "object_position": null,
            "object_fit": null,
            "grid_auto_columns": null,
            "margin": null,
            "display": null,
            "left": null
          }
        },
        "dcc11e93cd25439187db65036328895f": {
          "model_module": "@jupyter-widgets/controls",
          "model_name": "DescriptionStyleModel",
          "state": {
            "_view_name": "StyleView",
            "_model_name": "DescriptionStyleModel",
            "description_width": "",
            "_view_module": "@jupyter-widgets/base",
            "_model_module_version": "1.5.0",
            "_view_count": null,
            "_view_module_version": "1.2.0",
            "_model_module": "@jupyter-widgets/controls"
          }
        },
        "5e62344adc23428085175a40df2610a0": {
          "model_module": "@jupyter-widgets/base",
          "model_name": "LayoutModel",
          "state": {
            "_view_name": "LayoutView",
            "grid_template_rows": null,
            "right": null,
            "justify_content": null,
            "_view_module": "@jupyter-widgets/base",
            "overflow": null,
            "_model_module_version": "1.2.0",
            "_view_count": null,
            "flex_flow": null,
            "width": null,
            "min_width": null,
            "border": null,
            "align_items": null,
            "bottom": null,
            "_model_module": "@jupyter-widgets/base",
            "top": null,
            "grid_column": null,
            "overflow_y": null,
            "overflow_x": null,
            "grid_auto_flow": null,
            "grid_area": null,
            "grid_template_columns": null,
            "flex": null,
            "_model_name": "LayoutModel",
            "justify_items": null,
            "grid_row": null,
            "max_height": null,
            "align_content": null,
            "visibility": null,
            "align_self": null,
            "height": null,
            "min_height": null,
            "padding": null,
            "grid_auto_rows": null,
            "grid_gap": null,
            "max_width": null,
            "order": null,
            "_view_module_version": "1.2.0",
            "grid_template_areas": null,
            "object_position": null,
            "object_fit": null,
            "grid_auto_columns": null,
            "margin": null,
            "display": null,
            "left": null
          }
        }
      }
    }
  },
  "cells": [
    {
      "cell_type": "markdown",
      "metadata": {
        "id": "3qDryPDyq88b"
      },
      "source": [
        "Get Packages"
      ]
    },
    {
      "cell_type": "code",
      "metadata": {
        "id": "CS5z204yq6p0"
      },
      "source": [
        "from __future__ import print_function\r\n",
        "import torch\r\n",
        "import torch.nn as nn\r\n",
        "import torch.nn.functional as F\r\n",
        "import torch.optim as optim\r\n",
        "from torchvision import datasets, transforms"
      ],
      "execution_count": 2,
      "outputs": []
    },
    {
      "cell_type": "code",
      "metadata": {
        "id": "UEXZsgEErUs8"
      },
      "source": [
        "use_cuda = torch.cuda.is_available()\r\n",
        "device = torch.device(\"cuda\" if use_cuda else \"cpu\")"
      ],
      "execution_count": 3,
      "outputs": []
    },
    {
      "cell_type": "markdown",
      "metadata": {
        "id": "WXAwI4JofJ2L"
      },
      "source": [
        "Get Data Set. Make the Required Transformation"
      ]
    },
    {
      "cell_type": "code",
      "metadata": {
        "id": "SpakQn4PfMSq"
      },
      "source": [
        "train_transforms = transforms.Compose([\r\n",
        "                                        transforms.Resize((28, 28)),\r\n",
        "                                       #transforms.ColorJitter(brightness=0.10, contrast=0.1, saturation=0.10, hue=0.1),\r\n",
        "                                       transforms.RandomRotation((-10.0, 10.0), fill=(1,)),\r\n",
        "                                       transforms.ToTensor(),\r\n",
        "                                       transforms.Normalize((0.1307,), (0.3081,)) # The mean and std have to be sequences (e.g., tuples), therefore you should add a comma after the values. \r\n",
        "                                       # Note the difference between (0.1307) and (0.1307,)\r\n",
        "                                       ])\r\n",
        "\r\n",
        "# Test Phase transformations\r\n",
        "test_transforms = transforms.Compose([\r\n",
        "                                        transforms.Resize((28, 28)),\r\n",
        "                                        #transforms.ColorJitter(brightness=0.10, contrast=0.1, saturation=0.10, hue=0.1),\r\n",
        "                                       transforms.ToTensor(),\r\n",
        "                                       transforms.Normalize((0.1307,), (0.3081,))\r\n",
        "                                       ])"
      ],
      "execution_count": 4,
      "outputs": []
    },
    {
      "cell_type": "code",
      "metadata": {
        "id": "0nS0ryqRlHOZ",
        "colab": {
          "base_uri": "https://localhost:8080/",
          "height": 395,
          "referenced_widgets": [
            "eb0ec5f8417a4ccd96229fd92e077a73",
            "8be42b9ce1e048b5947a0a2c0d7cbe29",
            "dbdd6f79c79e4046aa64b53f150c66d3",
            "26ce4a5db87e41f2ac90064649c55428",
            "d4c197fdb5434228ba48e3e99a11692d",
            "44f3cd07e4c3450b83c4ee05075d9f61",
            "31ed8ed75e704e28a08419ce999a9a1e",
            "a06820f297b343e0ae23313cb6310fc5",
            "ac8a0eb977a6433d8be52ffe72665cc0",
            "62956f1b2d0f42b183592953cf865fcd",
            "bc1e0c3aab534cf9af70c9548263d223",
            "1f883f5c37c24b058b0699fddc19f7a5",
            "487fcb24bc58493fb9c5b61fdccf81ba",
            "e82c751c129e41fba2b8b1cb0f72eed4",
            "28685f81e5eb48a8afa1ddc496a8dbfc",
            "6df6f1894da34d749138ac59f5642419",
            "3f5ae5f1dad04de69db5da9fd6924d4d",
            "d11745255acb4ca0976ac7312e6df5aa",
            "3c7b0f66a2bb4d8a91d1a3c2a3fabde3",
            "ecba06aec3b14b7c9cc48e6b989bff03",
            "28aa4ea71e9f4f098f0fda688833edcf",
            "81d66350674842748c5ca69d050512f1",
            "3786cf2983224a55bf91133c6845950d",
            "a840f99a229c455e9d25e9d5d4fe5d60",
            "e8b78be85a8549f48e24841609592ebb",
            "0b9dba475e7e41b0bb6437845da4c0d5",
            "676cc543ba874a17adbe60ca18e581b9",
            "c10200562f7b42768c389a7e567c0a7a",
            "a206c1482f454abe9d24230fdf4bd5dd",
            "398f1b0e26444edbb4bb19a1dfce291a",
            "dcc11e93cd25439187db65036328895f",
            "5e62344adc23428085175a40df2610a0"
          ]
        },
        "outputId": "ed5aa298-bc83-4311-85de-b4fa17a01f10"
      },
      "source": [
        "train = datasets.MNIST('./data', train=True, download=True, transform=train_transforms)\r\n",
        "test = datasets.MNIST('./data', train=False, download=True, transform=test_transforms)"
      ],
      "execution_count": 5,
      "outputs": [
        {
          "output_type": "stream",
          "text": [
            "Downloading http://yann.lecun.com/exdb/mnist/train-images-idx3-ubyte.gz to ./data/MNIST/raw/train-images-idx3-ubyte.gz\n"
          ],
          "name": "stdout"
        },
        {
          "output_type": "display_data",
          "data": {
            "application/vnd.jupyter.widget-view+json": {
              "model_id": "eb0ec5f8417a4ccd96229fd92e077a73",
              "version_minor": 0,
              "version_major": 2
            },
            "text/plain": [
              "HBox(children=(FloatProgress(value=1.0, bar_style='info', max=1.0), HTML(value='')))"
            ]
          },
          "metadata": {
            "tags": []
          }
        },
        {
          "output_type": "stream",
          "text": [
            "Extracting ./data/MNIST/raw/train-images-idx3-ubyte.gz to ./data/MNIST/raw\n",
            "Downloading http://yann.lecun.com/exdb/mnist/train-labels-idx1-ubyte.gz to ./data/MNIST/raw/train-labels-idx1-ubyte.gz\n"
          ],
          "name": "stdout"
        },
        {
          "output_type": "display_data",
          "data": {
            "application/vnd.jupyter.widget-view+json": {
              "model_id": "ac8a0eb977a6433d8be52ffe72665cc0",
              "version_minor": 0,
              "version_major": 2
            },
            "text/plain": [
              "HBox(children=(FloatProgress(value=1.0, bar_style='info', max=1.0), HTML(value='')))"
            ]
          },
          "metadata": {
            "tags": []
          }
        },
        {
          "output_type": "stream",
          "text": [
            "Extracting ./data/MNIST/raw/train-labels-idx1-ubyte.gz to ./data/MNIST/raw\n",
            "Downloading http://yann.lecun.com/exdb/mnist/t10k-images-idx3-ubyte.gz to ./data/MNIST/raw/t10k-images-idx3-ubyte.gz\n",
            "\n"
          ],
          "name": "stdout"
        },
        {
          "output_type": "display_data",
          "data": {
            "application/vnd.jupyter.widget-view+json": {
              "model_id": "3f5ae5f1dad04de69db5da9fd6924d4d",
              "version_minor": 0,
              "version_major": 2
            },
            "text/plain": [
              "HBox(children=(FloatProgress(value=1.0, bar_style='info', max=1.0), HTML(value='')))"
            ]
          },
          "metadata": {
            "tags": []
          }
        },
        {
          "output_type": "stream",
          "text": [
            "Extracting ./data/MNIST/raw/t10k-images-idx3-ubyte.gz to ./data/MNIST/raw\n",
            "Downloading http://yann.lecun.com/exdb/mnist/t10k-labels-idx1-ubyte.gz to ./data/MNIST/raw/t10k-labels-idx1-ubyte.gz\n"
          ],
          "name": "stdout"
        },
        {
          "output_type": "display_data",
          "data": {
            "application/vnd.jupyter.widget-view+json": {
              "model_id": "e8b78be85a8549f48e24841609592ebb",
              "version_minor": 0,
              "version_major": 2
            },
            "text/plain": [
              "HBox(children=(FloatProgress(value=1.0, bar_style='info', max=1.0), HTML(value='')))"
            ]
          },
          "metadata": {
            "tags": []
          }
        },
        {
          "output_type": "stream",
          "text": [
            "Extracting ./data/MNIST/raw/t10k-labels-idx1-ubyte.gz to ./data/MNIST/raw\n",
            "Processing...\n"
          ],
          "name": "stdout"
        },
        {
          "output_type": "stream",
          "text": [
            "/usr/local/lib/python3.6/dist-packages/torchvision/datasets/mnist.py:480: UserWarning: The given NumPy array is not writeable, and PyTorch does not support non-writeable tensors. This means you can write to the underlying (supposedly non-writeable) NumPy array using the tensor. You may want to copy the array to protect its data or make it writeable before converting it to a tensor. This type of warning will be suppressed for the rest of this program. (Triggered internally at  /pytorch/torch/csrc/utils/tensor_numpy.cpp:141.)\n",
            "  return torch.from_numpy(parsed.astype(m[2], copy=False)).view(*s)\n"
          ],
          "name": "stderr"
        },
        {
          "output_type": "stream",
          "text": [
            "Done!\n"
          ],
          "name": "stdout"
        }
      ]
    },
    {
      "cell_type": "markdown",
      "metadata": {
        "id": "iZy8FwlohEpF"
      },
      "source": [
        "Data Loading"
      ]
    },
    {
      "cell_type": "code",
      "metadata": {
        "id": "rIPxSudMhDaF"
      },
      "source": [
        "def dataloading(IsGBN):\r\n",
        "  train = datasets.MNIST('./data', train=True, download=True, transform=train_transforms)\r\n",
        "  test = datasets.MNIST('./data', train=False, download=True, transform=test_transforms)\r\n",
        "\r\n",
        "  SEED = 1\r\n",
        "# CUDA?\r\n",
        "  use_cuda = torch.cuda.is_available()\r\n",
        "  print(\"CUDA Available?\", use_cuda)\r\n",
        "\r\n",
        "\r\n",
        "  torch.manual_seed(SEED)\r\n",
        "\r\n",
        "  if use_cuda:\r\n",
        "    torch.cuda.manual_seed(SEED)\r\n",
        "\r\n",
        "  # dataloader arguments - something you'll fetch these from cmdprmt\r\n",
        "  if IsGBN == 'GBN':\r\n",
        "    dataloader_args = dict(shuffle=True, batch_size= 128, num_workers=4, pin_memory=True) if use_cuda else dict(shuffle=True, batch_size=128)\r\n",
        "  else:\r\n",
        "    dataloader_args = dict(shuffle=True, batch_size= 32, num_workers=4, pin_memory=True) if use_cuda else dict(shuffle=True, batch_size= 32)\r\n",
        "\r\n",
        "  # train dataloader\r\n",
        "  train_loader = torch.utils.data.DataLoader(train, **dataloader_args)\r\n",
        "\r\n",
        "  # test dataloader\r\n",
        "  test_loader = torch.utils.data.DataLoader(test, **dataloader_args)\r\n",
        "\r\n",
        "  return train_loader,test_loader\r\n",
        "\r\n",
        " \r\n"
      ],
      "execution_count": 6,
      "outputs": []
    },
    {
      "cell_type": "code",
      "metadata": {
        "colab": {
          "base_uri": "https://localhost:8080/"
        },
        "id": "QS9uRBrokREq",
        "outputId": "5d934754-ef99-4411-b107-fc3962a01fa0"
      },
      "source": [
        "check_train, check_test = dataloading('BN')\r\n",
        "dataiter = iter(check_train)\r\n",
        "images, labels = dataiter.next()\r\n",
        "print((images.shape))\r\n",
        "print(len(check_train))"
      ],
      "execution_count": 7,
      "outputs": [
        {
          "output_type": "stream",
          "text": [
            "\n",
            "CUDA Available? False\n",
            "torch.Size([32, 1, 28, 28])\n",
            "1875\n"
          ],
          "name": "stdout"
        }
      ]
    },
    {
      "cell_type": "markdown",
      "metadata": {
        "id": "JWtStSsgmMQh"
      },
      "source": [
        "Set-up **Model**"
      ]
    },
    {
      "cell_type": "code",
      "metadata": {
        "colab": {
          "base_uri": "https://localhost:8080/"
        },
        "id": "ENiI8p6kmTX5",
        "outputId": "4d22146b-ae29-4aca-e2cc-b0d20a4f1c18"
      },
      "source": [
        "dropout_value = 0.0\r\n",
        "class Net(nn.Module):\r\n",
        "    def __init__(self):\r\n",
        "        super(Net, self).__init__()\r\n",
        "        self.convblock1 = nn.Sequential(nn.Conv2d(in_channels=1, out_channels=10, kernel_size=(3, 3), padding=1, bias=False),nn.ReLU(),nn.BatchNorm2d(10), nn.Dropout(dropout_value)) \r\n",
        "        self.convblock2 = nn.Sequential(nn.Conv2d(in_channels=10, out_channels=16, kernel_size=(3, 3), padding=1, bias=False),nn.ReLU(),nn.BatchNorm2d(16), nn.Dropout(dropout_value))\r\n",
        "        self.convblock3 = nn.Sequential(nn.Conv2d(in_channels=16, out_channels=10, kernel_size=(1, 1), bias=False))\r\n",
        "        self.pool1 = nn.MaxPool2d(2,2)\r\n",
        "        \r\n",
        "        \r\n",
        "        self.convblock4 = nn.Sequential(nn.Conv2d(in_channels= 10, out_channels= 16, kernel_size=(3, 3), padding=1, bias=False), nn.ReLU(),nn.BatchNorm2d(16), nn.Dropout(dropout_value))\r\n",
        "        self.convblock5 = nn.Sequential(nn.Conv2d(in_channels=16, out_channels= 20, kernel_size=(3, 3), padding=1, bias=False),nn.ReLU(),nn.BatchNorm2d(20), nn.Dropout(dropout_value))\r\n",
        "        self.convblock6 = nn.Sequential(nn.Conv2d(in_channels=20, out_channels=10, kernel_size=(1, 1), bias=False))\r\n",
        "        self.pool2 = nn.MaxPool2d(2, 2)\r\n",
        "        self.convblock7 = nn.Sequential(nn.Conv2d(in_channels=10, out_channels= 16, kernel_size=(3, 3), bias=False),nn.ReLU(),nn.BatchNorm2d(16), nn.Dropout(dropout_value))\r\n",
        "        self.gap = nn.Sequential(nn.AvgPool2d(kernel_size=5))\r\n",
        "        self.convblock8 = nn.Sequential(nn.Conv2d(in_channels=16, out_channels=10, kernel_size=(1, 1), bias=False))\r\n",
        "        \r\n",
        "         \r\n",
        "\r\n",
        "    def forward(self, x):\r\n",
        "        x = self.convblock1(x) \r\n",
        "        x = self.convblock2(x) \r\n",
        "        x = self.convblock3(x)\r\n",
        "        x = self.pool1(x)\r\n",
        "        x = self.convblock4(x) \r\n",
        "        x = self.convblock5(x)\r\n",
        "        x = self.convblock6(x)\r\n",
        "        x = self.pool2(x)\r\n",
        "        x = self.convblock7(x)\r\n",
        "        x = self.gap(x)        \r\n",
        "        x = self.convblock8(x)\r\n",
        "        x = x.view(-1, 10)\r\n",
        "        return F.log_softmax(x)\r\n",
        "\r\n",
        "from torchsummary import summary\r\n",
        "use_cuda = torch.cuda.is_available()\r\n",
        "device = torch.device(\"cuda\" if use_cuda else \"cpu\")\r\n",
        "print(device)\r\n",
        "modelBN = Net().to(device)\r\n",
        "#modelGBN = Net().to(devide)\r\n",
        "summary(modelBN, input_size=(1, 28, 28))"
      ],
      "execution_count": 8,
      "outputs": [
        {
          "output_type": "stream",
          "text": [
            "cpu\n",
            "----------------------------------------------------------------\n",
            "        Layer (type)               Output Shape         Param #\n",
            "================================================================\n",
            "            Conv2d-1           [-1, 10, 28, 28]              90\n",
            "              ReLU-2           [-1, 10, 28, 28]               0\n",
            "       BatchNorm2d-3           [-1, 10, 28, 28]              20\n",
            "           Dropout-4           [-1, 10, 28, 28]               0\n",
            "            Conv2d-5           [-1, 16, 28, 28]           1,440\n",
            "              ReLU-6           [-1, 16, 28, 28]               0\n",
            "       BatchNorm2d-7           [-1, 16, 28, 28]              32\n",
            "           Dropout-8           [-1, 16, 28, 28]               0\n",
            "            Conv2d-9           [-1, 10, 28, 28]             160\n",
            "        MaxPool2d-10           [-1, 10, 14, 14]               0\n",
            "           Conv2d-11           [-1, 16, 14, 14]           1,440\n",
            "             ReLU-12           [-1, 16, 14, 14]               0\n",
            "      BatchNorm2d-13           [-1, 16, 14, 14]              32\n",
            "          Dropout-14           [-1, 16, 14, 14]               0\n",
            "           Conv2d-15           [-1, 20, 14, 14]           2,880\n",
            "             ReLU-16           [-1, 20, 14, 14]               0\n",
            "      BatchNorm2d-17           [-1, 20, 14, 14]              40\n",
            "          Dropout-18           [-1, 20, 14, 14]               0\n",
            "           Conv2d-19           [-1, 10, 14, 14]             200\n",
            "        MaxPool2d-20             [-1, 10, 7, 7]               0\n",
            "           Conv2d-21             [-1, 16, 5, 5]           1,440\n",
            "             ReLU-22             [-1, 16, 5, 5]               0\n",
            "      BatchNorm2d-23             [-1, 16, 5, 5]              32\n",
            "          Dropout-24             [-1, 16, 5, 5]               0\n",
            "        AvgPool2d-25             [-1, 16, 1, 1]               0\n",
            "           Conv2d-26             [-1, 10, 1, 1]             160\n",
            "================================================================\n",
            "Total params: 7,966\n",
            "Trainable params: 7,966\n",
            "Non-trainable params: 0\n",
            "----------------------------------------------------------------\n",
            "Input size (MB): 0.00\n",
            "Forward/backward pass size (MB): 0.94\n",
            "Params size (MB): 0.03\n",
            "Estimated Total Size (MB): 0.98\n",
            "----------------------------------------------------------------\n"
          ],
          "name": "stdout"
        },
        {
          "output_type": "stream",
          "text": [
            "/usr/local/lib/python3.6/dist-packages/ipykernel_launcher.py:34: UserWarning: Implicit dimension choice for log_softmax has been deprecated. Change the call to include dim=X as an argument.\n"
          ],
          "name": "stderr"
        }
      ]
    },
    {
      "cell_type": "code",
      "metadata": {
        "id": "EdvDrhosiuSR"
      },
      "source": [
        "class BatchNorm(nn.BatchNorm2d):\r\n",
        "    def __init__(self, num_features, eps=1e-05, momentum=0.1, weight=True, bias=True):\r\n",
        "        super().__init__(num_features, eps=eps, momentum=momentum)\r\n",
        "        self.weight.data.fill_(1.0)\r\n",
        "        self.bias.data.fill_(0.0)\r\n",
        "        self.weight.requires_grad = weight\r\n",
        "        self.bias.requires_grad = bias\r\n",
        "\r\n",
        "\r\n",
        "class GhostBatchNorm(BatchNorm):\r\n",
        "    def __init__(self, num_features, num_splits, **kw):\r\n",
        "        super().__init__(num_features, **kw)\r\n",
        "        self.num_splits = num_splits\r\n",
        "        self.register_buffer('running_mean', torch.zeros(num_features * self.num_splits))\r\n",
        "        self.register_buffer('running_var', torch.ones(num_features * self.num_splits))\r\n",
        "\r\n",
        "    def train(self, mode=True):\r\n",
        "        if (self.training is True) and (mode is False):  # lazily collate stats when we are going to use them\r\n",
        "            self.running_mean = torch.mean(self.running_mean.view(self.num_splits, self.num_features), dim=0).repeat(\r\n",
        "                self.num_splits)\r\n",
        "            self.running_var = torch.mean(self.running_var.view(self.num_splits, self.num_features), dim=0).repeat(\r\n",
        "                self.num_splits)\r\n",
        "        return super().train(mode)\r\n",
        "\r\n",
        "    def forward(self, input):\r\n",
        "        N, C, H, W = input.shape\r\n",
        "        if self.training or not self.track_running_stats:\r\n",
        "            return F.batch_norm(\r\n",
        "                input.view(-1, C * self.num_splits, H, W), self.running_mean, self.running_var,\r\n",
        "                self.weight.repeat(self.num_splits), self.bias.repeat(self.num_splits),\r\n",
        "                True, self.momentum, self.eps).view(N, C, H, W)\r\n",
        "        else:\r\n",
        "            return F.batch_norm(\r\n",
        "                input, self.running_mean[:self.num_features], self.running_var[:self.num_features],\r\n",
        "                self.weight, self.bias, False, self.momentum, self.eps)"
      ],
      "execution_count": 9,
      "outputs": []
    },
    {
      "cell_type": "code",
      "metadata": {
        "colab": {
          "base_uri": "https://localhost:8080/"
        },
        "id": "U_SlWoIui065",
        "outputId": "6a8ec5d6-2ca5-4111-a0f5-6b8bca4e48fa"
      },
      "source": [
        "dropout_value = 0.0\r\n",
        "class NetGBN(nn.Module):\r\n",
        "    def __init__(self):\r\n",
        "        super(NetGBN, self).__init__()\r\n",
        "        self.convblock1 = nn.Sequential(nn.Conv2d(in_channels=1, out_channels=10, kernel_size=(3, 3), padding=1, bias=False),nn.ReLU(),GhostBatchNorm(10,2), nn.Dropout(dropout_value)) \r\n",
        "        self.convblock2 = nn.Sequential(nn.Conv2d(in_channels=10, out_channels=16, kernel_size=(3, 3), padding=1, bias=False),nn.ReLU(),GhostBatchNorm(16,2), nn.Dropout(dropout_value))\r\n",
        "        self.convblock3 = nn.Sequential(nn.Conv2d(in_channels=16, out_channels=10, kernel_size=(1, 1), bias=False))\r\n",
        "        self.pool1 = nn.MaxPool2d(2,2)\r\n",
        "        \r\n",
        "        \r\n",
        "        self.convblock4 = nn.Sequential(nn.Conv2d(in_channels= 10, out_channels= 16, kernel_size=(3, 3), padding=1, bias=False), nn.ReLU(),GhostBatchNorm(16,2), nn.Dropout(dropout_value))\r\n",
        "        self.convblock5 = nn.Sequential(nn.Conv2d(in_channels=16, out_channels= 20, kernel_size=(3, 3), padding=1, bias=False),nn.ReLU(),GhostBatchNorm(20,2), nn.Dropout(dropout_value))\r\n",
        "        self.convblock6 = nn.Sequential(nn.Conv2d(in_channels=20, out_channels=10, kernel_size=(1, 1), bias=False))\r\n",
        "        self.pool2 = nn.MaxPool2d(2, 2)\r\n",
        "        self.convblock7 = nn.Sequential(nn.Conv2d(in_channels=10, out_channels= 16, kernel_size=(3, 3), bias=False),nn.ReLU(),GhostBatchNorm(16,2), nn.Dropout(dropout_value))\r\n",
        "        self.gap = nn.Sequential(nn.AvgPool2d(kernel_size=5))\r\n",
        "        self.convblock8 = nn.Sequential(nn.Conv2d(in_channels=16, out_channels=10, kernel_size=(1, 1), bias=False))\r\n",
        "        \r\n",
        "         \r\n",
        "\r\n",
        "    def forward(self, x):\r\n",
        "        x = self.convblock1(x) \r\n",
        "        x = self.convblock2(x) \r\n",
        "        x = self.convblock3(x)\r\n",
        "        x = self.pool1(x)\r\n",
        "        x = self.convblock4(x) \r\n",
        "        x = self.convblock5(x)\r\n",
        "        x = self.convblock6(x)\r\n",
        "        x = self.pool2(x)\r\n",
        "        x = self.convblock7(x)\r\n",
        "        x = self.gap(x)        \r\n",
        "        x = self.convblock8(x)\r\n",
        "        x = x.view(-1, 10)\r\n",
        "        return F.log_softmax(x)\r\n",
        "  \r\n",
        "from torchsummary import summary\r\n",
        "use_cuda = torch.cuda.is_available()\r\n",
        "device = torch.device(\"cuda\" if use_cuda else \"cpu\")\r\n",
        "print(device)\r\n",
        "modelGBN = NetGBN().to(device)\r\n",
        "#modelGBN = Net().to(devide)\r\n",
        "summary(modelGBN, input_size=(1, 28, 28))\r\n"
      ],
      "execution_count": 10,
      "outputs": [
        {
          "output_type": "stream",
          "text": [
            "cpu\n",
            "----------------------------------------------------------------\n",
            "        Layer (type)               Output Shape         Param #\n",
            "================================================================\n",
            "            Conv2d-1           [-1, 10, 28, 28]              90\n",
            "              ReLU-2           [-1, 10, 28, 28]               0\n",
            "    GhostBatchNorm-3           [-1, 10, 28, 28]              20\n",
            "           Dropout-4           [-1, 10, 28, 28]               0\n",
            "            Conv2d-5           [-1, 16, 28, 28]           1,440\n",
            "              ReLU-6           [-1, 16, 28, 28]               0\n",
            "    GhostBatchNorm-7           [-1, 16, 28, 28]              32\n",
            "           Dropout-8           [-1, 16, 28, 28]               0\n",
            "            Conv2d-9           [-1, 10, 28, 28]             160\n",
            "        MaxPool2d-10           [-1, 10, 14, 14]               0\n",
            "           Conv2d-11           [-1, 16, 14, 14]           1,440\n",
            "             ReLU-12           [-1, 16, 14, 14]               0\n",
            "   GhostBatchNorm-13           [-1, 16, 14, 14]              32\n",
            "          Dropout-14           [-1, 16, 14, 14]               0\n",
            "           Conv2d-15           [-1, 20, 14, 14]           2,880\n",
            "             ReLU-16           [-1, 20, 14, 14]               0\n",
            "   GhostBatchNorm-17           [-1, 20, 14, 14]              40\n",
            "          Dropout-18           [-1, 20, 14, 14]               0\n",
            "           Conv2d-19           [-1, 10, 14, 14]             200\n",
            "        MaxPool2d-20             [-1, 10, 7, 7]               0\n",
            "           Conv2d-21             [-1, 16, 5, 5]           1,440\n",
            "             ReLU-22             [-1, 16, 5, 5]               0\n",
            "   GhostBatchNorm-23             [-1, 16, 5, 5]              32\n",
            "          Dropout-24             [-1, 16, 5, 5]               0\n",
            "        AvgPool2d-25             [-1, 16, 1, 1]               0\n",
            "           Conv2d-26             [-1, 10, 1, 1]             160\n",
            "================================================================\n",
            "Total params: 7,966\n",
            "Trainable params: 7,966\n",
            "Non-trainable params: 0\n",
            "----------------------------------------------------------------\n",
            "Input size (MB): 0.00\n",
            "Forward/backward pass size (MB): 0.94\n",
            "Params size (MB): 0.03\n",
            "Estimated Total Size (MB): 0.98\n",
            "----------------------------------------------------------------\n"
          ],
          "name": "stdout"
        },
        {
          "output_type": "stream",
          "text": [
            "/usr/local/lib/python3.6/dist-packages/ipykernel_launcher.py:34: UserWarning: Implicit dimension choice for log_softmax has been deprecated. Change the call to include dim=X as an argument.\n"
          ],
          "name": "stderr"
        }
      ]
    },
    {
      "cell_type": "markdown",
      "metadata": {
        "id": "82jxy1uKnPLw"
      },
      "source": [
        "Set-up Train and Test Model"
      ]
    },
    {
      "cell_type": "code",
      "metadata": {
        "id": "wa7wKjiHs4HF"
      },
      "source": [
        "from tqdm import tqdm\r\n",
        "\r\n",
        "\r\n",
        "\r\n",
        "\r\n",
        "\r\n",
        "misclassified=[]\r\n",
        "lambda1 = 0.0002\r\n",
        "lambda2 = 0.0001\r\n",
        "\r\n",
        "def train(model, device, train_loader, optimizer, epoch, reg):\r\n",
        "  model.train()\r\n",
        "  pbar = tqdm(train_loader)\r\n",
        "  correct = 0\r\n",
        "  processed = 0\r\n",
        "  train_loss = 0\r\n",
        "  for batch_idx, (data, target) in enumerate(pbar):\r\n",
        "    # get full data of one batch\r\n",
        "    data, target = data.to(device), target.to(device)\r\n",
        "\r\n",
        "    # Initgrad\r\n",
        "    optimizer.zero_grad()\r\n",
        "    y_pred = model(data)\r\n",
        "\r\n",
        "    # Calculate loss for that batch\r\n",
        "    loss = F.nll_loss(y_pred, target)\r\n",
        "   \r\n",
        "    regularization_loss1 = 0\r\n",
        "    regularization_loss2 = 0\r\n",
        "\r\n",
        "    #Update loss based on regularization\r\n",
        "    if reg==\"None\":\r\n",
        "      loss = loss\r\n",
        "      train_loss += loss.item()\r\n",
        "    elif reg==\"L1\":\r\n",
        "      for param in model.parameters():\r\n",
        "        regularization_loss1 += torch.norm(param,1)\r\n",
        "      loss += (lambda1*regularization_loss1)\r\n",
        "      train_loss += loss.item()\r\n",
        "      \r\n",
        "    elif reg==\"L2\":\r\n",
        "      for param in model.parameters():\r\n",
        "        regularization_loss2 += torch.norm(param,2)\r\n",
        "      loss += (lambda2*regularization_loss2)\r\n",
        "      train_loss += loss.item()\r\n",
        "      \r\n",
        "    else:\r\n",
        "      for param in model.parameters():\r\n",
        "        regularization_loss1 += torch.norm(param,1)\r\n",
        "        regularization_loss2 += torch.norm(param,2)\r\n",
        "      loss += (lambda1*regularization_loss1+lambda2*regularization_loss2)\r\n",
        "      train_loss += loss.item()\r\n",
        "      \r\n",
        "    # Backpropagation an optimization for that batch\r\n",
        "    loss.backward()\r\n",
        "    optimizer.step()\r\n",
        "\r\n",
        "\r\n",
        "    # Update pbar-tqdm\r\n",
        "    \r\n",
        "    pred = y_pred.argmax(dim=1, keepdim=True)  # get the index of the max log-probability\r\n",
        "    correct += pred.eq(target.view_as(pred)).sum().item()\r\n",
        "    processed += len(data)\r\n",
        "\r\n",
        "    pbar.set_description(desc= f'Loss={loss.item()} Batch_id={batch_idx} Accuracy={100*correct/processed:0.2f}')\r\n",
        "  \r\n",
        "  train_loss /= len(train_loader.dataset)\r\n",
        "  train_losses.append(train_loss)\r\n",
        "  train_acc.append(100*correct/processed)\r\n",
        "    \r\n",
        "\r\n",
        "\r\n",
        "\r\n",
        "def test(model, device, test_loader, epoch):\r\n",
        "    model.eval()\r\n",
        "    test_loss = 0\r\n",
        "    correct = 0\r\n",
        "    with torch.no_grad():\r\n",
        "        for data, target in test_loader:\r\n",
        "            data, target = data.to(device), target.to(device)\r\n",
        "            output = model(data)\r\n",
        "            test_loss += F.nll_loss(output, target, reduction='sum').item()  # sum up batch loss\r\n",
        "            pred = output.argmax(dim=1, keepdim=True)  # get the index of the max log-probability\r\n",
        "            correct += pred.eq(target.view_as(pred)).sum().item()\r\n",
        "\r\n",
        "            if epoch == 23 :\r\n",
        "              temp = pred.eq(target.view_as(pred)).sum().item()\r\n",
        "              temp1 = target.view_as(pred)\r\n",
        "              if(len(misclassified)<25):\r\n",
        "                #print('Check missclass')\r\n",
        "                for i in range(len(temp1)):\r\n",
        "                  if(temp1[i]!=pred[i]):\r\n",
        "                    misclassified.append([data[i],temp1[i],pred[i]])\r\n",
        "                  if(len(misclassified)==25):\r\n",
        "                    break\r\n",
        "\r\n",
        "    test_loss /= len(test_loader.dataset)\r\n",
        "    test_losses.append(test_loss)\r\n",
        "\r\n",
        "    print('\\nTest set: Average loss: {:.4f}, Test_Accuracy: {}/{} ({:.2f}%)\\n'.format(\r\n",
        "        test_loss, correct, len(test_loader.dataset),\r\n",
        "        100. * correct / len(test_loader.dataset)))\r\n",
        "    \r\n",
        "    test_acc.append((100. * correct / len(test_loader.dataset)))\r\n",
        "\r\n",
        "\r\n"
      ],
      "execution_count": 11,
      "outputs": []
    },
    {
      "cell_type": "markdown",
      "metadata": {
        "id": "nnDV1scAx3tQ"
      },
      "source": [
        "Run Model"
      ]
    },
    {
      "cell_type": "code",
      "metadata": {
        "colab": {
          "base_uri": "https://localhost:8080/"
        },
        "id": "PXPuTycpx2Rl",
        "outputId": "ef8a6d1b-52d4-40cf-f0e9-c203ec7afec1"
      },
      "source": [
        "from torch.optim.lr_scheduler import StepLR\r\n",
        "import copy\r\n",
        "torch.manual_seed(2)\r\n",
        "\r\n",
        "model_type = {}\r\n",
        "validation_acc = {}\r\n",
        "validation_loss = {}\r\n",
        "train_lossmat = {}\r\n",
        "train_accmat = {}\r\n",
        "missclass = {}\r\n",
        "\r\n",
        "\r\n",
        "\r\n",
        "\r\n",
        "  \r\n",
        "# Adding list as value \r\n",
        "model_type[\"BNL1\"] = ['BN', 'L1']\r\n",
        "model_type[\"BNL2\"] = ['BN', 'L2']\r\n",
        "model_type[\"BNL1L2\"] = ['BN', 'All']\r\n",
        "model_type[\"GBN\"] = ['GBN', 'NRL']\r\n",
        "model_type[\"GBNL1L2\"] = ['GBN', 'ALL']\r\n",
        "\r\n",
        "use_cuda = torch.cuda.is_available()\r\n",
        "device = torch.device(\"cuda\" if use_cuda else \"cpu\")\r\n",
        "\r\n",
        "\r\n",
        "for key, value in model_type.items():\r\n",
        "  train_losses = []\r\n",
        "  test_losses = []\r\n",
        "  train_acc = []\r\n",
        "  test_acc = []\r\n",
        "  misclassified=[]\r\n",
        "  \r\n",
        "  \r\n",
        "  \r\n",
        "  if value[0] == 'BN':\r\n",
        "    model = Net().to(device)\r\n",
        "    optimizer = optim.SGD(model.parameters(), lr=0.01, momentum=0.9)\r\n",
        "    scheduler = StepLR(optimizer, step_size=4, gamma=0.1)\r\n",
        "    train_loader, test_loader = dataloading('BN')\r\n",
        "  else:\r\n",
        "    model = NetGBN().to(device)\r\n",
        "    optimizer = optim.SGD(model.parameters(), lr=0.01, momentum=0.9)\r\n",
        "    scheduler = StepLR(optimizer, step_size=4, gamma=0.1)\r\n",
        "    train_loader, test_loader = dataloading('GBN')\r\n",
        "    \r\n",
        "  EPOCHS = 25\r\n",
        "  \r\n",
        "  for epoch in range(EPOCHS):\r\n",
        "    print(\"EPOCH:\", epoch)\r\n",
        "    train(model, device, train_loader, optimizer, epoch, value[1])\r\n",
        "    test(model, device, test_loader, epoch)\r\n",
        "    scheduler.step()\r\n",
        "  validation_acc[key] = copy.deepcopy(test_acc)\r\n",
        "  validation_loss[key] = copy.deepcopy(test_losses)\r\n",
        "\r\n",
        "  train_lossmat[key] = copy.deepcopy(train_losses)\r\n",
        "  train_accmat[key] = copy.deepcopy(train_accmat)\r\n",
        "  missclass[key] = copy.deepcopy(misclassified)\r\n",
        "\r\n",
        "\r\n",
        "\r\n"
      ],
      "execution_count": null,
      "outputs": [
        {
          "output_type": "stream",
          "text": [
            "  0%|          | 0/1875 [00:00<?, ?it/s]/usr/local/lib/python3.6/dist-packages/ipykernel_launcher.py:34: UserWarning: Implicit dimension choice for log_softmax has been deprecated. Change the call to include dim=X as an argument.\n",
            "Loss=2.4120125770568848 Batch_id=1 Accuracy=6.25:   0%|          | 2/1875 [00:00<02:23, 13.06it/s]"
          ],
          "name": "stderr"
        },
        {
          "output_type": "stream",
          "text": [
            "CUDA Available? False\n",
            "EPOCH: 0\n"
          ],
          "name": "stdout"
        },
        {
          "output_type": "stream",
          "text": [
            "Loss=0.14933860301971436 Batch_id=1874 Accuracy=91.78: 100%|██████████| 1875/1875 [02:12<00:00, 14.14it/s]\n",
            "Loss=0.1845569759607315 Batch_id=1 Accuracy=98.44:   0%|          | 2/1875 [00:00<02:05, 14.91it/s]"
          ],
          "name": "stderr"
        },
        {
          "output_type": "stream",
          "text": [
            "\n",
            "Test set: Average loss: 0.0842, Test_Accuracy: 9738/10000 (97.38%)\n",
            "\n",
            "EPOCH: 1\n"
          ],
          "name": "stdout"
        },
        {
          "output_type": "stream",
          "text": [
            "Loss=0.19622327387332916 Batch_id=1874 Accuracy=96.99: 100%|██████████| 1875/1875 [02:12<00:00, 14.10it/s]\n",
            "Loss=0.24735939502716064 Batch_id=1 Accuracy=95.31:   0%|          | 2/1875 [00:00<02:06, 14.82it/s]"
          ],
          "name": "stderr"
        },
        {
          "output_type": "stream",
          "text": [
            "\n",
            "Test set: Average loss: 0.0456, Test_Accuracy: 9864/10000 (98.64%)\n",
            "\n",
            "EPOCH: 2\n"
          ],
          "name": "stdout"
        },
        {
          "output_type": "stream",
          "text": [
            "Loss=0.28823670744895935 Batch_id=1874 Accuracy=97.51: 100%|██████████| 1875/1875 [02:13<00:00, 14.02it/s]\n",
            "Loss=0.1648695319890976 Batch_id=1 Accuracy=100.00:   0%|          | 2/1875 [00:00<02:08, 14.62it/s]"
          ],
          "name": "stderr"
        },
        {
          "output_type": "stream",
          "text": [
            "\n",
            "Test set: Average loss: 0.0401, Test_Accuracy: 9861/10000 (98.61%)\n",
            "\n",
            "EPOCH: 3\n"
          ],
          "name": "stdout"
        },
        {
          "output_type": "stream",
          "text": [
            "Loss=0.3165070712566376 Batch_id=1874 Accuracy=97.58: 100%|██████████| 1875/1875 [02:13<00:00, 14.02it/s]\n",
            "Loss=0.15134771168231964 Batch_id=1 Accuracy=100.00:   0%|          | 2/1875 [00:00<02:16, 13.71it/s]"
          ],
          "name": "stderr"
        },
        {
          "output_type": "stream",
          "text": [
            "\n",
            "Test set: Average loss: 0.0509, Test_Accuracy: 9836/10000 (98.36%)\n",
            "\n",
            "EPOCH: 4\n"
          ],
          "name": "stdout"
        },
        {
          "output_type": "stream",
          "text": [
            "Loss=0.15564221143722534 Batch_id=1874 Accuracy=98.50: 100%|██████████| 1875/1875 [02:14<00:00, 13.99it/s]\n",
            "Loss=0.19119906425476074 Batch_id=1 Accuracy=100.00:   0%|          | 2/1875 [00:00<02:08, 14.59it/s]"
          ],
          "name": "stderr"
        },
        {
          "output_type": "stream",
          "text": [
            "\n",
            "Test set: Average loss: 0.0258, Test_Accuracy: 9909/10000 (99.09%)\n",
            "\n",
            "EPOCH: 5\n"
          ],
          "name": "stdout"
        },
        {
          "output_type": "stream",
          "text": [
            "Loss=0.13186272978782654 Batch_id=1874 Accuracy=98.67: 100%|██████████| 1875/1875 [02:13<00:00, 14.02it/s]\n",
            "Loss=0.12230434268712997 Batch_id=1 Accuracy=100.00:   0%|          | 2/1875 [00:00<02:19, 13.39it/s]"
          ],
          "name": "stderr"
        },
        {
          "output_type": "stream",
          "text": [
            "\n",
            "Test set: Average loss: 0.0233, Test_Accuracy: 9922/10000 (99.22%)\n",
            "\n",
            "EPOCH: 6\n"
          ],
          "name": "stdout"
        },
        {
          "output_type": "stream",
          "text": [
            "Loss=0.19262419641017914 Batch_id=1874 Accuracy=98.69: 100%|██████████| 1875/1875 [02:14<00:00, 13.97it/s]\n",
            "Loss=0.16724856197834015 Batch_id=1 Accuracy=98.44:   0%|          | 2/1875 [00:00<02:11, 14.26it/s]"
          ],
          "name": "stderr"
        },
        {
          "output_type": "stream",
          "text": [
            "\n",
            "Test set: Average loss: 0.0227, Test_Accuracy: 9926/10000 (99.26%)\n",
            "\n",
            "EPOCH: 7\n"
          ],
          "name": "stdout"
        },
        {
          "output_type": "stream",
          "text": [
            "Loss=0.1288534551858902 Batch_id=1874 Accuracy=98.79: 100%|██████████| 1875/1875 [02:13<00:00, 14.02it/s]\n",
            "Loss=0.1238546296954155 Batch_id=1 Accuracy=98.44:   0%|          | 2/1875 [00:00<02:06, 14.78it/s]"
          ],
          "name": "stderr"
        },
        {
          "output_type": "stream",
          "text": [
            "\n",
            "Test set: Average loss: 0.0229, Test_Accuracy: 9920/10000 (99.20%)\n",
            "\n",
            "EPOCH: 8\n"
          ],
          "name": "stdout"
        },
        {
          "output_type": "stream",
          "text": [
            "Loss=0.1126122996211052 Batch_id=1874 Accuracy=98.86: 100%|██████████| 1875/1875 [02:13<00:00, 14.08it/s]\n",
            "Loss=0.12111702561378479 Batch_id=1 Accuracy=100.00:   0%|          | 2/1875 [00:00<02:14, 13.92it/s]"
          ],
          "name": "stderr"
        },
        {
          "output_type": "stream",
          "text": [
            "\n",
            "Test set: Average loss: 0.0220, Test_Accuracy: 9921/10000 (99.21%)\n",
            "\n",
            "EPOCH: 9\n"
          ],
          "name": "stdout"
        },
        {
          "output_type": "stream",
          "text": [
            "Loss=0.11397148668766022 Batch_id=1874 Accuracy=98.89: 100%|██████████| 1875/1875 [02:14<00:00, 13.95it/s]\n",
            "Loss=0.12827368080615997 Batch_id=1 Accuracy=98.44:   0%|          | 2/1875 [00:00<02:09, 14.44it/s]"
          ],
          "name": "stderr"
        },
        {
          "output_type": "stream",
          "text": [
            "\n",
            "Test set: Average loss: 0.0220, Test_Accuracy: 9925/10000 (99.25%)\n",
            "\n",
            "EPOCH: 10\n"
          ],
          "name": "stdout"
        },
        {
          "output_type": "stream",
          "text": [
            "Loss=0.14414896070957184 Batch_id=1874 Accuracy=98.86: 100%|██████████| 1875/1875 [02:13<00:00, 14.06it/s]\n",
            "Loss=0.23041436076164246 Batch_id=1 Accuracy=96.88:   0%|          | 2/1875 [00:00<02:09, 14.48it/s]"
          ],
          "name": "stderr"
        },
        {
          "output_type": "stream",
          "text": [
            "\n",
            "Test set: Average loss: 0.0214, Test_Accuracy: 9925/10000 (99.25%)\n",
            "\n",
            "EPOCH: 11\n"
          ],
          "name": "stdout"
        },
        {
          "output_type": "stream",
          "text": [
            "Loss=0.1683746725320816 Batch_id=1874 Accuracy=98.89: 100%|██████████| 1875/1875 [02:14<00:00, 13.96it/s]\n"
          ],
          "name": "stderr"
        }
      ]
    },
    {
      "cell_type": "code",
      "metadata": {
        "colab": {
          "base_uri": "https://localhost:8080/"
        },
        "id": "YjnpgrrC-YhO",
        "outputId": "ac679863-ca94-443f-cd2f-55b8af241dcc"
      },
      "source": [
        "print(validation_acc['BNL1'], validation_acc['GBNL1L2'])\r\n"
      ],
      "execution_count": 37,
      "outputs": [
        {
          "output_type": "stream",
          "text": [
            "[97.77, 98.05] [95.91, 97.9]\n"
          ],
          "name": "stdout"
        }
      ]
    },
    {
      "cell_type": "code",
      "metadata": {
        "id": "C7VtU3M-O2h9"
      },
      "source": [
        "def plot_graphs(df_array, legend_arr, xlabel=\"Epochs\", ylabel=\"Accuracy\"):\r\n",
        "    fig, ax = plt.subplots(figsize=(15, 6))\r\n",
        "    for i in range(len(df_array)):\r\n",
        "        ax.plot(range(2),\r\n",
        "            df_array[i])\r\n",
        "    ax.set(xlabel=xlabel, ylabel=ylabel)\r\n",
        "    ax.legend(legend_arr)\r\n",
        "    plt.show()"
      ],
      "execution_count": 10,
      "outputs": []
    },
    {
      "cell_type": "code",
      "metadata": {
        "colab": {
          "base_uri": "https://localhost:8080/",
          "height": 342
        },
        "id": "gT1SdhbOPf2l",
        "outputId": "fd554d2b-560a-40b9-9cb7-6007dbab5be0"
      },
      "source": [
        "\r\n",
        "import matplotlib.pyplot as plt\r\n",
        "\r\n",
        "fig, axs = plt.subplots(1,2,figsize=(15,5))\r\n",
        "axs[0].set_ylim(92, 100) \r\n",
        "axs[0].plot(validation_acc['BNL1'])\r\n",
        "axs[0].plot(validation_acc['BNL2'])\r\n",
        "axs[0].plot(validation_acc['BNL1L2'])\r\n",
        "axs[0].plot(validation_acc['GBN'])\r\n",
        "axs[0].plot(validation_acc['GBN'])\r\n",
        "axs[1].plot(train_lossmat['BNL1'])\r\n",
        "axs[1].plot(train_lossmat['BNL2'])\r\n",
        "axs[1].plot(train_lossmat['BNL1L2'])\r\n",
        "axs[1].plot(train_lossmat['GBN'])\r\n",
        "axs[1].plot(train_lossmat['GBNL1L2'])\r\n",
        "axs[0].legend(['BNL1', 'BNL2', 'BNL1L2', 'GBN', 'GBNL1L2'], loc='upper left')\r\n",
        "axs[1].legend(['BNL1', 'BNL2', 'BNL1L2', 'GBN', 'GBNL1L2'], loc='upper left')"
      ],
      "execution_count": 34,
      "outputs": [
        {
          "output_type": "execute_result",
          "data": {
            "text/plain": [
              "<matplotlib.legend.Legend at 0x7fef79ffb550>"
            ]
          },
          "metadata": {
            "tags": []
          },
          "execution_count": 34
        },
        {
          "output_type": "display_data",
          "data": {
            "image/png": "[encoded data removed]",
            "text/plain": [
              "<Figure size 1080x360 with 2 Axes>"
            ]
          },
          "metadata": {
            "tags": [],
            "needs_background": "light"
          }
        }
      ]
    },
    {
      "cell_type": "code",
      "metadata": {
        "colab": {
          "base_uri": "https://localhost:8080/",
          "height": 811
        },
        "id": "JE8w8SuncwWQ",
        "outputId": "54d378de-cfec-400c-ed17-0e50c27dd07d"
      },
      "source": [
        "import matplotlib.pyplot as plt\r\n",
        "fig, axs = plt.subplots(5,5,figsize=(14,14))\r\n",
        "index=0\r\n",
        "for i in range(5):\r\n",
        "  for j in range(5):\r\n",
        "    data,t,p = missclass['GBN'][index]\r\n",
        "    axs[i,j].imshow(data.cpu().numpy().squeeze(), cmap='gray_r')\r\n",
        "    #axs[i,j].set_title(str(t.cpu().numpy())+\" \"+str(p.cpu().numpy()))\r\n",
        "    axs[i,j].annotate(\"T \"+str(t.cpu().numpy())+\" P \"+str(p.cpu().numpy()),(3,4))\r\n",
        "    index+=1;"
      ],
      "execution_count": 13,
      "outputs": [
        {
          "output_type": "display_data",
          "data": {
            "image/png": "[encoded data removed]",
            "text/plain": [
              "<Figure size 1008x1008 with 25 Axes>"
            ]
          },
          "metadata": {
            "tags": [],
            "needs_background": "light"
          }
        }
      ]
    }
  ]
}