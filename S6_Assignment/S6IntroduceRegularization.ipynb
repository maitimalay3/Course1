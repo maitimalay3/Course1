{
  "nbformat": 4,
  "nbformat_minor": 0,
  "metadata": {
    "colab": {
      "name": "S6IntroduceRegularization.ipynb",
      "provenance": [],
      "collapsed_sections": []
    },
    "kernelspec": {
      "name": "python3",
      "display_name": "Python 3"
    },
    "widgets": {
      "application/vnd.jupyter.widget-state+json": {
        "82519953ac224a949f48af357f48751d": {
          "model_module": "@jupyter-widgets/controls",
          "model_name": "HBoxModel",
          "state": {
            "_view_name": "HBoxView",
            "_dom_classes": [],
            "_model_name": "HBoxModel",
            "_view_module": "@jupyter-widgets/controls",
            "_model_module_version": "1.5.0",
            "_view_count": null,
            "_view_module_version": "1.5.0",
            "box_style": "",
            "layout": "IPY_MODEL_009d6731771f465fb55c1f9b82584fda",
            "_model_module": "@jupyter-widgets/controls",
            "children": [
              "IPY_MODEL_9a89d3888dfe4032885cc85c32f8805e",
              "IPY_MODEL_21e387efb01b45a88894762dd2d78db7"
            ]
          }
        },
        "009d6731771f465fb55c1f9b82584fda": {
          "model_module": "@jupyter-widgets/base",
          "model_name": "LayoutModel",
          "state": {
            "_view_name": "LayoutView",
            "grid_template_rows": null,
            "right": null,
            "justify_content": null,
            "_view_module": "@jupyter-widgets/base",
            "overflow": null,
            "_model_module_version": "1.2.0",
            "_view_count": null,
            "flex_flow": null,
            "width": null,
            "min_width": null,
            "border": null,
            "align_items": null,
            "bottom": null,
            "_model_module": "@jupyter-widgets/base",
            "top": null,
            "grid_column": null,
            "overflow_y": null,
            "overflow_x": null,
            "grid_auto_flow": null,
            "grid_area": null,
            "grid_template_columns": null,
            "flex": null,
            "_model_name": "LayoutModel",
            "justify_items": null,
            "grid_row": null,
            "max_height": null,
            "align_content": null,
            "visibility": null,
            "align_self": null,
            "height": null,
            "min_height": null,
            "padding": null,
            "grid_auto_rows": null,
            "grid_gap": null,
            "max_width": null,
            "order": null,
            "_view_module_version": "1.2.0",
            "grid_template_areas": null,
            "object_position": null,
            "object_fit": null,
            "grid_auto_columns": null,
            "margin": null,
            "display": null,
            "left": null
          }
        },
        "9a89d3888dfe4032885cc85c32f8805e": {
          "model_module": "@jupyter-widgets/controls",
          "model_name": "FloatProgressModel",
          "state": {
            "_view_name": "ProgressView",
            "style": "IPY_MODEL_51cda1ca50224a8b909216db5d1b64a5",
            "_dom_classes": [],
            "description": "",
            "_model_name": "FloatProgressModel",
            "bar_style": "info",
            "max": 1,
            "_view_module": "@jupyter-widgets/controls",
            "_model_module_version": "1.5.0",
            "value": 1,
            "_view_count": null,
            "_view_module_version": "1.5.0",
            "orientation": "horizontal",
            "min": 0,
            "description_tooltip": null,
            "_model_module": "@jupyter-widgets/controls",
            "layout": "IPY_MODEL_adb27c04fe4a4fffa1d525bb8e135fa7"
          }
        },
        "21e387efb01b45a88894762dd2d78db7": {
          "model_module": "@jupyter-widgets/controls",
          "model_name": "HTMLModel",
          "state": {
            "_view_name": "HTMLView",
            "style": "IPY_MODEL_a17e2bd2a61241399fcd8e5376e84109",
            "_dom_classes": [],
            "description": "",
            "_model_name": "HTMLModel",
            "placeholder": "​",
            "_view_module": "@jupyter-widgets/controls",
            "_model_module_version": "1.5.0",
            "value": " 9920512/? [00:20&lt;00:00, 803234.95it/s]",
            "_view_count": null,
            "_view_module_version": "1.5.0",
            "description_tooltip": null,
            "_model_module": "@jupyter-widgets/controls",
            "layout": "IPY_MODEL_679bf244dc534491850fa88c70e1b0b6"
          }
        },
        "51cda1ca50224a8b909216db5d1b64a5": {
          "model_module": "@jupyter-widgets/controls",
          "model_name": "ProgressStyleModel",
          "state": {
            "_view_name": "StyleView",
            "_model_name": "ProgressStyleModel",
            "description_width": "initial",
            "_view_module": "@jupyter-widgets/base",
            "_model_module_version": "1.5.0",
            "_view_count": null,
            "_view_module_version": "1.2.0",
            "bar_color": null,
            "_model_module": "@jupyter-widgets/controls"
          }
        },
        "adb27c04fe4a4fffa1d525bb8e135fa7": {
          "model_module": "@jupyter-widgets/base",
          "model_name": "LayoutModel",
          "state": {
            "_view_name": "LayoutView",
            "grid_template_rows": null,
            "right": null,
            "justify_content": null,
            "_view_module": "@jupyter-widgets/base",
            "overflow": null,
            "_model_module_version": "1.2.0",
            "_view_count": null,
            "flex_flow": null,
            "width": null,
            "min_width": null,
            "border": null,
            "align_items": null,
            "bottom": null,
            "_model_module": "@jupyter-widgets/base",
            "top": null,
            "grid_column": null,
            "overflow_y": null,
            "overflow_x": null,
            "grid_auto_flow": null,
            "grid_area": null,
            "grid_template_columns": null,
            "flex": null,
            "_model_name": "LayoutModel",
            "justify_items": null,
            "grid_row": null,
            "max_height": null,
            "align_content": null,
            "visibility": null,
            "align_self": null,
            "height": null,
            "min_height": null,
            "padding": null,
            "grid_auto_rows": null,
            "grid_gap": null,
            "max_width": null,
            "order": null,
            "_view_module_version": "1.2.0",
            "grid_template_areas": null,
            "object_position": null,
            "object_fit": null,
            "grid_auto_columns": null,
            "margin": null,
            "display": null,
            "left": null
          }
        },
        "a17e2bd2a61241399fcd8e5376e84109": {
          "model_module": "@jupyter-widgets/controls",
          "model_name": "DescriptionStyleModel",
          "state": {
            "_view_name": "StyleView",
            "_model_name": "DescriptionStyleModel",
            "description_width": "",
            "_view_module": "@jupyter-widgets/base",
            "_model_module_version": "1.5.0",
            "_view_count": null,
            "_view_module_version": "1.2.0",
            "_model_module": "@jupyter-widgets/controls"
          }
        },
        "679bf244dc534491850fa88c70e1b0b6": {
          "model_module": "@jupyter-widgets/base",
          "model_name": "LayoutModel",
          "state": {
            "_view_name": "LayoutView",
            "grid_template_rows": null,
            "right": null,
            "justify_content": null,
            "_view_module": "@jupyter-widgets/base",
            "overflow": null,
            "_model_module_version": "1.2.0",
            "_view_count": null,
            "flex_flow": null,
            "width": null,
            "min_width": null,
            "border": null,
            "align_items": null,
            "bottom": null,
            "_model_module": "@jupyter-widgets/base",
            "top": null,
            "grid_column": null,
            "overflow_y": null,
            "overflow_x": null,
            "grid_auto_flow": null,
            "grid_area": null,
            "grid_template_columns": null,
            "flex": null,
            "_model_name": "LayoutModel",
            "justify_items": null,
            "grid_row": null,
            "max_height": null,
            "align_content": null,
            "visibility": null,
            "align_self": null,
            "height": null,
            "min_height": null,
            "padding": null,
            "grid_auto_rows": null,
            "grid_gap": null,
            "max_width": null,
            "order": null,
            "_view_module_version": "1.2.0",
            "grid_template_areas": null,
            "object_position": null,
            "object_fit": null,
            "grid_auto_columns": null,
            "margin": null,
            "display": null,
            "left": null
          }
        },
        "c4cf2483cc99410287b1b34cf185e8e1": {
          "model_module": "@jupyter-widgets/controls",
          "model_name": "HBoxModel",
          "state": {
            "_view_name": "HBoxView",
            "_dom_classes": [],
            "_model_name": "HBoxModel",
            "_view_module": "@jupyter-widgets/controls",
            "_model_module_version": "1.5.0",
            "_view_count": null,
            "_view_module_version": "1.5.0",
            "box_style": "",
            "layout": "IPY_MODEL_3bc2b6d272f04a00a9aee2b5897bb83b",
            "_model_module": "@jupyter-widgets/controls",
            "children": [
              "IPY_MODEL_d8b876a88320484785c497c93dd42065",
              "IPY_MODEL_a6a1fe5a878f4149bc0de65d068dbb39"
            ]
          }
        },
        "3bc2b6d272f04a00a9aee2b5897bb83b": {
          "model_module": "@jupyter-widgets/base",
          "model_name": "LayoutModel",
          "state": {
            "_view_name": "LayoutView",
            "grid_template_rows": null,
            "right": null,
            "justify_content": null,
            "_view_module": "@jupyter-widgets/base",
            "overflow": null,
            "_model_module_version": "1.2.0",
            "_view_count": null,
            "flex_flow": null,
            "width": null,
            "min_width": null,
            "border": null,
            "align_items": null,
            "bottom": null,
            "_model_module": "@jupyter-widgets/base",
            "top": null,
            "grid_column": null,
            "overflow_y": null,
            "overflow_x": null,
            "grid_auto_flow": null,
            "grid_area": null,
            "grid_template_columns": null,
            "flex": null,
            "_model_name": "LayoutModel",
            "justify_items": null,
            "grid_row": null,
            "max_height": null,
            "align_content": null,
            "visibility": null,
            "align_self": null,
            "height": null,
            "min_height": null,
            "padding": null,
            "grid_auto_rows": null,
            "grid_gap": null,
            "max_width": null,
            "order": null,
            "_view_module_version": "1.2.0",
            "grid_template_areas": null,
            "object_position": null,
            "object_fit": null,
            "grid_auto_columns": null,
            "margin": null,
            "display": null,
            "left": null
          }
        },
        "d8b876a88320484785c497c93dd42065": {
          "model_module": "@jupyter-widgets/controls",
          "model_name": "FloatProgressModel",
          "state": {
            "_view_name": "ProgressView",
            "style": "IPY_MODEL_3fc0ced6c2254d74907390f0e4204110",
            "_dom_classes": [],
            "description": "",
            "_model_name": "FloatProgressModel",
            "bar_style": "success",
            "max": 1,
            "_view_module": "@jupyter-widgets/controls",
            "_model_module_version": "1.5.0",
            "value": 1,
            "_view_count": null,
            "_view_module_version": "1.5.0",
            "orientation": "horizontal",
            "min": 0,
            "description_tooltip": null,
            "_model_module": "@jupyter-widgets/controls",
            "layout": "IPY_MODEL_157ed7f832654066adcef09aac1d2b5d"
          }
        },
        "a6a1fe5a878f4149bc0de65d068dbb39": {
          "model_module": "@jupyter-widgets/controls",
          "model_name": "HTMLModel",
          "state": {
            "_view_name": "HTMLView",
            "style": "IPY_MODEL_8523f5b852db410488b5e17bdfa74992",
            "_dom_classes": [],
            "description": "",
            "_model_name": "HTMLModel",
            "placeholder": "​",
            "_view_module": "@jupyter-widgets/controls",
            "_model_module_version": "1.5.0",
            "value": " 32768/? [00:00&lt;00:00, 103421.31it/s]",
            "_view_count": null,
            "_view_module_version": "1.5.0",
            "description_tooltip": null,
            "_model_module": "@jupyter-widgets/controls",
            "layout": "IPY_MODEL_ddc4684a43c7478486cd20130be42ad8"
          }
        },
        "3fc0ced6c2254d74907390f0e4204110": {
          "model_module": "@jupyter-widgets/controls",
          "model_name": "ProgressStyleModel",
          "state": {
            "_view_name": "StyleView",
            "_model_name": "ProgressStyleModel",
            "description_width": "initial",
            "_view_module": "@jupyter-widgets/base",
            "_model_module_version": "1.5.0",
            "_view_count": null,
            "_view_module_version": "1.2.0",
            "bar_color": null,
            "_model_module": "@jupyter-widgets/controls"
          }
        },
        "157ed7f832654066adcef09aac1d2b5d": {
          "model_module": "@jupyter-widgets/base",
          "model_name": "LayoutModel",
          "state": {
            "_view_name": "LayoutView",
            "grid_template_rows": null,
            "right": null,
            "justify_content": null,
            "_view_module": "@jupyter-widgets/base",
            "overflow": null,
            "_model_module_version": "1.2.0",
            "_view_count": null,
            "flex_flow": null,
            "width": null,
            "min_width": null,
            "border": null,
            "align_items": null,
            "bottom": null,
            "_model_module": "@jupyter-widgets/base",
            "top": null,
            "grid_column": null,
            "overflow_y": null,
            "overflow_x": null,
            "grid_auto_flow": null,
            "grid_area": null,
            "grid_template_columns": null,
            "flex": null,
            "_model_name": "LayoutModel",
            "justify_items": null,
            "grid_row": null,
            "max_height": null,
            "align_content": null,
            "visibility": null,
            "align_self": null,
            "height": null,
            "min_height": null,
            "padding": null,
            "grid_auto_rows": null,
            "grid_gap": null,
            "max_width": null,
            "order": null,
            "_view_module_version": "1.2.0",
            "grid_template_areas": null,
            "object_position": null,
            "object_fit": null,
            "grid_auto_columns": null,
            "margin": null,
            "display": null,
            "left": null
          }
        },
        "8523f5b852db410488b5e17bdfa74992": {
          "model_module": "@jupyter-widgets/controls",
          "model_name": "DescriptionStyleModel",
          "state": {
            "_view_name": "StyleView",
            "_model_name": "DescriptionStyleModel",
            "description_width": "",
            "_view_module": "@jupyter-widgets/base",
            "_model_module_version": "1.5.0",
            "_view_count": null,
            "_view_module_version": "1.2.0",
            "_model_module": "@jupyter-widgets/controls"
          }
        },
        "ddc4684a43c7478486cd20130be42ad8": {
          "model_module": "@jupyter-widgets/base",
          "model_name": "LayoutModel",
          "state": {
            "_view_name": "LayoutView",
            "grid_template_rows": null,
            "right": null,
            "justify_content": null,
            "_view_module": "@jupyter-widgets/base",
            "overflow": null,
            "_model_module_version": "1.2.0",
            "_view_count": null,
            "flex_flow": null,
            "width": null,
            "min_width": null,
            "border": null,
            "align_items": null,
            "bottom": null,
            "_model_module": "@jupyter-widgets/base",
            "top": null,
            "grid_column": null,
            "overflow_y": null,
            "overflow_x": null,
            "grid_auto_flow": null,
            "grid_area": null,
            "grid_template_columns": null,
            "flex": null,
            "_model_name": "LayoutModel",
            "justify_items": null,
            "grid_row": null,
            "max_height": null,
            "align_content": null,
            "visibility": null,
            "align_self": null,
            "height": null,
            "min_height": null,
            "padding": null,
            "grid_auto_rows": null,
            "grid_gap": null,
            "max_width": null,
            "order": null,
            "_view_module_version": "1.2.0",
            "grid_template_areas": null,
            "object_position": null,
            "object_fit": null,
            "grid_auto_columns": null,
            "margin": null,
            "display": null,
            "left": null
          }
        },
        "4d7a5401d7d34fb2a3ca567094f97ede": {
          "model_module": "@jupyter-widgets/controls",
          "model_name": "HBoxModel",
          "state": {
            "_view_name": "HBoxView",
            "_dom_classes": [],
            "_model_name": "HBoxModel",
            "_view_module": "@jupyter-widgets/controls",
            "_model_module_version": "1.5.0",
            "_view_count": null,
            "_view_module_version": "1.5.0",
            "box_style": "",
            "layout": "IPY_MODEL_5ee6058cc9b9446eb77f95898c047578",
            "_model_module": "@jupyter-widgets/controls",
            "children": [
              "IPY_MODEL_fec0db4c2b9547a98413265a44ac13be",
              "IPY_MODEL_d7b1dcd86e5244f0a84849089be057a8"
            ]
          }
        },
        "5ee6058cc9b9446eb77f95898c047578": {
          "model_module": "@jupyter-widgets/base",
          "model_name": "LayoutModel",
          "state": {
            "_view_name": "LayoutView",
            "grid_template_rows": null,
            "right": null,
            "justify_content": null,
            "_view_module": "@jupyter-widgets/base",
            "overflow": null,
            "_model_module_version": "1.2.0",
            "_view_count": null,
            "flex_flow": null,
            "width": null,
            "min_width": null,
            "border": null,
            "align_items": null,
            "bottom": null,
            "_model_module": "@jupyter-widgets/base",
            "top": null,
            "grid_column": null,
            "overflow_y": null,
            "overflow_x": null,
            "grid_auto_flow": null,
            "grid_area": null,
            "grid_template_columns": null,
            "flex": null,
            "_model_name": "LayoutModel",
            "justify_items": null,
            "grid_row": null,
            "max_height": null,
            "align_content": null,
            "visibility": null,
            "align_self": null,
            "height": null,
            "min_height": null,
            "padding": null,
            "grid_auto_rows": null,
            "grid_gap": null,
            "max_width": null,
            "order": null,
            "_view_module_version": "1.2.0",
            "grid_template_areas": null,
            "object_position": null,
            "object_fit": null,
            "grid_auto_columns": null,
            "margin": null,
            "display": null,
            "left": null
          }
        },
        "fec0db4c2b9547a98413265a44ac13be": {
          "model_module": "@jupyter-widgets/controls",
          "model_name": "FloatProgressModel",
          "state": {
            "_view_name": "ProgressView",
            "style": "IPY_MODEL_34149a4571d44fef8785a6cb0279aa85",
            "_dom_classes": [],
            "description": "",
            "_model_name": "FloatProgressModel",
            "bar_style": "info",
            "max": 1,
            "_view_module": "@jupyter-widgets/controls",
            "_model_module_version": "1.5.0",
            "value": 1,
            "_view_count": null,
            "_view_module_version": "1.5.0",
            "orientation": "horizontal",
            "min": 0,
            "description_tooltip": null,
            "_model_module": "@jupyter-widgets/controls",
            "layout": "IPY_MODEL_d455f9a788a34fb6af7a9e04a176530c"
          }
        },
        "d7b1dcd86e5244f0a84849089be057a8": {
          "model_module": "@jupyter-widgets/controls",
          "model_name": "HTMLModel",
          "state": {
            "_view_name": "HTMLView",
            "style": "IPY_MODEL_e3963d57a89a42beb63109b73c51b56f",
            "_dom_classes": [],
            "description": "",
            "_model_name": "HTMLModel",
            "placeholder": "​",
            "_view_module": "@jupyter-widgets/controls",
            "_model_module_version": "1.5.0",
            "value": " 1654784/? [00:18&lt;00:00, 535747.53it/s]",
            "_view_count": null,
            "_view_module_version": "1.5.0",
            "description_tooltip": null,
            "_model_module": "@jupyter-widgets/controls",
            "layout": "IPY_MODEL_e2b1f566610c4255a1dc8aa0f7cdec28"
          }
        },
        "34149a4571d44fef8785a6cb0279aa85": {
          "model_module": "@jupyter-widgets/controls",
          "model_name": "ProgressStyleModel",
          "state": {
            "_view_name": "StyleView",
            "_model_name": "ProgressStyleModel",
            "description_width": "initial",
            "_view_module": "@jupyter-widgets/base",
            "_model_module_version": "1.5.0",
            "_view_count": null,
            "_view_module_version": "1.2.0",
            "bar_color": null,
            "_model_module": "@jupyter-widgets/controls"
          }
        },
        "d455f9a788a34fb6af7a9e04a176530c": {
          "model_module": "@jupyter-widgets/base",
          "model_name": "LayoutModel",
          "state": {
            "_view_name": "LayoutView",
            "grid_template_rows": null,
            "right": null,
            "justify_content": null,
            "_view_module": "@jupyter-widgets/base",
            "overflow": null,
            "_model_module_version": "1.2.0",
            "_view_count": null,
            "flex_flow": null,
            "width": null,
            "min_width": null,
            "border": null,
            "align_items": null,
            "bottom": null,
            "_model_module": "@jupyter-widgets/base",
            "top": null,
            "grid_column": null,
            "overflow_y": null,
            "overflow_x": null,
            "grid_auto_flow": null,
            "grid_area": null,
            "grid_template_columns": null,
            "flex": null,
            "_model_name": "LayoutModel",
            "justify_items": null,
            "grid_row": null,
            "max_height": null,
            "align_content": null,
            "visibility": null,
            "align_self": null,
            "height": null,
            "min_height": null,
            "padding": null,
            "grid_auto_rows": null,
            "grid_gap": null,
            "max_width": null,
            "order": null,
            "_view_module_version": "1.2.0",
            "grid_template_areas": null,
            "object_position": null,
            "object_fit": null,
            "grid_auto_columns": null,
            "margin": null,
            "display": null,
            "left": null
          }
        },
        "e3963d57a89a42beb63109b73c51b56f": {
          "model_module": "@jupyter-widgets/controls",
          "model_name": "DescriptionStyleModel",
          "state": {
            "_view_name": "StyleView",
            "_model_name": "DescriptionStyleModel",
            "description_width": "",
            "_view_module": "@jupyter-widgets/base",
            "_model_module_version": "1.5.0",
            "_view_count": null,
            "_view_module_version": "1.2.0",
            "_model_module": "@jupyter-widgets/controls"
          }
        },
        "e2b1f566610c4255a1dc8aa0f7cdec28": {
          "model_module": "@jupyter-widgets/base",
          "model_name": "LayoutModel",
          "state": {
            "_view_name": "LayoutView",
            "grid_template_rows": null,
            "right": null,
            "justify_content": null,
            "_view_module": "@jupyter-widgets/base",
            "overflow": null,
            "_model_module_version": "1.2.0",
            "_view_count": null,
            "flex_flow": null,
            "width": null,
            "min_width": null,
            "border": null,
            "align_items": null,
            "bottom": null,
            "_model_module": "@jupyter-widgets/base",
            "top": null,
            "grid_column": null,
            "overflow_y": null,
            "overflow_x": null,
            "grid_auto_flow": null,
            "grid_area": null,
            "grid_template_columns": null,
            "flex": null,
            "_model_name": "LayoutModel",
            "justify_items": null,
            "grid_row": null,
            "max_height": null,
            "align_content": null,
            "visibility": null,
            "align_self": null,
            "height": null,
            "min_height": null,
            "padding": null,
            "grid_auto_rows": null,
            "grid_gap": null,
            "max_width": null,
            "order": null,
            "_view_module_version": "1.2.0",
            "grid_template_areas": null,
            "object_position": null,
            "object_fit": null,
            "grid_auto_columns": null,
            "margin": null,
            "display": null,
            "left": null
          }
        },
        "6a5833113dfd455c83764a3530666265": {
          "model_module": "@jupyter-widgets/controls",
          "model_name": "HBoxModel",
          "state": {
            "_view_name": "HBoxView",
            "_dom_classes": [],
            "_model_name": "HBoxModel",
            "_view_module": "@jupyter-widgets/controls",
            "_model_module_version": "1.5.0",
            "_view_count": null,
            "_view_module_version": "1.5.0",
            "box_style": "",
            "layout": "IPY_MODEL_0be49e15b38a4a0d850898aeaee144e1",
            "_model_module": "@jupyter-widgets/controls",
            "children": [
              "IPY_MODEL_899e112d332f452d91797fe82c3e56db",
              "IPY_MODEL_ae8e6c6cffcb486286dd731d757aa1d1"
            ]
          }
        },
        "0be49e15b38a4a0d850898aeaee144e1": {
          "model_module": "@jupyter-widgets/base",
          "model_name": "LayoutModel",
          "state": {
            "_view_name": "LayoutView",
            "grid_template_rows": null,
            "right": null,
            "justify_content": null,
            "_view_module": "@jupyter-widgets/base",
            "overflow": null,
            "_model_module_version": "1.2.0",
            "_view_count": null,
            "flex_flow": null,
            "width": null,
            "min_width": null,
            "border": null,
            "align_items": null,
            "bottom": null,
            "_model_module": "@jupyter-widgets/base",
            "top": null,
            "grid_column": null,
            "overflow_y": null,
            "overflow_x": null,
            "grid_auto_flow": null,
            "grid_area": null,
            "grid_template_columns": null,
            "flex": null,
            "_model_name": "LayoutModel",
            "justify_items": null,
            "grid_row": null,
            "max_height": null,
            "align_content": null,
            "visibility": null,
            "align_self": null,
            "height": null,
            "min_height": null,
            "padding": null,
            "grid_auto_rows": null,
            "grid_gap": null,
            "max_width": null,
            "order": null,
            "_view_module_version": "1.2.0",
            "grid_template_areas": null,
            "object_position": null,
            "object_fit": null,
            "grid_auto_columns": null,
            "margin": null,
            "display": null,
            "left": null
          }
        },
        "899e112d332f452d91797fe82c3e56db": {
          "model_module": "@jupyter-widgets/controls",
          "model_name": "FloatProgressModel",
          "state": {
            "_view_name": "ProgressView",
            "style": "IPY_MODEL_d341616c52874f0eb06007bc3a490719",
            "_dom_classes": [],
            "description": "  0%",
            "_model_name": "FloatProgressModel",
            "bar_style": "info",
            "max": 1,
            "_view_module": "@jupyter-widgets/controls",
            "_model_module_version": "1.5.0",
            "value": 0,
            "_view_count": null,
            "_view_module_version": "1.5.0",
            "orientation": "horizontal",
            "min": 0,
            "description_tooltip": null,
            "_model_module": "@jupyter-widgets/controls",
            "layout": "IPY_MODEL_b3224e64400c47c5aae633c7b8ac8b57"
          }
        },
        "ae8e6c6cffcb486286dd731d757aa1d1": {
          "model_module": "@jupyter-widgets/controls",
          "model_name": "HTMLModel",
          "state": {
            "_view_name": "HTMLView",
            "style": "IPY_MODEL_00361f3ba9bc4f7d8fd02d6909e800ed",
            "_dom_classes": [],
            "description": "",
            "_model_name": "HTMLModel",
            "placeholder": "​",
            "_view_module": "@jupyter-widgets/controls",
            "_model_module_version": "1.5.0",
            "value": " 0/4542 [00:00&lt;?, ?it/s]",
            "_view_count": null,
            "_view_module_version": "1.5.0",
            "description_tooltip": null,
            "_model_module": "@jupyter-widgets/controls",
            "layout": "IPY_MODEL_31d2e0820d7e41388a157058368dce2e"
          }
        },
        "d341616c52874f0eb06007bc3a490719": {
          "model_module": "@jupyter-widgets/controls",
          "model_name": "ProgressStyleModel",
          "state": {
            "_view_name": "StyleView",
            "_model_name": "ProgressStyleModel",
            "description_width": "initial",
            "_view_module": "@jupyter-widgets/base",
            "_model_module_version": "1.5.0",
            "_view_count": null,
            "_view_module_version": "1.2.0",
            "bar_color": null,
            "_model_module": "@jupyter-widgets/controls"
          }
        },
        "b3224e64400c47c5aae633c7b8ac8b57": {
          "model_module": "@jupyter-widgets/base",
          "model_name": "LayoutModel",
          "state": {
            "_view_name": "LayoutView",
            "grid_template_rows": null,
            "right": null,
            "justify_content": null,
            "_view_module": "@jupyter-widgets/base",
            "overflow": null,
            "_model_module_version": "1.2.0",
            "_view_count": null,
            "flex_flow": null,
            "width": null,
            "min_width": null,
            "border": null,
            "align_items": null,
            "bottom": null,
            "_model_module": "@jupyter-widgets/base",
            "top": null,
            "grid_column": null,
            "overflow_y": null,
            "overflow_x": null,
            "grid_auto_flow": null,
            "grid_area": null,
            "grid_template_columns": null,
            "flex": null,
            "_model_name": "LayoutModel",
            "justify_items": null,
            "grid_row": null,
            "max_height": null,
            "align_content": null,
            "visibility": null,
            "align_self": null,
            "height": null,
            "min_height": null,
            "padding": null,
            "grid_auto_rows": null,
            "grid_gap": null,
            "max_width": null,
            "order": null,
            "_view_module_version": "1.2.0",
            "grid_template_areas": null,
            "object_position": null,
            "object_fit": null,
            "grid_auto_columns": null,
            "margin": null,
            "display": null,
            "left": null
          }
        },
        "00361f3ba9bc4f7d8fd02d6909e800ed": {
          "model_module": "@jupyter-widgets/controls",
          "model_name": "DescriptionStyleModel",
          "state": {
            "_view_name": "StyleView",
            "_model_name": "DescriptionStyleModel",
            "description_width": "",
            "_view_module": "@jupyter-widgets/base",
            "_model_module_version": "1.5.0",
            "_view_count": null,
            "_view_module_version": "1.2.0",
            "_model_module": "@jupyter-widgets/controls"
          }
        },
        "31d2e0820d7e41388a157058368dce2e": {
          "model_module": "@jupyter-widgets/base",
          "model_name": "LayoutModel",
          "state": {
            "_view_name": "LayoutView",
            "grid_template_rows": null,
            "right": null,
            "justify_content": null,
            "_view_module": "@jupyter-widgets/base",
            "overflow": null,
            "_model_module_version": "1.2.0",
            "_view_count": null,
            "flex_flow": null,
            "width": null,
            "min_width": null,
            "border": null,
            "align_items": null,
            "bottom": null,
            "_model_module": "@jupyter-widgets/base",
            "top": null,
            "grid_column": null,
            "overflow_y": null,
            "overflow_x": null,
            "grid_auto_flow": null,
            "grid_area": null,
            "grid_template_columns": null,
            "flex": null,
            "_model_name": "LayoutModel",
            "justify_items": null,
            "grid_row": null,
            "max_height": null,
            "align_content": null,
            "visibility": null,
            "align_self": null,
            "height": null,
            "min_height": null,
            "padding": null,
            "grid_auto_rows": null,
            "grid_gap": null,
            "max_width": null,
            "order": null,
            "_view_module_version": "1.2.0",
            "grid_template_areas": null,
            "object_position": null,
            "object_fit": null,
            "grid_auto_columns": null,
            "margin": null,
            "display": null,
            "left": null
          }
        }
      }
    }
  },
  "cells": [
    {
      "cell_type": "markdown",
      "metadata": {
        "id": "3qDryPDyq88b"
      },
      "source": [
        "Get Packages"
      ]
    },
    {
      "cell_type": "code",
      "metadata": {
        "id": "CS5z204yq6p0"
      },
      "source": [
        "from __future__ import print_function\r\n",
        "import torch\r\n",
        "import torch.nn as nn\r\n",
        "import torch.nn.functional as F\r\n",
        "import torch.optim as optim\r\n",
        "from torchvision import datasets, transforms"
      ],
      "execution_count": 1,
      "outputs": []
    },
    {
      "cell_type": "code",
      "metadata": {
        "id": "UEXZsgEErUs8"
      },
      "source": [
        "use_cuda = torch.cuda.is_available()\r\n",
        "device = torch.device(\"cuda\" if use_cuda else \"cpu\")"
      ],
      "execution_count": 2,
      "outputs": []
    },
    {
      "cell_type": "markdown",
      "metadata": {
        "id": "WXAwI4JofJ2L"
      },
      "source": [
        "Get Data Set. Make the Required Transformation"
      ]
    },
    {
      "cell_type": "code",
      "metadata": {
        "id": "SpakQn4PfMSq"
      },
      "source": [
        "train_transforms = transforms.Compose([\r\n",
        "                                        transforms.Resize((28, 28)),\r\n",
        "                                       #transforms.ColorJitter(brightness=0.10, contrast=0.1, saturation=0.10, hue=0.1),\r\n",
        "                                       transforms.RandomRotation((-10.0, 10.0), fill=(1,)),\r\n",
        "                                       transforms.ToTensor(),\r\n",
        "                                       transforms.Normalize((0.1307,), (0.3081,)) # The mean and std have to be sequences (e.g., tuples), therefore you should add a comma after the values. \r\n",
        "                                       # Note the difference between (0.1307) and (0.1307,)\r\n",
        "                                       ])\r\n",
        "\r\n",
        "# Test Phase transformations\r\n",
        "test_transforms = transforms.Compose([\r\n",
        "                                        transforms.Resize((28, 28)),\r\n",
        "                                        #transforms.ColorJitter(brightness=0.10, contrast=0.1, saturation=0.10, hue=0.1),\r\n",
        "                                       transforms.ToTensor(),\r\n",
        "                                       transforms.Normalize((0.1307,), (0.3081,))\r\n",
        "                                       ])"
      ],
      "execution_count": 3,
      "outputs": []
    },
    {
      "cell_type": "code",
      "metadata": {
        "id": "0nS0ryqRlHOZ",
        "colab": {
          "base_uri": "https://localhost:8080/",
          "height": 395,
          "referenced_widgets": [
            "82519953ac224a949f48af357f48751d",
            "009d6731771f465fb55c1f9b82584fda",
            "9a89d3888dfe4032885cc85c32f8805e",
            "21e387efb01b45a88894762dd2d78db7",
            "51cda1ca50224a8b909216db5d1b64a5",
            "adb27c04fe4a4fffa1d525bb8e135fa7",
            "a17e2bd2a61241399fcd8e5376e84109",
            "679bf244dc534491850fa88c70e1b0b6",
            "c4cf2483cc99410287b1b34cf185e8e1",
            "3bc2b6d272f04a00a9aee2b5897bb83b",
            "d8b876a88320484785c497c93dd42065",
            "a6a1fe5a878f4149bc0de65d068dbb39",
            "3fc0ced6c2254d74907390f0e4204110",
            "157ed7f832654066adcef09aac1d2b5d",
            "8523f5b852db410488b5e17bdfa74992",
            "ddc4684a43c7478486cd20130be42ad8",
            "4d7a5401d7d34fb2a3ca567094f97ede",
            "5ee6058cc9b9446eb77f95898c047578",
            "fec0db4c2b9547a98413265a44ac13be",
            "d7b1dcd86e5244f0a84849089be057a8",
            "34149a4571d44fef8785a6cb0279aa85",
            "d455f9a788a34fb6af7a9e04a176530c",
            "e3963d57a89a42beb63109b73c51b56f",
            "e2b1f566610c4255a1dc8aa0f7cdec28",
            "6a5833113dfd455c83764a3530666265",
            "0be49e15b38a4a0d850898aeaee144e1",
            "899e112d332f452d91797fe82c3e56db",
            "ae8e6c6cffcb486286dd731d757aa1d1",
            "d341616c52874f0eb06007bc3a490719",
            "b3224e64400c47c5aae633c7b8ac8b57",
            "00361f3ba9bc4f7d8fd02d6909e800ed",
            "31d2e0820d7e41388a157058368dce2e"
          ]
        },
        "outputId": "3eb4d11f-5056-4092-cb0b-1579cf5b5a77"
      },
      "source": [
        "train = datasets.MNIST('./data', train=True, download=True, transform=train_transforms)\r\n",
        "test = datasets.MNIST('./data', train=False, download=True, transform=test_transforms)"
      ],
      "execution_count": 7,
      "outputs": [
        {
          "output_type": "stream",
          "text": [
            "Downloading http://yann.lecun.com/exdb/mnist/train-images-idx3-ubyte.gz to ./data/MNIST/raw/train-images-idx3-ubyte.gz\n"
          ],
          "name": "stdout"
        },
        {
          "output_type": "display_data",
          "data": {
            "application/vnd.jupyter.widget-view+json": {
              "model_id": "82519953ac224a949f48af357f48751d",
              "version_minor": 0,
              "version_major": 2
            },
            "text/plain": [
              "HBox(children=(FloatProgress(value=1.0, bar_style='info', max=1.0), HTML(value='')))"
            ]
          },
          "metadata": {
            "tags": []
          }
        },
        {
          "output_type": "stream",
          "text": [
            "Extracting ./data/MNIST/raw/train-images-idx3-ubyte.gz to ./data/MNIST/raw\n",
            "Downloading http://yann.lecun.com/exdb/mnist/train-labels-idx1-ubyte.gz to ./data/MNIST/raw/train-labels-idx1-ubyte.gz\n"
          ],
          "name": "stdout"
        },
        {
          "output_type": "display_data",
          "data": {
            "application/vnd.jupyter.widget-view+json": {
              "model_id": "c4cf2483cc99410287b1b34cf185e8e1",
              "version_minor": 0,
              "version_major": 2
            },
            "text/plain": [
              "HBox(children=(FloatProgress(value=1.0, bar_style='info', max=1.0), HTML(value='')))"
            ]
          },
          "metadata": {
            "tags": []
          }
        },
        {
          "output_type": "stream",
          "text": [
            "Extracting ./data/MNIST/raw/train-labels-idx1-ubyte.gz to ./data/MNIST/raw\n",
            "Downloading http://yann.lecun.com/exdb/mnist/t10k-images-idx3-ubyte.gz to ./data/MNIST/raw/t10k-images-idx3-ubyte.gz\n",
            "\n"
          ],
          "name": "stdout"
        },
        {
          "output_type": "display_data",
          "data": {
            "application/vnd.jupyter.widget-view+json": {
              "model_id": "4d7a5401d7d34fb2a3ca567094f97ede",
              "version_minor": 0,
              "version_major": 2
            },
            "text/plain": [
              "HBox(children=(FloatProgress(value=1.0, bar_style='info', max=1.0), HTML(value='')))"
            ]
          },
          "metadata": {
            "tags": []
          }
        },
        {
          "output_type": "stream",
          "text": [
            "Extracting ./data/MNIST/raw/t10k-images-idx3-ubyte.gz to ./data/MNIST/raw\n",
            "Downloading http://yann.lecun.com/exdb/mnist/t10k-labels-idx1-ubyte.gz to ./data/MNIST/raw/t10k-labels-idx1-ubyte.gz\n"
          ],
          "name": "stdout"
        },
        {
          "output_type": "display_data",
          "data": {
            "application/vnd.jupyter.widget-view+json": {
              "model_id": "6a5833113dfd455c83764a3530666265",
              "version_minor": 0,
              "version_major": 2
            },
            "text/plain": [
              "HBox(children=(FloatProgress(value=1.0, bar_style='info', max=1.0), HTML(value='')))"
            ]
          },
          "metadata": {
            "tags": []
          }
        },
        {
          "output_type": "stream",
          "text": [
            "Extracting ./data/MNIST/raw/t10k-labels-idx1-ubyte.gz to ./data/MNIST/raw\n",
            "Processing...\n",
            "Done!\n"
          ],
          "name": "stdout"
        },
        {
          "output_type": "stream",
          "text": [
            "/usr/local/lib/python3.6/dist-packages/torchvision/datasets/mnist.py:480: UserWarning: The given NumPy array is not writeable, and PyTorch does not support non-writeable tensors. This means you can write to the underlying (supposedly non-writeable) NumPy array using the tensor. You may want to copy the array to protect its data or make it writeable before converting it to a tensor. This type of warning will be suppressed for the rest of this program. (Triggered internally at  /pytorch/torch/csrc/utils/tensor_numpy.cpp:141.)\n",
            "  return torch.from_numpy(parsed.astype(m[2], copy=False)).view(*s)\n"
          ],
          "name": "stderr"
        }
      ]
    },
    {
      "cell_type": "markdown",
      "metadata": {
        "id": "iZy8FwlohEpF"
      },
      "source": [
        "Data Loading"
      ]
    },
    {
      "cell_type": "code",
      "metadata": {
        "id": "rIPxSudMhDaF"
      },
      "source": [
        "def dataloading(IsGBN):\r\n",
        "  train = datasets.MNIST('./data', train=True, download=True, transform=train_transforms)\r\n",
        "  test = datasets.MNIST('./data', train=False, download=True, transform=test_transforms)\r\n",
        "\r\n",
        "  SEED = 1\r\n",
        "# CUDA?\r\n",
        "  use_cuda = torch.cuda.is_available()\r\n",
        "  print(\"CUDA Available?\", use_cuda)\r\n",
        "\r\n",
        "\r\n",
        "  torch.manual_seed(SEED)\r\n",
        "\r\n",
        "  if use_cuda:\r\n",
        "    torch.cuda.manual_seed(SEED)\r\n",
        "\r\n",
        "  # dataloader arguments - something you'll fetch these from cmdprmt\r\n",
        "  if IsGBN == 'GBN':\r\n",
        "    dataloader_args = dict(shuffle=True, batch_size= 128, num_workers=4, pin_memory=True) if use_cuda else dict(shuffle=True, batch_size=128)\r\n",
        "  else:\r\n",
        "    dataloader_args = dict(shuffle=True, batch_size= 32, num_workers=4, pin_memory=True) if use_cuda else dict(shuffle=True, batch_size= 32)\r\n",
        "\r\n",
        "  # train dataloader\r\n",
        "  train_loader = torch.utils.data.DataLoader(train, **dataloader_args)\r\n",
        "\r\n",
        "  # test dataloader\r\n",
        "  test_loader = torch.utils.data.DataLoader(test, **dataloader_args)\r\n",
        "\r\n",
        "  return train_loader,test_loader\r\n",
        "\r\n",
        " \r\n"
      ],
      "execution_count": 4,
      "outputs": []
    },
    {
      "cell_type": "code",
      "metadata": {
        "colab": {
          "base_uri": "https://localhost:8080/"
        },
        "id": "QS9uRBrokREq",
        "outputId": "c4b081e9-8757-42c1-88d2-1bbb16926935"
      },
      "source": [
        "check_train, check_test = dataloading('BN')\r\n",
        "dataiter = iter(check_train)\r\n",
        "images, labels = dataiter.next()\r\n",
        "print((images.shape))\r\n",
        "print(len(check_train))"
      ],
      "execution_count": 5,
      "outputs": [
        {
          "output_type": "stream",
          "text": [
            "CUDA Available? False\n",
            "torch.Size([32, 1, 28, 28])\n",
            "1875\n"
          ],
          "name": "stdout"
        }
      ]
    },
    {
      "cell_type": "markdown",
      "metadata": {
        "id": "JWtStSsgmMQh"
      },
      "source": [
        "Set-up **Model**"
      ]
    },
    {
      "cell_type": "code",
      "metadata": {
        "colab": {
          "base_uri": "https://localhost:8080/"
        },
        "id": "ENiI8p6kmTX5",
        "outputId": "b550a9e1-549b-4dc3-decb-86657adf179f"
      },
      "source": [
        "dropout_value = 0.0\r\n",
        "class Net(nn.Module):\r\n",
        "    def __init__(self):\r\n",
        "        super(Net, self).__init__()\r\n",
        "        self.convblock1 = nn.Sequential(nn.Conv2d(in_channels=1, out_channels=10, kernel_size=(3, 3), padding=1, bias=False),nn.ReLU(),nn.BatchNorm2d(10), nn.Dropout(dropout_value)) \r\n",
        "        self.convblock2 = nn.Sequential(nn.Conv2d(in_channels=10, out_channels=16, kernel_size=(3, 3), padding=1, bias=False),nn.ReLU(),nn.BatchNorm2d(16), nn.Dropout(dropout_value))\r\n",
        "        self.convblock3 = nn.Sequential(nn.Conv2d(in_channels=16, out_channels=10, kernel_size=(1, 1), bias=False))\r\n",
        "        self.pool1 = nn.MaxPool2d(2,2)\r\n",
        "        \r\n",
        "        \r\n",
        "        self.convblock4 = nn.Sequential(nn.Conv2d(in_channels= 10, out_channels= 16, kernel_size=(3, 3), padding=1, bias=False), nn.ReLU(),nn.BatchNorm2d(16), nn.Dropout(dropout_value))\r\n",
        "        self.convblock5 = nn.Sequential(nn.Conv2d(in_channels=16, out_channels= 20, kernel_size=(3, 3), padding=1, bias=False),nn.ReLU(),nn.BatchNorm2d(20), nn.Dropout(dropout_value))\r\n",
        "        self.convblock6 = nn.Sequential(nn.Conv2d(in_channels=20, out_channels=10, kernel_size=(1, 1), bias=False))\r\n",
        "        self.pool2 = nn.MaxPool2d(2, 2)\r\n",
        "        self.convblock7 = nn.Sequential(nn.Conv2d(in_channels=10, out_channels= 16, kernel_size=(3, 3), bias=False),nn.ReLU(),nn.BatchNorm2d(16), nn.Dropout(dropout_value))\r\n",
        "        self.gap = nn.Sequential(nn.AvgPool2d(kernel_size=5))\r\n",
        "        self.convblock8 = nn.Sequential(nn.Conv2d(in_channels=16, out_channels=10, kernel_size=(1, 1), bias=False))\r\n",
        "        \r\n",
        "         \r\n",
        "\r\n",
        "    def forward(self, x):\r\n",
        "        x = self.convblock1(x) \r\n",
        "        x = self.convblock2(x) \r\n",
        "        x = self.convblock3(x)\r\n",
        "        x = self.pool1(x)\r\n",
        "        x = self.convblock4(x) \r\n",
        "        x = self.convblock5(x)\r\n",
        "        x = self.convblock6(x)\r\n",
        "        x = self.pool2(x)\r\n",
        "        x = self.convblock7(x)\r\n",
        "        x = self.gap(x)        \r\n",
        "        x = self.convblock8(x)\r\n",
        "        x = x.view(-1, 10)\r\n",
        "        return F.log_softmax(x)\r\n",
        "\r\n",
        "from torchsummary import summary\r\n",
        "use_cuda = torch.cuda.is_available()\r\n",
        "device = torch.device(\"cuda\" if use_cuda else \"cpu\")\r\n",
        "print(device)\r\n",
        "modelBN = Net().to(device)\r\n",
        "#modelGBN = Net().to(devide)\r\n",
        "summary(modelBN, input_size=(1, 28, 28))"
      ],
      "execution_count": 6,
      "outputs": [
        {
          "output_type": "stream",
          "text": [
            "cpu\n",
            "----------------------------------------------------------------\n",
            "        Layer (type)               Output Shape         Param #\n",
            "================================================================\n",
            "            Conv2d-1           [-1, 10, 28, 28]              90\n",
            "              ReLU-2           [-1, 10, 28, 28]               0\n",
            "       BatchNorm2d-3           [-1, 10, 28, 28]              20\n",
            "           Dropout-4           [-1, 10, 28, 28]               0\n",
            "            Conv2d-5           [-1, 16, 28, 28]           1,440\n",
            "              ReLU-6           [-1, 16, 28, 28]               0\n",
            "       BatchNorm2d-7           [-1, 16, 28, 28]              32\n",
            "           Dropout-8           [-1, 16, 28, 28]               0\n",
            "            Conv2d-9           [-1, 10, 28, 28]             160\n",
            "        MaxPool2d-10           [-1, 10, 14, 14]               0\n",
            "           Conv2d-11           [-1, 16, 14, 14]           1,440\n",
            "             ReLU-12           [-1, 16, 14, 14]               0\n",
            "      BatchNorm2d-13           [-1, 16, 14, 14]              32\n",
            "          Dropout-14           [-1, 16, 14, 14]               0\n",
            "           Conv2d-15           [-1, 20, 14, 14]           2,880\n",
            "             ReLU-16           [-1, 20, 14, 14]               0\n",
            "      BatchNorm2d-17           [-1, 20, 14, 14]              40\n",
            "          Dropout-18           [-1, 20, 14, 14]               0\n",
            "           Conv2d-19           [-1, 10, 14, 14]             200\n",
            "        MaxPool2d-20             [-1, 10, 7, 7]               0\n",
            "           Conv2d-21             [-1, 16, 5, 5]           1,440\n",
            "             ReLU-22             [-1, 16, 5, 5]               0\n",
            "      BatchNorm2d-23             [-1, 16, 5, 5]              32\n",
            "          Dropout-24             [-1, 16, 5, 5]               0\n",
            "        AvgPool2d-25             [-1, 16, 1, 1]               0\n",
            "           Conv2d-26             [-1, 10, 1, 1]             160\n",
            "================================================================\n",
            "Total params: 7,966\n",
            "Trainable params: 7,966\n",
            "Non-trainable params: 0\n",
            "----------------------------------------------------------------\n",
            "Input size (MB): 0.00\n",
            "Forward/backward pass size (MB): 0.94\n",
            "Params size (MB): 0.03\n",
            "Estimated Total Size (MB): 0.98\n",
            "----------------------------------------------------------------\n"
          ],
          "name": "stdout"
        },
        {
          "output_type": "stream",
          "text": [
            "/usr/local/lib/python3.6/dist-packages/ipykernel_launcher.py:34: UserWarning: Implicit dimension choice for log_softmax has been deprecated. Change the call to include dim=X as an argument.\n"
          ],
          "name": "stderr"
        }
      ]
    },
    {
      "cell_type": "code",
      "metadata": {
        "id": "EdvDrhosiuSR"
      },
      "source": [
        "class BatchNorm(nn.BatchNorm2d):\r\n",
        "    def __init__(self, num_features, eps=1e-05, momentum=0.1, weight=True, bias=True):\r\n",
        "        super().__init__(num_features, eps=eps, momentum=momentum)\r\n",
        "        self.weight.data.fill_(1.0)\r\n",
        "        self.bias.data.fill_(0.0)\r\n",
        "        self.weight.requires_grad = weight\r\n",
        "        self.bias.requires_grad = bias\r\n",
        "\r\n",
        "\r\n",
        "class GhostBatchNorm(BatchNorm):\r\n",
        "    def __init__(self, num_features, num_splits, **kw):\r\n",
        "        super().__init__(num_features, **kw)\r\n",
        "        self.num_splits = num_splits\r\n",
        "        self.register_buffer('running_mean', torch.zeros(num_features * self.num_splits))\r\n",
        "        self.register_buffer('running_var', torch.ones(num_features * self.num_splits))\r\n",
        "\r\n",
        "    def train(self, mode=True):\r\n",
        "        if (self.training is True) and (mode is False):  # lazily collate stats when we are going to use them\r\n",
        "            self.running_mean = torch.mean(self.running_mean.view(self.num_splits, self.num_features), dim=0).repeat(\r\n",
        "                self.num_splits)\r\n",
        "            self.running_var = torch.mean(self.running_var.view(self.num_splits, self.num_features), dim=0).repeat(\r\n",
        "                self.num_splits)\r\n",
        "        return super().train(mode)\r\n",
        "\r\n",
        "    def forward(self, input):\r\n",
        "        N, C, H, W = input.shape\r\n",
        "        if self.training or not self.track_running_stats:\r\n",
        "            return F.batch_norm(\r\n",
        "                input.view(-1, C * self.num_splits, H, W), self.running_mean, self.running_var,\r\n",
        "                self.weight.repeat(self.num_splits), self.bias.repeat(self.num_splits),\r\n",
        "                True, self.momentum, self.eps).view(N, C, H, W)\r\n",
        "        else:\r\n",
        "            return F.batch_norm(\r\n",
        "                input, self.running_mean[:self.num_features], self.running_var[:self.num_features],\r\n",
        "                self.weight, self.bias, False, self.momentum, self.eps)"
      ],
      "execution_count": 7,
      "outputs": []
    },
    {
      "cell_type": "code",
      "metadata": {
        "colab": {
          "base_uri": "https://localhost:8080/"
        },
        "id": "U_SlWoIui065",
        "outputId": "4aad6f2a-b8b3-4b3d-d6d4-e8ddcfd764ba"
      },
      "source": [
        "dropout_value = 0.0\r\n",
        "class NetGBN(nn.Module):\r\n",
        "    def __init__(self):\r\n",
        "        super(NetGBN, self).__init__()\r\n",
        "        self.convblock1 = nn.Sequential(nn.Conv2d(in_channels=1, out_channels=10, kernel_size=(3, 3), padding=1, bias=False),nn.ReLU(),GhostBatchNorm(10,2), nn.Dropout(dropout_value)) \r\n",
        "        self.convblock2 = nn.Sequential(nn.Conv2d(in_channels=10, out_channels=16, kernel_size=(3, 3), padding=1, bias=False),nn.ReLU(),GhostBatchNorm(16,2), nn.Dropout(dropout_value))\r\n",
        "        self.convblock3 = nn.Sequential(nn.Conv2d(in_channels=16, out_channels=10, kernel_size=(1, 1), bias=False))\r\n",
        "        self.pool1 = nn.MaxPool2d(2,2)\r\n",
        "        \r\n",
        "        \r\n",
        "        self.convblock4 = nn.Sequential(nn.Conv2d(in_channels= 10, out_channels= 16, kernel_size=(3, 3), padding=1, bias=False), nn.ReLU(),GhostBatchNorm(16,2), nn.Dropout(dropout_value))\r\n",
        "        self.convblock5 = nn.Sequential(nn.Conv2d(in_channels=16, out_channels= 20, kernel_size=(3, 3), padding=1, bias=False),nn.ReLU(),GhostBatchNorm(20,2), nn.Dropout(dropout_value))\r\n",
        "        self.convblock6 = nn.Sequential(nn.Conv2d(in_channels=20, out_channels=10, kernel_size=(1, 1), bias=False))\r\n",
        "        self.pool2 = nn.MaxPool2d(2, 2)\r\n",
        "        self.convblock7 = nn.Sequential(nn.Conv2d(in_channels=10, out_channels= 16, kernel_size=(3, 3), bias=False),nn.ReLU(),GhostBatchNorm(16,2), nn.Dropout(dropout_value))\r\n",
        "        self.gap = nn.Sequential(nn.AvgPool2d(kernel_size=5))\r\n",
        "        self.convblock8 = nn.Sequential(nn.Conv2d(in_channels=16, out_channels=10, kernel_size=(1, 1), bias=False))\r\n",
        "        \r\n",
        "         \r\n",
        "\r\n",
        "    def forward(self, x):\r\n",
        "        x = self.convblock1(x) \r\n",
        "        x = self.convblock2(x) \r\n",
        "        x = self.convblock3(x)\r\n",
        "        x = self.pool1(x)\r\n",
        "        x = self.convblock4(x) \r\n",
        "        x = self.convblock5(x)\r\n",
        "        x = self.convblock6(x)\r\n",
        "        x = self.pool2(x)\r\n",
        "        x = self.convblock7(x)\r\n",
        "        x = self.gap(x)        \r\n",
        "        x = self.convblock8(x)\r\n",
        "        x = x.view(-1, 10)\r\n",
        "        return F.log_softmax(x)\r\n",
        "  \r\n",
        "from torchsummary import summary\r\n",
        "use_cuda = torch.cuda.is_available()\r\n",
        "device = torch.device(\"cuda\" if use_cuda else \"cpu\")\r\n",
        "print(device)\r\n",
        "modelGBN = NetGBN().to(device)\r\n",
        "#modelGBN = Net().to(devide)\r\n",
        "summary(modelGBN, input_size=(1, 28, 28))\r\n"
      ],
      "execution_count": 8,
      "outputs": [
        {
          "output_type": "stream",
          "text": [
            "cpu\n",
            "----------------------------------------------------------------\n",
            "        Layer (type)               Output Shape         Param #\n",
            "================================================================\n",
            "            Conv2d-1           [-1, 10, 28, 28]              90\n",
            "              ReLU-2           [-1, 10, 28, 28]               0\n",
            "    GhostBatchNorm-3           [-1, 10, 28, 28]              20\n",
            "           Dropout-4           [-1, 10, 28, 28]               0\n",
            "            Conv2d-5           [-1, 16, 28, 28]           1,440\n",
            "              ReLU-6           [-1, 16, 28, 28]               0\n",
            "    GhostBatchNorm-7           [-1, 16, 28, 28]              32\n",
            "           Dropout-8           [-1, 16, 28, 28]               0\n",
            "            Conv2d-9           [-1, 10, 28, 28]             160\n",
            "        MaxPool2d-10           [-1, 10, 14, 14]               0\n",
            "           Conv2d-11           [-1, 16, 14, 14]           1,440\n",
            "             ReLU-12           [-1, 16, 14, 14]               0\n",
            "   GhostBatchNorm-13           [-1, 16, 14, 14]              32\n",
            "          Dropout-14           [-1, 16, 14, 14]               0\n",
            "           Conv2d-15           [-1, 20, 14, 14]           2,880\n",
            "             ReLU-16           [-1, 20, 14, 14]               0\n",
            "   GhostBatchNorm-17           [-1, 20, 14, 14]              40\n",
            "          Dropout-18           [-1, 20, 14, 14]               0\n",
            "           Conv2d-19           [-1, 10, 14, 14]             200\n",
            "        MaxPool2d-20             [-1, 10, 7, 7]               0\n",
            "           Conv2d-21             [-1, 16, 5, 5]           1,440\n",
            "             ReLU-22             [-1, 16, 5, 5]               0\n",
            "   GhostBatchNorm-23             [-1, 16, 5, 5]              32\n",
            "          Dropout-24             [-1, 16, 5, 5]               0\n",
            "        AvgPool2d-25             [-1, 16, 1, 1]               0\n",
            "           Conv2d-26             [-1, 10, 1, 1]             160\n",
            "================================================================\n",
            "Total params: 7,966\n",
            "Trainable params: 7,966\n",
            "Non-trainable params: 0\n",
            "----------------------------------------------------------------\n",
            "Input size (MB): 0.00\n",
            "Forward/backward pass size (MB): 0.94\n",
            "Params size (MB): 0.03\n",
            "Estimated Total Size (MB): 0.98\n",
            "----------------------------------------------------------------\n"
          ],
          "name": "stdout"
        },
        {
          "output_type": "stream",
          "text": [
            "/usr/local/lib/python3.6/dist-packages/ipykernel_launcher.py:34: UserWarning: Implicit dimension choice for log_softmax has been deprecated. Change the call to include dim=X as an argument.\n"
          ],
          "name": "stderr"
        }
      ]
    },
    {
      "cell_type": "markdown",
      "metadata": {
        "id": "82jxy1uKnPLw"
      },
      "source": [
        "Set-up Train and Test Model"
      ]
    },
    {
      "cell_type": "code",
      "metadata": {
        "id": "wa7wKjiHs4HF"
      },
      "source": [
        "from tqdm import tqdm\r\n",
        "\r\n",
        "\r\n",
        "\r\n",
        "\r\n",
        "\r\n",
        "misclassified=[]\r\n",
        "lambda1 = 0.0002\r\n",
        "lambda2 = 0.0001\r\n",
        "\r\n",
        "def train(model, device, train_loader, optimizer, epoch, reg):\r\n",
        "  model.train()\r\n",
        "  pbar = tqdm(train_loader)\r\n",
        "  correct = 0\r\n",
        "  processed = 0\r\n",
        "  train_loss = 0\r\n",
        "  for batch_idx, (data, target) in enumerate(pbar):\r\n",
        "    # get full data of one batch\r\n",
        "    data, target = data.to(device), target.to(device)\r\n",
        "\r\n",
        "    # Initgrad\r\n",
        "    optimizer.zero_grad()\r\n",
        "    y_pred = model(data)\r\n",
        "\r\n",
        "    # Calculate loss for that batch\r\n",
        "    loss = F.nll_loss(y_pred, target)\r\n",
        "   \r\n",
        "    regularization_loss1 = 0\r\n",
        "    regularization_loss2 = 0\r\n",
        "\r\n",
        "    #Update loss based on regularization\r\n",
        "    if reg==\"None\":\r\n",
        "      loss = loss\r\n",
        "      train_loss += loss.item()\r\n",
        "    elif reg==\"L1\":\r\n",
        "      for param in model.parameters():\r\n",
        "        regularization_loss1 += torch.norm(param,1)\r\n",
        "      loss += (lambda1*regularization_loss1)\r\n",
        "      train_loss += loss.item()\r\n",
        "      \r\n",
        "    elif reg==\"L2\":\r\n",
        "      for param in model.parameters():\r\n",
        "        regularization_loss2 += torch.norm(param,2)\r\n",
        "      loss += (lambda2*regularization_loss2)\r\n",
        "      train_loss += loss.item()\r\n",
        "      \r\n",
        "    else:\r\n",
        "      for param in model.parameters():\r\n",
        "        regularization_loss1 += torch.norm(param,1)\r\n",
        "        regularization_loss2 += torch.norm(param,2)\r\n",
        "      loss += (lambda1*regularization_loss1+lambda2*regularization_loss2)\r\n",
        "      train_loss += loss.item()\r\n",
        "      \r\n",
        "    # Backpropagation an optimization for that batch\r\n",
        "    loss.backward()\r\n",
        "    optimizer.step()\r\n",
        "\r\n",
        "\r\n",
        "    # Update pbar-tqdm\r\n",
        "    \r\n",
        "    pred = y_pred.argmax(dim=1, keepdim=True)  # get the index of the max log-probability\r\n",
        "    correct += pred.eq(target.view_as(pred)).sum().item()\r\n",
        "    processed += len(data)\r\n",
        "\r\n",
        "    pbar.set_description(desc= f'Loss={loss.item()} Batch_id={batch_idx} Accuracy={100*correct/processed:0.2f}')\r\n",
        "  \r\n",
        "  train_loss /= len(train_loader.dataset)\r\n",
        "  train_losses.append(train_loss)\r\n",
        "  train_acc.append(100*correct/processed)\r\n",
        "    \r\n",
        "\r\n",
        "\r\n",
        "\r\n",
        "def test(model, device, test_loader, epoch):\r\n",
        "    model.eval()\r\n",
        "    test_loss = 0\r\n",
        "    correct = 0\r\n",
        "    with torch.no_grad():\r\n",
        "        for data, target in test_loader:\r\n",
        "            data, target = data.to(device), target.to(device)\r\n",
        "            output = model(data)\r\n",
        "            test_loss += F.nll_loss(output, target, reduction='sum').item()  # sum up batch loss\r\n",
        "            pred = output.argmax(dim=1, keepdim=True)  # get the index of the max log-probability\r\n",
        "            correct += pred.eq(target.view_as(pred)).sum().item()\r\n",
        "\r\n",
        "            if epoch == 13 :\r\n",
        "              temp = pred.eq(target.view_as(pred)).sum().item()\r\n",
        "              temp1 = target.view_as(pred)\r\n",
        "              if(len(misclassified)<25):\r\n",
        "                #print('Check missclass')\r\n",
        "                for i in range(len(temp1)):\r\n",
        "                  if(temp1[i]!=pred[i]):\r\n",
        "                    misclassified.append([data[i],temp1[i],pred[i]])\r\n",
        "                  if(len(misclassified)==25):\r\n",
        "                    break\r\n",
        "\r\n",
        "    test_loss /= len(test_loader.dataset)\r\n",
        "    test_losses.append(test_loss)\r\n",
        "\r\n",
        "    print('\\nTest set: Average loss: {:.4f}, Test_Accuracy: {}/{} ({:.2f}%)\\n'.format(\r\n",
        "        test_loss, correct, len(test_loader.dataset),\r\n",
        "        100. * correct / len(test_loader.dataset)))\r\n",
        "    \r\n",
        "    test_acc.append((100. * correct / len(test_loader.dataset)))\r\n",
        "\r\n",
        "\r\n"
      ],
      "execution_count": 9,
      "outputs": []
    },
    {
      "cell_type": "markdown",
      "metadata": {
        "id": "nnDV1scAx3tQ"
      },
      "source": [
        "Run Model"
      ]
    },
    {
      "cell_type": "code",
      "metadata": {
        "colab": {
          "base_uri": "https://localhost:8080/"
        },
        "id": "PXPuTycpx2Rl",
        "outputId": "1497e848-349b-48e6-eb58-fd1fdccdd992"
      },
      "source": [
        "from torch.optim.lr_scheduler import StepLR\r\n",
        "import copy\r\n",
        "torch.manual_seed(2)\r\n",
        "\r\n",
        "model_type = {}\r\n",
        "validation_acc = {}\r\n",
        "validation_loss = {}\r\n",
        "train_lossmat = {}\r\n",
        "train_accmat = {}\r\n",
        "missclass = {}\r\n",
        "\r\n",
        "\r\n",
        "\r\n",
        "\r\n",
        "  \r\n",
        "# Adding list as value \r\n",
        "model_type[\"BNL1\"] = ['BN', 'L1']\r\n",
        "model_type[\"BNL2\"] = ['BN', 'L2']\r\n",
        "model_type[\"BNL1L2\"] = ['BN', 'All']\r\n",
        "model_type[\"GBN\"] = ['GBN', 'NRL']\r\n",
        "model_type[\"GBNL1L2\"] = ['GBN', 'ALL']\r\n",
        "\r\n",
        "use_cuda = torch.cuda.is_available()\r\n",
        "device = torch.device(\"cuda\" if use_cuda else \"cpu\")\r\n",
        "\r\n",
        "\r\n",
        "for key, value in model_type.items():\r\n",
        "  train_losses = []\r\n",
        "  test_losses = []\r\n",
        "  train_acc = []\r\n",
        "  test_acc = []\r\n",
        "  misclassified=[]\r\n",
        "  \r\n",
        "  \r\n",
        "  \r\n",
        "  if value[0] == 'BN':\r\n",
        "    model = Net().to(device)\r\n",
        "    optimizer = optim.SGD(model.parameters(), lr=0.01, momentum=0.9)\r\n",
        "    scheduler = StepLR(optimizer, step_size=4, gamma=0.1)\r\n",
        "    train_loader, test_loader = dataloading('BN')\r\n",
        "  else:\r\n",
        "    model = NetGBN().to(device)\r\n",
        "    optimizer = optim.SGD(model.parameters(), lr=0.01, momentum=0.9)\r\n",
        "    scheduler = StepLR(optimizer, step_size=4, gamma=0.1)\r\n",
        "    train_loader, test_loader = dataloading('GBN')\r\n",
        "    \r\n",
        "  EPOCHS = 15\r\n",
        "  \r\n",
        "  for epoch in range(EPOCHS):\r\n",
        "    print(\"EPOCH:\", epoch)\r\n",
        "    train(model, device, train_loader, optimizer, epoch, value[1])\r\n",
        "    test(model, device, test_loader, epoch)\r\n",
        "    scheduler.step()\r\n",
        "  validation_acc[key] = copy.deepcopy(test_acc)\r\n",
        "  validation_loss[key] = copy.deepcopy(test_losses)\r\n",
        "\r\n",
        "  train_lossmat[key] = copy.deepcopy(train_losses)\r\n",
        "  train_accmat[key] = copy.deepcopy(train_accmat)\r\n",
        "  missclass[key] = copy.deepcopy(misclassified)\r\n",
        "\r\n",
        "\r\n",
        "\r\n"
      ],
      "execution_count": 10,
      "outputs": [
        {
          "output_type": "stream",
          "text": [
            "  0%|          | 0/1875 [00:00<?, ?it/s]/usr/local/lib/python3.6/dist-packages/ipykernel_launcher.py:34: UserWarning: Implicit dimension choice for log_softmax has been deprecated. Change the call to include dim=X as an argument.\n",
            "Loss=2.4120123386383057 Batch_id=1 Accuracy=6.25:   0%|          | 2/1875 [00:00<02:32, 12.30it/s]"
          ],
          "name": "stderr"
        },
        {
          "output_type": "stream",
          "text": [
            "CUDA Available? False\n",
            "EPOCH: 0\n"
          ],
          "name": "stdout"
        },
        {
          "output_type": "stream",
          "text": [
            "Loss=0.14542751014232635 Batch_id=1874 Accuracy=91.72: 100%|██████████| 1875/1875 [02:02<00:00, 15.34it/s]\n",
            "Loss=0.21435624361038208 Batch_id=2 Accuracy=96.88:   0%|          | 2/1875 [00:00<01:59, 15.70it/s]"
          ],
          "name": "stderr"
        },
        {
          "output_type": "stream",
          "text": [
            "\n",
            "Test set: Average loss: 0.0796, Test_Accuracy: 9777/10000 (97.77%)\n",
            "\n",
            "EPOCH: 1\n"
          ],
          "name": "stdout"
        },
        {
          "output_type": "stream",
          "text": [
            "Loss=0.17323273420333862 Batch_id=1874 Accuracy=97.11: 100%|██████████| 1875/1875 [02:02<00:00, 15.30it/s]\n",
            "Loss=0.2392313927412033 Batch_id=2 Accuracy=93.75:   0%|          | 2/1875 [00:00<02:01, 15.48it/s]"
          ],
          "name": "stderr"
        },
        {
          "output_type": "stream",
          "text": [
            "\n",
            "Test set: Average loss: 0.0600, Test_Accuracy: 9805/10000 (98.05%)\n",
            "\n",
            "EPOCH: 2\n"
          ],
          "name": "stdout"
        },
        {
          "output_type": "stream",
          "text": [
            "Loss=0.18637891113758087 Batch_id=1874 Accuracy=97.60: 100%|██████████| 1875/1875 [02:02<00:00, 15.27it/s]\n",
            "Loss=0.14916545152664185 Batch_id=2 Accuracy=96.88:   0%|          | 2/1875 [00:00<02:02, 15.25it/s]"
          ],
          "name": "stderr"
        },
        {
          "output_type": "stream",
          "text": [
            "\n",
            "Test set: Average loss: 0.0923, Test_Accuracy: 9717/10000 (97.17%)\n",
            "\n",
            "EPOCH: 3\n"
          ],
          "name": "stdout"
        },
        {
          "output_type": "stream",
          "text": [
            "Loss=0.26017966866493225 Batch_id=1874 Accuracy=97.83: 100%|██████████| 1875/1875 [02:01<00:00, 15.41it/s]\n",
            "Loss=0.14314453303813934 Batch_id=2 Accuracy=100.00:   0%|          | 2/1875 [00:00<01:59, 15.70it/s]"
          ],
          "name": "stderr"
        },
        {
          "output_type": "stream",
          "text": [
            "\n",
            "Test set: Average loss: 0.0518, Test_Accuracy: 9835/10000 (98.35%)\n",
            "\n",
            "EPOCH: 4\n"
          ],
          "name": "stdout"
        },
        {
          "output_type": "stream",
          "text": [
            "Loss=0.16093279421329498 Batch_id=1874 Accuracy=98.58: 100%|██████████| 1875/1875 [02:01<00:00, 15.45it/s]\n",
            "Loss=0.1321629136800766 Batch_id=2 Accuracy=96.88:   0%|          | 2/1875 [00:00<02:01, 15.41it/s]"
          ],
          "name": "stderr"
        },
        {
          "output_type": "stream",
          "text": [
            "\n",
            "Test set: Average loss: 0.0261, Test_Accuracy: 9914/10000 (99.14%)\n",
            "\n",
            "EPOCH: 5\n"
          ],
          "name": "stdout"
        },
        {
          "output_type": "stream",
          "text": [
            "Loss=0.1274188607931137 Batch_id=1874 Accuracy=98.76: 100%|██████████| 1875/1875 [02:01<00:00, 15.47it/s]\n",
            "Loss=0.1192980632185936 Batch_id=1 Accuracy=100.00:   0%|          | 2/1875 [00:00<02:31, 12.40it/s]"
          ],
          "name": "stderr"
        },
        {
          "output_type": "stream",
          "text": [
            "\n",
            "Test set: Average loss: 0.0239, Test_Accuracy: 9927/10000 (99.27%)\n",
            "\n",
            "EPOCH: 6\n"
          ],
          "name": "stdout"
        },
        {
          "output_type": "stream",
          "text": [
            "Loss=0.1761643886566162 Batch_id=1874 Accuracy=98.76: 100%|██████████| 1875/1875 [02:04<00:00, 15.08it/s]\n",
            "Loss=0.15752069652080536 Batch_id=2 Accuracy=97.92:   0%|          | 2/1875 [00:00<01:56, 16.10it/s]"
          ],
          "name": "stderr"
        },
        {
          "output_type": "stream",
          "text": [
            "\n",
            "Test set: Average loss: 0.0240, Test_Accuracy: 9923/10000 (99.23%)\n",
            "\n",
            "EPOCH: 7\n"
          ],
          "name": "stdout"
        },
        {
          "output_type": "stream",
          "text": [
            "Loss=0.12860536575317383 Batch_id=1874 Accuracy=98.84: 100%|██████████| 1875/1875 [02:06<00:00, 14.81it/s]\n",
            "Loss=0.12455582618713379 Batch_id=2 Accuracy=97.92:   0%|          | 2/1875 [00:00<02:01, 15.37it/s]"
          ],
          "name": "stderr"
        },
        {
          "output_type": "stream",
          "text": [
            "\n",
            "Test set: Average loss: 0.0243, Test_Accuracy: 9925/10000 (99.25%)\n",
            "\n",
            "EPOCH: 8\n"
          ],
          "name": "stdout"
        },
        {
          "output_type": "stream",
          "text": [
            "Loss=0.11062087118625641 Batch_id=1874 Accuracy=98.93: 100%|██████████| 1875/1875 [02:01<00:00, 15.45it/s]\n",
            "Loss=0.11757819354534149 Batch_id=2 Accuracy=100.00:   0%|          | 2/1875 [00:00<01:55, 16.26it/s]"
          ],
          "name": "stderr"
        },
        {
          "output_type": "stream",
          "text": [
            "\n",
            "Test set: Average loss: 0.0231, Test_Accuracy: 9930/10000 (99.30%)\n",
            "\n",
            "EPOCH: 9\n"
          ],
          "name": "stdout"
        },
        {
          "output_type": "stream",
          "text": [
            "Loss=0.11286503821611404 Batch_id=1874 Accuracy=98.94: 100%|██████████| 1875/1875 [02:00<00:00, 15.58it/s]\n",
            "Loss=0.12979727983474731 Batch_id=2 Accuracy=97.92:   0%|          | 2/1875 [00:00<01:56, 16.13it/s]"
          ],
          "name": "stderr"
        },
        {
          "output_type": "stream",
          "text": [
            "\n",
            "Test set: Average loss: 0.0231, Test_Accuracy: 9935/10000 (99.35%)\n",
            "\n",
            "EPOCH: 10\n"
          ],
          "name": "stdout"
        },
        {
          "output_type": "stream",
          "text": [
            "Loss=0.1315598487854004 Batch_id=1874 Accuracy=98.93: 100%|██████████| 1875/1875 [01:59<00:00, 15.66it/s]\n",
            "Loss=0.12336157262325287 Batch_id=2 Accuracy=96.88:   0%|          | 2/1875 [00:00<01:55, 16.21it/s]"
          ],
          "name": "stderr"
        },
        {
          "output_type": "stream",
          "text": [
            "\n",
            "Test set: Average loss: 0.0224, Test_Accuracy: 9928/10000 (99.28%)\n",
            "\n",
            "EPOCH: 11\n"
          ],
          "name": "stdout"
        },
        {
          "output_type": "stream",
          "text": [
            "Loss=0.18556362390518188 Batch_id=1874 Accuracy=98.99: 100%|██████████| 1875/1875 [01:59<00:00, 15.72it/s]\n",
            "Loss=0.15313810110092163 Batch_id=2 Accuracy=98.96:   0%|          | 2/1875 [00:00<01:57, 15.99it/s]"
          ],
          "name": "stderr"
        },
        {
          "output_type": "stream",
          "text": [
            "\n",
            "Test set: Average loss: 0.0223, Test_Accuracy: 9932/10000 (99.32%)\n",
            "\n",
            "EPOCH: 12\n"
          ],
          "name": "stdout"
        },
        {
          "output_type": "stream",
          "text": [
            "Loss=0.11292655020952225 Batch_id=1874 Accuracy=98.96: 100%|██████████| 1875/1875 [02:00<00:00, 15.57it/s]\n",
            "Loss=0.13830707967281342 Batch_id=2 Accuracy=100.00:   0%|          | 2/1875 [00:00<01:55, 16.21it/s]"
          ],
          "name": "stderr"
        },
        {
          "output_type": "stream",
          "text": [
            "\n",
            "Test set: Average loss: 0.0224, Test_Accuracy: 9929/10000 (99.29%)\n",
            "\n",
            "EPOCH: 13\n"
          ],
          "name": "stdout"
        },
        {
          "output_type": "stream",
          "text": [
            "Loss=0.1171656996011734 Batch_id=1874 Accuracy=98.96: 100%|██████████| 1875/1875 [02:00<00:00, 15.60it/s]\n",
            "Loss=0.1271468698978424 Batch_id=2 Accuracy=100.00:   0%|          | 2/1875 [00:00<01:59, 15.65it/s] "
          ],
          "name": "stderr"
        },
        {
          "output_type": "stream",
          "text": [
            "\n",
            "Test set: Average loss: 0.0227, Test_Accuracy: 9928/10000 (99.28%)\n",
            "\n",
            "EPOCH: 14\n"
          ],
          "name": "stdout"
        },
        {
          "output_type": "stream",
          "text": [
            "Loss=0.11070629209280014 Batch_id=1874 Accuracy=99.02: 100%|██████████| 1875/1875 [02:01<00:00, 15.39it/s]\n",
            "Loss=2.297795534133911 Batch_id=1 Accuracy=9.38:   0%|          | 2/1875 [00:00<02:06, 14.83it/s]"
          ],
          "name": "stderr"
        },
        {
          "output_type": "stream",
          "text": [
            "\n",
            "Test set: Average loss: 0.0219, Test_Accuracy: 9934/10000 (99.34%)\n",
            "\n",
            "CUDA Available? False\n",
            "EPOCH: 0\n"
          ],
          "name": "stdout"
        },
        {
          "output_type": "stream",
          "text": [
            "Loss=0.03222430497407913 Batch_id=1874 Accuracy=92.45: 100%|██████████| 1875/1875 [02:04<00:00, 15.03it/s]\n",
            "Loss=0.14714325964450836 Batch_id=2 Accuracy=97.92:   0%|          | 2/1875 [00:00<02:00, 15.54it/s]"
          ],
          "name": "stderr"
        },
        {
          "output_type": "stream",
          "text": [
            "\n",
            "Test set: Average loss: 0.0657, Test_Accuracy: 9798/10000 (97.98%)\n",
            "\n",
            "EPOCH: 1\n"
          ],
          "name": "stdout"
        },
        {
          "output_type": "stream",
          "text": [
            "Loss=0.04130563884973526 Batch_id=1874 Accuracy=97.41: 100%|██████████| 1875/1875 [02:03<00:00, 15.12it/s]\n",
            "Loss=0.07378248125314713 Batch_id=2 Accuracy=95.83:   0%|          | 2/1875 [00:00<02:01, 15.40it/s] "
          ],
          "name": "stderr"
        },
        {
          "output_type": "stream",
          "text": [
            "\n",
            "Test set: Average loss: 0.0476, Test_Accuracy: 9839/10000 (98.39%)\n",
            "\n",
            "EPOCH: 2\n"
          ],
          "name": "stdout"
        },
        {
          "output_type": "stream",
          "text": [
            "Loss=0.2124628871679306 Batch_id=1874 Accuracy=97.95: 100%|██████████| 1875/1875 [02:02<00:00, 15.25it/s]\n",
            "Loss=0.07009218633174896 Batch_id=2 Accuracy=100.00:   0%|          | 2/1875 [00:00<01:56, 16.10it/s]"
          ],
          "name": "stderr"
        },
        {
          "output_type": "stream",
          "text": [
            "\n",
            "Test set: Average loss: 0.0345, Test_Accuracy: 9889/10000 (98.89%)\n",
            "\n",
            "EPOCH: 3\n"
          ],
          "name": "stdout"
        },
        {
          "output_type": "stream",
          "text": [
            "Loss=0.1961030662059784 Batch_id=1874 Accuracy=98.14: 100%|██████████| 1875/1875 [02:02<00:00, 15.27it/s]\n",
            "Loss=0.01092347502708435 Batch_id=2 Accuracy=100.00:   0%|          | 2/1875 [00:00<01:58, 15.76it/s] "
          ],
          "name": "stderr"
        },
        {
          "output_type": "stream",
          "text": [
            "\n",
            "Test set: Average loss: 0.0368, Test_Accuracy: 9883/10000 (98.83%)\n",
            "\n",
            "EPOCH: 4\n"
          ],
          "name": "stdout"
        },
        {
          "output_type": "stream",
          "text": [
            "Loss=0.020006751641631126 Batch_id=1874 Accuracy=98.65: 100%|██████████| 1875/1875 [02:03<00:00, 15.19it/s]\n",
            "Loss=0.03017740324139595 Batch_id=2 Accuracy=97.92:   0%|          | 2/1875 [00:00<01:56, 16.07it/s]"
          ],
          "name": "stderr"
        },
        {
          "output_type": "stream",
          "text": [
            "\n",
            "Test set: Average loss: 0.0245, Test_Accuracy: 9914/10000 (99.14%)\n",
            "\n",
            "EPOCH: 5\n"
          ],
          "name": "stdout"
        },
        {
          "output_type": "stream",
          "text": [
            "Loss=0.010953918099403381 Batch_id=1874 Accuracy=98.83: 100%|██████████| 1875/1875 [02:02<00:00, 15.26it/s]\n",
            "Loss=0.11617279052734375 Batch_id=2 Accuracy=97.92:   0%|          | 2/1875 [00:00<01:57, 15.87it/s]  "
          ],
          "name": "stderr"
        },
        {
          "output_type": "stream",
          "text": [
            "\n",
            "Test set: Average loss: 0.0228, Test_Accuracy: 9924/10000 (99.24%)\n",
            "\n",
            "EPOCH: 6\n"
          ],
          "name": "stdout"
        },
        {
          "output_type": "stream",
          "text": [
            "Loss=0.042823903262615204 Batch_id=1874 Accuracy=98.83: 100%|██████████| 1875/1875 [02:02<00:00, 15.27it/s]\n",
            "Loss=0.0553361140191555 Batch_id=2 Accuracy=97.92:   0%|          | 2/1875 [00:00<02:02, 15.27it/s]"
          ],
          "name": "stderr"
        },
        {
          "output_type": "stream",
          "text": [
            "\n",
            "Test set: Average loss: 0.0225, Test_Accuracy: 9925/10000 (99.25%)\n",
            "\n",
            "EPOCH: 7\n"
          ],
          "name": "stdout"
        },
        {
          "output_type": "stream",
          "text": [
            "Loss=0.013011043891310692 Batch_id=1874 Accuracy=98.89: 100%|██████████| 1875/1875 [02:02<00:00, 15.32it/s]\n",
            "Loss=0.07425286620855331 Batch_id=2 Accuracy=96.88:   0%|          | 2/1875 [00:00<01:59, 15.66it/s] "
          ],
          "name": "stderr"
        },
        {
          "output_type": "stream",
          "text": [
            "\n",
            "Test set: Average loss: 0.0213, Test_Accuracy: 9930/10000 (99.30%)\n",
            "\n",
            "EPOCH: 8\n"
          ],
          "name": "stdout"
        },
        {
          "output_type": "stream",
          "text": [
            "Loss=0.0121665233746171 Batch_id=1874 Accuracy=98.96: 100%|██████████| 1875/1875 [02:03<00:00, 15.22it/s]\n",
            "Loss=0.011184867471456528 Batch_id=2 Accuracy=100.00:   0%|          | 2/1875 [00:00<02:03, 15.20it/s]"
          ],
          "name": "stderr"
        },
        {
          "output_type": "stream",
          "text": [
            "\n",
            "Test set: Average loss: 0.0219, Test_Accuracy: 9926/10000 (99.26%)\n",
            "\n",
            "EPOCH: 9\n"
          ],
          "name": "stdout"
        },
        {
          "output_type": "stream",
          "text": [
            "Loss=0.01432446762919426 Batch_id=1874 Accuracy=98.95: 100%|██████████| 1875/1875 [02:05<00:00, 14.90it/s]\n",
            "Loss=0.02026546746492386 Batch_id=2 Accuracy=98.96:   0%|          | 2/1875 [00:00<01:59, 15.69it/s]"
          ],
          "name": "stderr"
        },
        {
          "output_type": "stream",
          "text": [
            "\n",
            "Test set: Average loss: 0.0210, Test_Accuracy: 9930/10000 (99.30%)\n",
            "\n",
            "EPOCH: 10\n"
          ],
          "name": "stdout"
        },
        {
          "output_type": "stream",
          "text": [
            "Loss=0.022394798696041107 Batch_id=1874 Accuracy=98.93: 100%|██████████| 1875/1875 [02:04<00:00, 15.03it/s]\n",
            "Loss=0.04152002930641174 Batch_id=2 Accuracy=98.96:   0%|          | 2/1875 [00:00<01:56, 16.12it/s]"
          ],
          "name": "stderr"
        },
        {
          "output_type": "stream",
          "text": [
            "\n",
            "Test set: Average loss: 0.0213, Test_Accuracy: 9925/10000 (99.25%)\n",
            "\n",
            "EPOCH: 11\n"
          ],
          "name": "stdout"
        },
        {
          "output_type": "stream",
          "text": [
            "Loss=0.07551677525043488 Batch_id=1874 Accuracy=99.00: 100%|██████████| 1875/1875 [02:05<00:00, 14.96it/s]\n",
            "Loss=0.026943907141685486 Batch_id=2 Accuracy=100.00:   0%|          | 2/1875 [00:00<02:02, 15.29it/s]"
          ],
          "name": "stderr"
        },
        {
          "output_type": "stream",
          "text": [
            "\n",
            "Test set: Average loss: 0.0217, Test_Accuracy: 9921/10000 (99.21%)\n",
            "\n",
            "EPOCH: 12\n"
          ],
          "name": "stdout"
        },
        {
          "output_type": "stream",
          "text": [
            "Loss=0.0738435760140419 Batch_id=1874 Accuracy=98.95: 100%|██████████| 1875/1875 [02:04<00:00, 15.09it/s]\n",
            "Loss=0.029896613210439682 Batch_id=2 Accuracy=100.00:   0%|          | 2/1875 [00:00<01:56, 16.02it/s]"
          ],
          "name": "stderr"
        },
        {
          "output_type": "stream",
          "text": [
            "\n",
            "Test set: Average loss: 0.0216, Test_Accuracy: 9925/10000 (99.25%)\n",
            "\n",
            "EPOCH: 13\n"
          ],
          "name": "stdout"
        },
        {
          "output_type": "stream",
          "text": [
            "Loss=0.01570768654346466 Batch_id=1874 Accuracy=98.96: 100%|██████████| 1875/1875 [02:04<00:00, 15.09it/s]\n",
            "Loss=0.052673906087875366 Batch_id=2 Accuracy=98.96:   0%|          | 2/1875 [00:00<01:57, 15.94it/s]"
          ],
          "name": "stderr"
        },
        {
          "output_type": "stream",
          "text": [
            "\n",
            "Test set: Average loss: 0.0217, Test_Accuracy: 9923/10000 (99.23%)\n",
            "\n",
            "EPOCH: 14\n"
          ],
          "name": "stdout"
        },
        {
          "output_type": "stream",
          "text": [
            "Loss=0.020423749461770058 Batch_id=1874 Accuracy=99.01: 100%|██████████| 1875/1875 [02:03<00:00, 15.12it/s]\n",
            "Loss=2.3980374336242676 Batch_id=1 Accuracy=9.38:   0%|          | 2/1875 [00:00<01:57, 15.98it/s]"
          ],
          "name": "stderr"
        },
        {
          "output_type": "stream",
          "text": [
            "\n",
            "Test set: Average loss: 0.0209, Test_Accuracy: 9926/10000 (99.26%)\n",
            "\n",
            "CUDA Available? False\n",
            "EPOCH: 0\n"
          ],
          "name": "stdout"
        },
        {
          "output_type": "stream",
          "text": [
            "Loss=0.17537936568260193 Batch_id=1874 Accuracy=92.13: 100%|██████████| 1875/1875 [02:02<00:00, 15.25it/s]\n",
            "Loss=0.1775200068950653 Batch_id=1 Accuracy=100.00:   0%|          | 2/1875 [00:00<02:00, 15.57it/s]"
          ],
          "name": "stderr"
        },
        {
          "output_type": "stream",
          "text": [
            "\n",
            "Test set: Average loss: 0.0745, Test_Accuracy: 9765/10000 (97.65%)\n",
            "\n",
            "EPOCH: 1\n"
          ],
          "name": "stdout"
        },
        {
          "output_type": "stream",
          "text": [
            "Loss=0.19537243247032166 Batch_id=1874 Accuracy=97.06: 100%|██████████| 1875/1875 [02:01<00:00, 15.41it/s]\n",
            "Loss=0.240319162607193 Batch_id=2 Accuracy=95.83:   0%|          | 2/1875 [00:00<01:52, 16.59it/s]  "
          ],
          "name": "stderr"
        },
        {
          "output_type": "stream",
          "text": [
            "\n",
            "Test set: Average loss: 0.0659, Test_Accuracy: 9781/10000 (97.81%)\n",
            "\n",
            "EPOCH: 2\n"
          ],
          "name": "stdout"
        },
        {
          "output_type": "stream",
          "text": [
            "Loss=0.3459610939025879 Batch_id=1874 Accuracy=97.52: 100%|██████████| 1875/1875 [02:01<00:00, 15.43it/s]\n",
            "Loss=0.17970404028892517 Batch_id=1 Accuracy=98.44:   0%|          | 2/1875 [00:00<02:02, 15.27it/s]"
          ],
          "name": "stderr"
        },
        {
          "output_type": "stream",
          "text": [
            "\n",
            "Test set: Average loss: 0.0476, Test_Accuracy: 9851/10000 (98.51%)\n",
            "\n",
            "EPOCH: 3\n"
          ],
          "name": "stdout"
        },
        {
          "output_type": "stream",
          "text": [
            "Loss=0.3233591914176941 Batch_id=1874 Accuracy=97.69: 100%|██████████| 1875/1875 [02:02<00:00, 15.35it/s]\n",
            "Loss=0.13323727250099182 Batch_id=2 Accuracy=98.96:   0%|          | 2/1875 [00:00<01:58, 15.81it/s]"
          ],
          "name": "stderr"
        },
        {
          "output_type": "stream",
          "text": [
            "\n",
            "Test set: Average loss: 0.0445, Test_Accuracy: 9860/10000 (98.60%)\n",
            "\n",
            "EPOCH: 4\n"
          ],
          "name": "stdout"
        },
        {
          "output_type": "stream",
          "text": [
            "Loss=0.15788470208644867 Batch_id=1874 Accuracy=98.53: 100%|██████████| 1875/1875 [02:01<00:00, 15.37it/s]\n",
            "Loss=0.20267750322818756 Batch_id=2 Accuracy=96.88:   0%|          | 2/1875 [00:00<01:55, 16.16it/s]"
          ],
          "name": "stderr"
        },
        {
          "output_type": "stream",
          "text": [
            "\n",
            "Test set: Average loss: 0.0236, Test_Accuracy: 9921/10000 (99.21%)\n",
            "\n",
            "EPOCH: 5\n"
          ],
          "name": "stdout"
        },
        {
          "output_type": "stream",
          "text": [
            "Loss=0.13320410251617432 Batch_id=1874 Accuracy=98.69: 100%|██████████| 1875/1875 [02:01<00:00, 15.40it/s]\n",
            "Loss=0.23496060073375702 Batch_id=2 Accuracy=97.92:   0%|          | 2/1875 [00:00<02:03, 15.22it/s] "
          ],
          "name": "stderr"
        },
        {
          "output_type": "stream",
          "text": [
            "\n",
            "Test set: Average loss: 0.0225, Test_Accuracy: 9929/10000 (99.29%)\n",
            "\n",
            "EPOCH: 6\n"
          ],
          "name": "stdout"
        },
        {
          "output_type": "stream",
          "text": [
            "Loss=0.14955665171146393 Batch_id=1874 Accuracy=98.73: 100%|██████████| 1875/1875 [02:02<00:00, 15.34it/s]\n",
            "Loss=0.15829172730445862 Batch_id=2 Accuracy=97.92:   0%|          | 2/1875 [00:00<02:00, 15.52it/s]"
          ],
          "name": "stderr"
        },
        {
          "output_type": "stream",
          "text": [
            "\n",
            "Test set: Average loss: 0.0229, Test_Accuracy: 9914/10000 (99.14%)\n",
            "\n",
            "EPOCH: 7\n"
          ],
          "name": "stdout"
        },
        {
          "output_type": "stream",
          "text": [
            "Loss=0.12290224432945251 Batch_id=1874 Accuracy=98.77: 100%|██████████| 1875/1875 [02:02<00:00, 15.33it/s]\n",
            "Loss=0.1575467735528946 Batch_id=2 Accuracy=97.92:   0%|          | 2/1875 [00:00<01:57, 15.95it/s]"
          ],
          "name": "stderr"
        },
        {
          "output_type": "stream",
          "text": [
            "\n",
            "Test set: Average loss: 0.0214, Test_Accuracy: 9931/10000 (99.31%)\n",
            "\n",
            "EPOCH: 8\n"
          ],
          "name": "stdout"
        },
        {
          "output_type": "stream",
          "text": [
            "Loss=0.11565442383289337 Batch_id=1874 Accuracy=98.87: 100%|██████████| 1875/1875 [02:02<00:00, 15.37it/s]\n",
            "Loss=0.11779643595218658 Batch_id=2 Accuracy=100.00:   0%|          | 2/1875 [00:00<02:00, 15.50it/s]"
          ],
          "name": "stderr"
        },
        {
          "output_type": "stream",
          "text": [
            "\n",
            "Test set: Average loss: 0.0212, Test_Accuracy: 9926/10000 (99.26%)\n",
            "\n",
            "EPOCH: 9\n"
          ],
          "name": "stdout"
        },
        {
          "output_type": "stream",
          "text": [
            "Loss=0.14267084002494812 Batch_id=1874 Accuracy=98.88: 100%|██████████| 1875/1875 [02:02<00:00, 15.33it/s]\n",
            "Loss=0.12206648290157318 Batch_id=2 Accuracy=98.96:   0%|          | 2/1875 [00:00<01:58, 15.81it/s]"
          ],
          "name": "stderr"
        },
        {
          "output_type": "stream",
          "text": [
            "\n",
            "Test set: Average loss: 0.0206, Test_Accuracy: 9936/10000 (99.36%)\n",
            "\n",
            "EPOCH: 10\n"
          ],
          "name": "stdout"
        },
        {
          "output_type": "stream",
          "text": [
            "Loss=0.12564130127429962 Batch_id=1874 Accuracy=98.83: 100%|██████████| 1875/1875 [02:03<00:00, 15.18it/s]\n",
            "Loss=0.2553408145904541 Batch_id=1 Accuracy=93.75:   0%|          | 2/1875 [00:00<02:10, 14.39it/s]"
          ],
          "name": "stderr"
        },
        {
          "output_type": "stream",
          "text": [
            "\n",
            "Test set: Average loss: 0.0208, Test_Accuracy: 9931/10000 (99.31%)\n",
            "\n",
            "EPOCH: 11\n"
          ],
          "name": "stdout"
        },
        {
          "output_type": "stream",
          "text": [
            "Loss=0.15490888059139252 Batch_id=1874 Accuracy=98.93: 100%|██████████| 1875/1875 [02:04<00:00, 15.07it/s]\n",
            "Loss=0.1306275725364685 Batch_id=2 Accuracy=98.96:   0%|          | 2/1875 [00:00<02:00, 15.56it/s] "
          ],
          "name": "stderr"
        },
        {
          "output_type": "stream",
          "text": [
            "\n",
            "Test set: Average loss: 0.0207, Test_Accuracy: 9927/10000 (99.27%)\n",
            "\n",
            "EPOCH: 12\n"
          ],
          "name": "stdout"
        },
        {
          "output_type": "stream",
          "text": [
            "Loss=0.13827826082706451 Batch_id=1874 Accuracy=98.97: 100%|██████████| 1875/1875 [02:04<00:00, 15.07it/s]\n",
            "Loss=0.12859179079532623 Batch_id=2 Accuracy=100.00:   0%|          | 2/1875 [00:00<01:56, 16.09it/s]"
          ],
          "name": "stderr"
        },
        {
          "output_type": "stream",
          "text": [
            "\n",
            "Test set: Average loss: 0.0209, Test_Accuracy: 9925/10000 (99.25%)\n",
            "\n",
            "EPOCH: 13\n"
          ],
          "name": "stdout"
        },
        {
          "output_type": "stream",
          "text": [
            "Loss=0.11644163727760315 Batch_id=1874 Accuracy=98.92: 100%|██████████| 1875/1875 [02:03<00:00, 15.17it/s]\n",
            "Loss=0.11572768539190292 Batch_id=2 Accuracy=100.00:   0%|          | 2/1875 [00:00<01:57, 16.00it/s]"
          ],
          "name": "stderr"
        },
        {
          "output_type": "stream",
          "text": [
            "\n",
            "Test set: Average loss: 0.0211, Test_Accuracy: 9931/10000 (99.31%)\n",
            "\n",
            "EPOCH: 14\n"
          ],
          "name": "stdout"
        },
        {
          "output_type": "stream",
          "text": [
            "Loss=0.132769376039505 Batch_id=1874 Accuracy=98.86: 100%|██████████| 1875/1875 [02:03<00:00, 15.21it/s]\n",
            "  0%|          | 0/469 [00:00<?, ?it/s]"
          ],
          "name": "stderr"
        },
        {
          "output_type": "stream",
          "text": [
            "\n",
            "Test set: Average loss: 0.0203, Test_Accuracy: 9936/10000 (99.36%)\n",
            "\n",
            "CUDA Available? False\n",
            "EPOCH: 0\n"
          ],
          "name": "stdout"
        },
        {
          "output_type": "stream",
          "text": [
            "Loss=0.24423354864120483 Batch_id=468 Accuracy=84.11: 100%|██████████| 469/469 [01:38<00:00,  4.77it/s]\n",
            "  0%|          | 0/469 [00:00<?, ?it/s]"
          ],
          "name": "stderr"
        },
        {
          "output_type": "stream",
          "text": [
            "\n",
            "Test set: Average loss: 0.2441, Test_Accuracy: 9298/10000 (92.98%)\n",
            "\n",
            "EPOCH: 1\n"
          ],
          "name": "stdout"
        },
        {
          "output_type": "stream",
          "text": [
            "Loss=0.241725355386734 Batch_id=468 Accuracy=96.76: 100%|██████████| 469/469 [01:38<00:00,  4.78it/s]\n",
            "  0%|          | 0/469 [00:00<?, ?it/s]"
          ],
          "name": "stderr"
        },
        {
          "output_type": "stream",
          "text": [
            "\n",
            "Test set: Average loss: 0.0894, Test_Accuracy: 9762/10000 (97.62%)\n",
            "\n",
            "EPOCH: 2\n"
          ],
          "name": "stdout"
        },
        {
          "output_type": "stream",
          "text": [
            "Loss=0.2079123854637146 Batch_id=468 Accuracy=97.39: 100%|██████████| 469/469 [01:37<00:00,  4.79it/s]\n",
            "Loss=0.15461774170398712 Batch_id=0 Accuracy=99.22:   0%|          | 0/469 [00:00<?, ?it/s]"
          ],
          "name": "stderr"
        },
        {
          "output_type": "stream",
          "text": [
            "\n",
            "Test set: Average loss: 0.0713, Test_Accuracy: 9779/10000 (97.79%)\n",
            "\n",
            "EPOCH: 3\n"
          ],
          "name": "stdout"
        },
        {
          "output_type": "stream",
          "text": [
            "Loss=0.21012161672115326 Batch_id=468 Accuracy=97.74: 100%|██████████| 469/469 [01:38<00:00,  4.77it/s]\n",
            "  0%|          | 0/469 [00:00<?, ?it/s]"
          ],
          "name": "stderr"
        },
        {
          "output_type": "stream",
          "text": [
            "\n",
            "Test set: Average loss: 0.0586, Test_Accuracy: 9831/10000 (98.31%)\n",
            "\n",
            "EPOCH: 4\n"
          ],
          "name": "stdout"
        },
        {
          "output_type": "stream",
          "text": [
            "Loss=0.20768508315086365 Batch_id=468 Accuracy=98.44: 100%|██████████| 469/469 [01:38<00:00,  4.77it/s]\n",
            "  0%|          | 0/469 [00:00<?, ?it/s]"
          ],
          "name": "stderr"
        },
        {
          "output_type": "stream",
          "text": [
            "\n",
            "Test set: Average loss: 0.0323, Test_Accuracy: 9904/10000 (99.04%)\n",
            "\n",
            "EPOCH: 5\n"
          ],
          "name": "stdout"
        },
        {
          "output_type": "stream",
          "text": [
            "Loss=0.128432959318161 Batch_id=468 Accuracy=98.59: 100%|██████████| 469/469 [01:39<00:00,  4.69it/s]\n",
            "  0%|          | 0/469 [00:00<?, ?it/s]"
          ],
          "name": "stderr"
        },
        {
          "output_type": "stream",
          "text": [
            "\n",
            "Test set: Average loss: 0.0306, Test_Accuracy: 9918/10000 (99.18%)\n",
            "\n",
            "EPOCH: 6\n"
          ],
          "name": "stdout"
        },
        {
          "output_type": "stream",
          "text": [
            "Loss=0.15627513825893402 Batch_id=468 Accuracy=98.57: 100%|██████████| 469/469 [01:38<00:00,  4.74it/s]\n",
            "  0%|          | 0/469 [00:00<?, ?it/s]"
          ],
          "name": "stderr"
        },
        {
          "output_type": "stream",
          "text": [
            "\n",
            "Test set: Average loss: 0.0296, Test_Accuracy: 9916/10000 (99.16%)\n",
            "\n",
            "EPOCH: 7\n"
          ],
          "name": "stdout"
        },
        {
          "output_type": "stream",
          "text": [
            "Loss=0.13173024356365204 Batch_id=468 Accuracy=98.69: 100%|██████████| 469/469 [01:37<00:00,  4.80it/s]\n",
            "  0%|          | 0/469 [00:00<?, ?it/s]"
          ],
          "name": "stderr"
        },
        {
          "output_type": "stream",
          "text": [
            "\n",
            "Test set: Average loss: 0.0284, Test_Accuracy: 9927/10000 (99.27%)\n",
            "\n",
            "EPOCH: 8\n"
          ],
          "name": "stdout"
        },
        {
          "output_type": "stream",
          "text": [
            "Loss=0.14781679213047028 Batch_id=468 Accuracy=98.75: 100%|██████████| 469/469 [01:40<00:00,  4.68it/s]\n",
            "  0%|          | 0/469 [00:00<?, ?it/s]"
          ],
          "name": "stderr"
        },
        {
          "output_type": "stream",
          "text": [
            "\n",
            "Test set: Average loss: 0.0281, Test_Accuracy: 9921/10000 (99.21%)\n",
            "\n",
            "EPOCH: 9\n"
          ],
          "name": "stdout"
        },
        {
          "output_type": "stream",
          "text": [
            "Loss=0.13680505752563477 Batch_id=468 Accuracy=98.74: 100%|██████████| 469/469 [01:38<00:00,  4.77it/s]\n",
            "  0%|          | 0/469 [00:00<?, ?it/s]"
          ],
          "name": "stderr"
        },
        {
          "output_type": "stream",
          "text": [
            "\n",
            "Test set: Average loss: 0.0279, Test_Accuracy: 9918/10000 (99.18%)\n",
            "\n",
            "EPOCH: 10\n"
          ],
          "name": "stdout"
        },
        {
          "output_type": "stream",
          "text": [
            "Loss=0.11565671861171722 Batch_id=468 Accuracy=98.75: 100%|██████████| 469/469 [01:38<00:00,  4.75it/s]\n",
            "  0%|          | 0/469 [00:00<?, ?it/s]"
          ],
          "name": "stderr"
        },
        {
          "output_type": "stream",
          "text": [
            "\n",
            "Test set: Average loss: 0.0275, Test_Accuracy: 9921/10000 (99.21%)\n",
            "\n",
            "EPOCH: 11\n"
          ],
          "name": "stdout"
        },
        {
          "output_type": "stream",
          "text": [
            "Loss=0.12451893091201782 Batch_id=468 Accuracy=98.74: 100%|██████████| 469/469 [01:38<00:00,  4.75it/s]\n",
            "  0%|          | 0/469 [00:00<?, ?it/s]"
          ],
          "name": "stderr"
        },
        {
          "output_type": "stream",
          "text": [
            "\n",
            "Test set: Average loss: 0.0283, Test_Accuracy: 9917/10000 (99.17%)\n",
            "\n",
            "EPOCH: 12\n"
          ],
          "name": "stdout"
        },
        {
          "output_type": "stream",
          "text": [
            "Loss=0.14729395508766174 Batch_id=468 Accuracy=98.80: 100%|██████████| 469/469 [01:39<00:00,  4.74it/s]\n",
            "  0%|          | 0/469 [00:00<?, ?it/s]"
          ],
          "name": "stderr"
        },
        {
          "output_type": "stream",
          "text": [
            "\n",
            "Test set: Average loss: 0.0279, Test_Accuracy: 9922/10000 (99.22%)\n",
            "\n",
            "EPOCH: 13\n"
          ],
          "name": "stdout"
        },
        {
          "output_type": "stream",
          "text": [
            "Loss=0.12398434430360794 Batch_id=468 Accuracy=98.74: 100%|██████████| 469/469 [01:37<00:00,  4.81it/s]\n",
            "  0%|          | 0/469 [00:00<?, ?it/s]"
          ],
          "name": "stderr"
        },
        {
          "output_type": "stream",
          "text": [
            "\n",
            "Test set: Average loss: 0.0278, Test_Accuracy: 9922/10000 (99.22%)\n",
            "\n",
            "EPOCH: 14\n"
          ],
          "name": "stdout"
        },
        {
          "output_type": "stream",
          "text": [
            "Loss=0.16607818007469177 Batch_id=468 Accuracy=98.81: 100%|██████████| 469/469 [01:37<00:00,  4.81it/s]\n",
            "  0%|          | 0/469 [00:00<?, ?it/s]"
          ],
          "name": "stderr"
        },
        {
          "output_type": "stream",
          "text": [
            "\n",
            "Test set: Average loss: 0.0275, Test_Accuracy: 9920/10000 (99.20%)\n",
            "\n",
            "CUDA Available? False\n",
            "EPOCH: 0\n"
          ],
          "name": "stdout"
        },
        {
          "output_type": "stream",
          "text": [
            "Loss=0.24423354864120483 Batch_id=468 Accuracy=84.11: 100%|██████████| 469/469 [01:36<00:00,  4.84it/s]\n",
            "  0%|          | 0/469 [00:00<?, ?it/s]"
          ],
          "name": "stderr"
        },
        {
          "output_type": "stream",
          "text": [
            "\n",
            "Test set: Average loss: 0.2441, Test_Accuracy: 9298/10000 (92.98%)\n",
            "\n",
            "EPOCH: 1\n"
          ],
          "name": "stdout"
        },
        {
          "output_type": "stream",
          "text": [
            "Loss=0.241725355386734 Batch_id=468 Accuracy=96.76: 100%|██████████| 469/469 [01:36<00:00,  4.84it/s]\n",
            "  0%|          | 0/469 [00:00<?, ?it/s]"
          ],
          "name": "stderr"
        },
        {
          "output_type": "stream",
          "text": [
            "\n",
            "Test set: Average loss: 0.0894, Test_Accuracy: 9762/10000 (97.62%)\n",
            "\n",
            "EPOCH: 2\n"
          ],
          "name": "stdout"
        },
        {
          "output_type": "stream",
          "text": [
            "Loss=0.2079123854637146 Batch_id=468 Accuracy=97.39: 100%|██████████| 469/469 [01:37<00:00,  4.81it/s]\n",
            "  0%|          | 0/469 [00:00<?, ?it/s]"
          ],
          "name": "stderr"
        },
        {
          "output_type": "stream",
          "text": [
            "\n",
            "Test set: Average loss: 0.0713, Test_Accuracy: 9779/10000 (97.79%)\n",
            "\n",
            "EPOCH: 3\n"
          ],
          "name": "stdout"
        },
        {
          "output_type": "stream",
          "text": [
            "Loss=0.21012161672115326 Batch_id=468 Accuracy=97.74: 100%|██████████| 469/469 [01:36<00:00,  4.88it/s]\n",
            "  0%|          | 0/469 [00:00<?, ?it/s]"
          ],
          "name": "stderr"
        },
        {
          "output_type": "stream",
          "text": [
            "\n",
            "Test set: Average loss: 0.0586, Test_Accuracy: 9831/10000 (98.31%)\n",
            "\n",
            "EPOCH: 4\n"
          ],
          "name": "stdout"
        },
        {
          "output_type": "stream",
          "text": [
            "Loss=0.20768508315086365 Batch_id=468 Accuracy=98.44: 100%|██████████| 469/469 [01:36<00:00,  4.86it/s]\n",
            "Loss=0.1965891271829605 Batch_id=0 Accuracy=96.88:   0%|          | 0/469 [00:00<?, ?it/s]"
          ],
          "name": "stderr"
        },
        {
          "output_type": "stream",
          "text": [
            "\n",
            "Test set: Average loss: 0.0323, Test_Accuracy: 9904/10000 (99.04%)\n",
            "\n",
            "EPOCH: 5\n"
          ],
          "name": "stdout"
        },
        {
          "output_type": "stream",
          "text": [
            "Loss=0.128432959318161 Batch_id=468 Accuracy=98.59: 100%|██████████| 469/469 [01:36<00:00,  4.84it/s]\n",
            "  0%|          | 0/469 [00:00<?, ?it/s]"
          ],
          "name": "stderr"
        },
        {
          "output_type": "stream",
          "text": [
            "\n",
            "Test set: Average loss: 0.0306, Test_Accuracy: 9918/10000 (99.18%)\n",
            "\n",
            "EPOCH: 6\n"
          ],
          "name": "stdout"
        },
        {
          "output_type": "stream",
          "text": [
            "Loss=0.15627513825893402 Batch_id=468 Accuracy=98.57: 100%|██████████| 469/469 [01:37<00:00,  4.80it/s]\n",
            "  0%|          | 0/469 [00:00<?, ?it/s]"
          ],
          "name": "stderr"
        },
        {
          "output_type": "stream",
          "text": [
            "\n",
            "Test set: Average loss: 0.0296, Test_Accuracy: 9916/10000 (99.16%)\n",
            "\n",
            "EPOCH: 7\n"
          ],
          "name": "stdout"
        },
        {
          "output_type": "stream",
          "text": [
            "Loss=0.13173024356365204 Batch_id=468 Accuracy=98.69: 100%|██████████| 469/469 [01:39<00:00,  4.71it/s]\n",
            "  0%|          | 0/469 [00:00<?, ?it/s]"
          ],
          "name": "stderr"
        },
        {
          "output_type": "stream",
          "text": [
            "\n",
            "Test set: Average loss: 0.0284, Test_Accuracy: 9927/10000 (99.27%)\n",
            "\n",
            "EPOCH: 8\n"
          ],
          "name": "stdout"
        },
        {
          "output_type": "stream",
          "text": [
            "Loss=0.14781679213047028 Batch_id=468 Accuracy=98.75: 100%|██████████| 469/469 [01:40<00:00,  4.67it/s]\n",
            "  0%|          | 0/469 [00:00<?, ?it/s]"
          ],
          "name": "stderr"
        },
        {
          "output_type": "stream",
          "text": [
            "\n",
            "Test set: Average loss: 0.0281, Test_Accuracy: 9921/10000 (99.21%)\n",
            "\n",
            "EPOCH: 9\n"
          ],
          "name": "stdout"
        },
        {
          "output_type": "stream",
          "text": [
            "Loss=0.13680505752563477 Batch_id=468 Accuracy=98.74: 100%|██████████| 469/469 [01:38<00:00,  4.76it/s]\n",
            "  0%|          | 0/469 [00:00<?, ?it/s]"
          ],
          "name": "stderr"
        },
        {
          "output_type": "stream",
          "text": [
            "\n",
            "Test set: Average loss: 0.0279, Test_Accuracy: 9918/10000 (99.18%)\n",
            "\n",
            "EPOCH: 10\n"
          ],
          "name": "stdout"
        },
        {
          "output_type": "stream",
          "text": [
            "Loss=0.11565671861171722 Batch_id=468 Accuracy=98.75: 100%|██████████| 469/469 [01:39<00:00,  4.69it/s]\n",
            "  0%|          | 0/469 [00:00<?, ?it/s]"
          ],
          "name": "stderr"
        },
        {
          "output_type": "stream",
          "text": [
            "\n",
            "Test set: Average loss: 0.0275, Test_Accuracy: 9921/10000 (99.21%)\n",
            "\n",
            "EPOCH: 11\n"
          ],
          "name": "stdout"
        },
        {
          "output_type": "stream",
          "text": [
            "Loss=0.12451893091201782 Batch_id=468 Accuracy=98.74: 100%|██████████| 469/469 [01:39<00:00,  4.73it/s]\n",
            "  0%|          | 0/469 [00:00<?, ?it/s]"
          ],
          "name": "stderr"
        },
        {
          "output_type": "stream",
          "text": [
            "\n",
            "Test set: Average loss: 0.0283, Test_Accuracy: 9917/10000 (99.17%)\n",
            "\n",
            "EPOCH: 12\n"
          ],
          "name": "stdout"
        },
        {
          "output_type": "stream",
          "text": [
            "Loss=0.14729395508766174 Batch_id=468 Accuracy=98.80: 100%|██████████| 469/469 [01:38<00:00,  4.78it/s]\n",
            "  0%|          | 0/469 [00:00<?, ?it/s]"
          ],
          "name": "stderr"
        },
        {
          "output_type": "stream",
          "text": [
            "\n",
            "Test set: Average loss: 0.0279, Test_Accuracy: 9922/10000 (99.22%)\n",
            "\n",
            "EPOCH: 13\n"
          ],
          "name": "stdout"
        },
        {
          "output_type": "stream",
          "text": [
            "Loss=0.12398434430360794 Batch_id=468 Accuracy=98.74: 100%|██████████| 469/469 [01:38<00:00,  4.78it/s]\n",
            "  0%|          | 0/469 [00:00<?, ?it/s]"
          ],
          "name": "stderr"
        },
        {
          "output_type": "stream",
          "text": [
            "\n",
            "Test set: Average loss: 0.0278, Test_Accuracy: 9922/10000 (99.22%)\n",
            "\n",
            "EPOCH: 14\n"
          ],
          "name": "stdout"
        },
        {
          "output_type": "stream",
          "text": [
            "Loss=0.16607818007469177 Batch_id=468 Accuracy=98.81: 100%|██████████| 469/469 [01:37<00:00,  4.80it/s]\n"
          ],
          "name": "stderr"
        },
        {
          "output_type": "stream",
          "text": [
            "\n",
            "Test set: Average loss: 0.0275, Test_Accuracy: 9920/10000 (99.20%)\n",
            "\n"
          ],
          "name": "stdout"
        }
      ]
    },
    {
      "cell_type": "code",
      "metadata": {
        "colab": {
          "base_uri": "https://localhost:8080/"
        },
        "id": "YjnpgrrC-YhO",
        "outputId": "7c67f771-55af-408a-b540-a6b523a7ecdb"
      },
      "source": [
        "print(validation_acc['GBN'], validation_acc['GBNL1L2'])\r\n"
      ],
      "execution_count": 16,
      "outputs": [
        {
          "output_type": "stream",
          "text": [
            "[92.98, 97.62, 97.79, 98.31, 99.04, 99.18, 99.16, 99.27, 99.21, 99.18, 99.21, 99.17, 99.22, 99.22, 99.2] [92.98, 97.62, 97.79, 98.31, 99.04, 99.18, 99.16, 99.27, 99.21, 99.18, 99.21, 99.17, 99.22, 99.22, 99.2]\n"
          ],
          "name": "stdout"
        }
      ]
    },
    {
      "cell_type": "code",
      "metadata": {
        "id": "C7VtU3M-O2h9"
      },
      "source": [
        "def plot_graphs(df_array, legend_arr, xlabel=\"Epochs\", ylabel=\"Accuracy\"):\r\n",
        "    fig, ax = plt.subplots(figsize=(15, 6))\r\n",
        "    for i in range(len(df_array)):\r\n",
        "        ax.plot(range(2),\r\n",
        "            df_array[i])\r\n",
        "    ax.set(xlabel=xlabel, ylabel=ylabel)\r\n",
        "    ax.legend(legend_arr)\r\n",
        "    plt.show()"
      ],
      "execution_count": 10,
      "outputs": []
    },
    {
      "cell_type": "code",
      "metadata": {
        "colab": {
          "base_uri": "https://localhost:8080/",
          "height": 896
        },
        "id": "gT1SdhbOPf2l",
        "outputId": "90a7d503-f49c-411f-b063-2d92964ccc3b"
      },
      "source": [
        "\r\n",
        "import matplotlib.pyplot as plt\r\n",
        "\r\n",
        "fig, axs = plt.subplots(1,2,figsize=(30,15))\r\n",
        "#axs[0].set_ylim(92, 100)\r\n",
        "axs[0].set_title('Validation Accuracy')\r\n",
        "axs[1].set_title('Train Loss')\r\n",
        "\r\n",
        "axs[0].plot(validation_acc['BNL1'])\r\n",
        "axs[0].plot(validation_acc['BNL2'])\r\n",
        "axs[0].plot(validation_acc['BNL1L2'])\r\n",
        "axs[0].plot(validation_acc['GBN'])\r\n",
        "axs[0].plot(validation_acc['GBNL1L2'])\r\n",
        "axs[1].plot(train_lossmat['BNL1'])\r\n",
        "axs[1].plot(train_lossmat['BNL2'])\r\n",
        "axs[1].plot(train_lossmat['BNL1L2'])\r\n",
        "axs[1].plot(train_lossmat['GBN'])\r\n",
        "axs[1].plot(train_lossmat['GBNL1L2'])\r\n",
        "axs[0].legend(['BNL1', 'BNL2', 'BNL1L2', 'GBN', 'GBNL1L2'], loc='upper right')\r\n",
        "axs[1].legend(['BNL1', 'BNL2', 'BNL1L2', 'GBN', 'GBNL1L2'], loc='upper right')"
      ],
      "execution_count": 32,
      "outputs": [
        {
          "output_type": "execute_result",
          "data": {
            "text/plain": [
              "<matplotlib.legend.Legend at 0x7f2bbb662908>"
            ]
          },
          "metadata": {
            "tags": []
          },
          "execution_count": 32
        },
        {
          "output_type": "display_data",
          "data": {
            "image/png": "[encoded data removed]",
            "text/plain": [
              "<Figure size 2160x1080 with 2 Axes>"
            ]
          },
          "metadata": {
            "tags": [],
            "needs_background": "light"
          }
        }
      ]
    },
    {
      "cell_type": "code",
      "metadata": {
        "colab": {
          "base_uri": "https://localhost:8080/",
          "height": 811
        },
        "id": "JE8w8SuncwWQ",
        "outputId": "54d378de-cfec-400c-ed17-0e50c27dd07d"
      },
      "source": [
        "import matplotlib.pyplot as plt\r\n",
        "fig, axs = plt.subplots(5,5,figsize=(14,14))\r\n",
        "index=0\r\n",
        "for i in range(5):\r\n",
        "  for j in range(5):\r\n",
        "    data,t,p = missclass['GBN'][index]\r\n",
        "    axs[i,j].imshow(data.cpu().numpy().squeeze(), cmap='gray_r')\r\n",
        "    #axs[i,j].set_title(str(t.cpu().numpy())+\" \"+str(p.cpu().numpy()))\r\n",
        "    axs[i,j].annotate(\"T \"+str(t.cpu().numpy())+\" P \"+str(p.cpu().numpy()),(3,4))\r\n",
        "    index+=1;"
      ],
      "execution_count": 13,
      "outputs": [
        {
          "output_type": "display_data",
          "data": {
            "image/png": "[encoded data removed]",
            "text/plain": [
              "<Figure size 1008x1008 with 25 Axes>"
            ]
          },
          "metadata": {
            "tags": [],
            "needs_background": "light"
          }
        }
      ]
    }
  ]
}