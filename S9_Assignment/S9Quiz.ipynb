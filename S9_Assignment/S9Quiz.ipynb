{
  "nbformat": 4,
  "nbformat_minor": 0,
  "metadata": {
    "colab": {
      "name": "S9Quiz.ipynb",
      "provenance": [],
      "collapsed_sections": []
    },
    "kernelspec": {
      "name": "python3",
      "display_name": "Python 3"
    },
    "accelerator": "GPU"
  },
  "cells": [
    {
      "cell_type": "code",
      "metadata": {
        "colab": {
          "base_uri": "https://localhost:8080/"
        },
        "id": "ab_OzyfQWlRN",
        "outputId": "cba5bc1f-dbde-4d7e-f0b1-ad54f837d281"
      },
      "source": [
        "import datetime\r\n",
        "print(\"Current Date/Time:\", datetime.datetime.now())"
      ],
      "execution_count": 1,
      "outputs": [
        {
          "output_type": "stream",
          "text": [
            "Current Date/Time: 2021-02-06 17:40:44.690370\n"
          ],
          "name": "stdout"
        }
      ]
    },
    {
      "cell_type": "code",
      "metadata": {
        "colab": {
          "base_uri": "https://localhost:8080/"
        },
        "id": "veUIep3BX_JS",
        "outputId": "0e8381f0-870d-481c-e334-287a1e7bbcdc"
      },
      "source": [
        "from google.colab import drive\r\n",
        "\r\n",
        "drive.mount('/content/drive')\r\n",
        "drive.mount(\"/content/drive\", force_remount=True)"
      ],
      "execution_count": 1,
      "outputs": [
        {
          "output_type": "stream",
          "text": [
            "Drive already mounted at /content/drive; to attempt to forcibly remount, call drive.mount(\"/content/drive\", force_remount=True).\n",
            "Mounted at /content/drive\n"
          ],
          "name": "stdout"
        }
      ]
    },
    {
      "cell_type": "code",
      "metadata": {
        "id": "bpLIE9CKZpBI"
      },
      "source": [
        "import torch\r\n",
        "import torchvision\r\n",
        "import torch\r\n",
        "import torch.nn as nn\r\n",
        "import torch.nn.functional as F\r\n",
        "import torch.optim as optim\r\n",
        "from torchvision import datasets, transforms\r\n",
        "#!pip install torchsummary\r\n",
        "from torchsummary import summary\r\n",
        "import pandas as pd\r\n",
        "import numpy as np"
      ],
      "execution_count": 2,
      "outputs": []
    },
    {
      "cell_type": "code",
      "metadata": {
        "id": "UEFp8eKVYUNh"
      },
      "source": [
        "import sys\r\n",
        "sys.path.append ('/content/drive/MyDrive/CVMODEL/GradCam/')\r\n",
        "from Quiz_DNN import Net"
      ],
      "execution_count": 3,
      "outputs": []
    },
    {
      "cell_type": "markdown",
      "metadata": {
        "id": "AQpj5cA9ZZkf"
      },
      "source": [
        "Data Loading"
      ]
    },
    {
      "cell_type": "code",
      "metadata": {
        "colab": {
          "base_uri": "https://localhost:8080/"
        },
        "id": "1_PRus50ZSBe",
        "outputId": "34533ea0-04cb-45fc-abfc-aa3da0a198ef"
      },
      "source": [
        "SEED = 1\r\n",
        "\r\n",
        "# CUDA?\r\n",
        "cuda = torch.cuda.is_available()\r\n",
        "print(\"CUDA Available?\", cuda)\r\n",
        "\r\n",
        "# For reproducibility\r\n",
        "torch.manual_seed(SEED)\r\n",
        "\r\n",
        "if cuda:\r\n",
        "    torch.cuda.manual_seed(SEED)\r\n",
        "\r\n",
        "device = torch.device(\"cuda\" if cuda else \"cpu\")"
      ],
      "execution_count": 4,
      "outputs": [
        {
          "output_type": "stream",
          "text": [
            "CUDA Available? True\n"
          ],
          "name": "stdout"
        }
      ]
    },
    {
      "cell_type": "code",
      "metadata": {
        "colab": {
          "base_uri": "https://localhost:8080/"
        },
        "id": "Q5Q0Q4h1ZfmA",
        "outputId": "141b2115-0e3a-41de-a532-1cebd7097704"
      },
      "source": [
        "common_transforms = transforms.Compose(\r\n",
        "    [transforms.ToTensor(),\r\n",
        "     transforms.Normalize((0.49186878, 0.48265391, 0.44717728), (0.24697121, 0.24338894, 0.26159259))\r\n",
        "     ])\r\n",
        "\r\n",
        "trainset = datasets.CIFAR10(root='./data', train=True,\r\n",
        "                                        download=True, transform=common_transforms)\r\n",
        "trainloader = torch.utils.data.DataLoader(trainset, batch_size=64,\r\n",
        "                                          shuffle=True, num_workers=2)\r\n",
        "\r\n",
        "testset = datasets.CIFAR10(root='./data', train=False,\r\n",
        "                                       download=True, transform=common_transforms)\r\n",
        "testloader = torch.utils.data.DataLoader(testset, batch_size=64,\r\n",
        "                                         shuffle=False, num_workers=2)\r\n",
        "\r\n",
        "classes = ('plane', 'car', 'bird', 'cat',\r\n",
        "           'deer', 'dog', 'frog', 'horse', 'ship', 'truck')"
      ],
      "execution_count": 5,
      "outputs": [
        {
          "output_type": "stream",
          "text": [
            "Files already downloaded and verified\n",
            "Files already downloaded and verified\n"
          ],
          "name": "stdout"
        }
      ]
    },
    {
      "cell_type": "code",
      "metadata": {
        "colab": {
          "base_uri": "https://localhost:8080/"
        },
        "id": "nb19toWLZ8Q2",
        "outputId": "8d5c7b90-a08c-495c-c43d-c988d09cdd74"
      },
      "source": [
        "model = Net(dropout=0.1).to(device)\r\n",
        "summary(model, input_size=(3, 32, 32))"
      ],
      "execution_count": 6,
      "outputs": [
        {
          "output_type": "stream",
          "text": [
            "----------------------------------------------------------------\n",
            "        Layer (type)               Output Shape         Param #\n",
            "================================================================\n",
            "            Conv2d-1           [-1, 16, 32, 32]             432\n",
            "              ReLU-2           [-1, 16, 32, 32]               0\n",
            "       BatchNorm2d-3           [-1, 16, 32, 32]              32\n",
            "           Dropout-4           [-1, 16, 32, 32]               0\n",
            "            Conv2d-5           [-1, 32, 32, 32]           5,472\n",
            "              ReLU-6           [-1, 32, 32, 32]               0\n",
            "       BatchNorm2d-7           [-1, 32, 32, 32]              64\n",
            "           Dropout-8           [-1, 32, 32, 32]               0\n",
            "         MaxPool2d-9           [-1, 51, 16, 16]               0\n",
            "           Conv2d-10           [-1, 64, 16, 16]          29,376\n",
            "             ReLU-11           [-1, 64, 16, 16]               0\n",
            "      BatchNorm2d-12           [-1, 64, 16, 16]             128\n",
            "          Dropout-13           [-1, 64, 16, 16]               0\n",
            "           Conv2d-14          [-1, 128, 16, 16]         132,480\n",
            "             ReLU-15          [-1, 128, 16, 16]               0\n",
            "      BatchNorm2d-16          [-1, 128, 16, 16]             256\n",
            "          Dropout-17          [-1, 128, 16, 16]               0\n",
            "           Conv2d-18          [-1, 256, 16, 16]         559,872\n",
            "             ReLU-19          [-1, 256, 16, 16]               0\n",
            "      BatchNorm2d-20          [-1, 256, 16, 16]             512\n",
            "          Dropout-21          [-1, 256, 16, 16]               0\n",
            "        MaxPool2d-22            [-1, 448, 8, 8]               0\n",
            "           Conv2d-23             [-1, 64, 8, 8]          28,672\n",
            "           Conv2d-24            [-1, 512, 8, 8]       2,359,296\n",
            "             ReLU-25            [-1, 512, 8, 8]               0\n",
            "      BatchNorm2d-26            [-1, 512, 8, 8]           1,024\n",
            "          Dropout-27            [-1, 512, 8, 8]               0\n",
            "           Conv2d-28           [-1, 1024, 8, 8]       9,437,184\n",
            "             ReLU-29           [-1, 1024, 8, 8]               0\n",
            "      BatchNorm2d-30           [-1, 1024, 8, 8]           2,048\n",
            "          Dropout-31           [-1, 1024, 8, 8]               0\n",
            "        AvgPool2d-32           [-1, 1024, 1, 1]               0\n",
            "           Linear-33                   [-1, 10]          10,250\n",
            "================================================================\n",
            "Total params: 12,567,098\n",
            "Trainable params: 12,567,098\n",
            "Non-trainable params: 0\n",
            "----------------------------------------------------------------\n",
            "Input size (MB): 0.01\n",
            "Forward/backward pass size (MB): 8.36\n",
            "Params size (MB): 47.94\n",
            "Estimated Total Size (MB): 56.31\n",
            "----------------------------------------------------------------\n"
          ],
          "name": "stdout"
        },
        {
          "output_type": "stream",
          "text": [
            "/content/drive/MyDrive/CVMODEL/GradCam/Quiz_DNN.py:60: UserWarning: Implicit dimension choice for log_softmax has been deprecated. Change the call to include dim=X as an argument.\n",
            "  return F.log_softmax(x13)\n"
          ],
          "name": "stderr"
        }
      ]
    },
    {
      "cell_type": "code",
      "metadata": {
        "id": "LJX5vLI2aLOZ"
      },
      "source": [
        "import torch.optim as optim\r\n",
        "\r\n",
        "criterion = nn.CrossEntropyLoss()\r\n",
        "optimizer = optim.SGD(model.parameters(), lr=0.001, momentum=0.9)"
      ],
      "execution_count": 7,
      "outputs": []
    },
    {
      "cell_type": "code",
      "metadata": {
        "id": "POEfQyZeaNhl"
      },
      "source": [
        "from tqdm import tqdm\r\n",
        "def train(model, device, train_loader, optimizer, epoch_number,l1_loss=False, l1_beta = 0):\r\n",
        "    model.train()\r\n",
        "    pbar = tqdm(train_loader)\r\n",
        "    train_loss = 0\r\n",
        "    train_accuracy = 0\r\n",
        "    for batch_idx, (data, target) in enumerate(pbar):\r\n",
        "        data, target = data.to(device), target.to(device)\r\n",
        "        optimizer.zero_grad()\r\n",
        "        output = model(data)\r\n",
        "        pred = output.argmax(dim=1, keepdim=True)  # get the index of the max log-probability\r\n",
        "        train_accuracy += pred.eq(target.view_as(pred)).sum().item()\r\n",
        "        loss = criterion(output, target)\r\n",
        "        if l1_loss == True:\r\n",
        "            l1_crit = nn.L1Loss(size_average=False)\r\n",
        "            reg_loss = 0\r\n",
        "            for param in model.parameters():\r\n",
        "                target = torch.zeros_like(param)    \r\n",
        "                reg_loss += l1_crit(param, target)\r\n",
        "            loss += (l1_beta * reg_loss)\r\n",
        "        loss.backward()\r\n",
        "        optimizer.step()\r\n",
        "        pbar.set_description(desc= f'loss={loss.item()} batch_id={batch_idx}')\r\n",
        "        train_loss += loss.item()\r\n",
        "\r\n",
        "    train_loss /= len(train_loader.dataset)\r\n",
        "    train_accuracy = (100. * train_accuracy) / len(train_loader.dataset)\r\n",
        "    return train_accuracy, train_loss\r\n"
      ],
      "execution_count": 8,
      "outputs": []
    },
    {
      "cell_type": "code",
      "metadata": {
        "id": "ITMoWH2maV9c"
      },
      "source": [
        "def test(model, device, test_loader, epoch_number):\r\n",
        "    model.eval()\r\n",
        "    test_loss = 0\r\n",
        "    correct = 0\r\n",
        "    example_images = []\r\n",
        "    with torch.no_grad():\r\n",
        "        for data, target in test_loader:\r\n",
        "            data, target = data.to(device), target.to(device)\r\n",
        "            output = model(data)\r\n",
        "            test_loss += criterion(output, target).item()  # sum up batch loss\r\n",
        "            pred = output.argmax(dim=1, keepdim=True)  # get the index of the max log-probability\r\n",
        "            correct += pred.eq(target.view_as(pred)).sum().item()\r\n",
        "    test_loss /= len(test_loader.dataset)\r\n",
        "    test_accuracy = (100. * correct) / len(test_loader.dataset)\r\n",
        "    return test_accuracy, test_loss"
      ],
      "execution_count": 9,
      "outputs": []
    },
    {
      "cell_type": "code",
      "metadata": {
        "colab": {
          "base_uri": "https://localhost:8080/"
        },
        "id": "JzzZ-r_Zac-W",
        "outputId": "1b3bdd92-541d-4929-9306-01dbfc02485d"
      },
      "source": [
        "for epoch in range(1, 39):\r\n",
        "        epoch_train_acc,epoch_train_loss = train(model, device, trainloader, optimizer, epoch)        \r\n",
        "        epoch_test_acc,epoch_test_loss = test(model, device, testloader,epoch)\r\n",
        "        print('\\nEpoch: {:.0f} Train set: Average loss: {:.4f}, Accuracy: {:.3f}%'.format(epoch, epoch_train_loss, epoch_train_acc))\r\n",
        "        print('Epoch: {:.0f} Test set: Average loss: {:.4f}, Accuracy: {:.3f}%'.format(epoch, epoch_test_loss, epoch_test_acc))\r\n"
      ],
      "execution_count": 10,
      "outputs": [
        {
          "output_type": "stream",
          "text": [
            "  0%|          | 0/782 [00:00<?, ?it/s]/content/drive/MyDrive/CVMODEL/GradCam/Quiz_DNN.py:60: UserWarning: Implicit dimension choice for log_softmax has been deprecated. Change the call to include dim=X as an argument.\n",
            "  return F.log_softmax(x13)\n",
            "loss=0.7511278986930847 batch_id=781: 100%|██████████| 782/782 [00:38<00:00, 20.11it/s]\n",
            "  0%|          | 0/782 [00:00<?, ?it/s]"
          ],
          "name": "stderr"
        },
        {
          "output_type": "stream",
          "text": [
            "\n",
            "Epoch: 1 Train set: Average loss: 0.0215, Accuracy: 50.820%\n",
            "Epoch: 1 Test set: Average loss: 0.0199, Accuracy: 55.070%\n"
          ],
          "name": "stdout"
        },
        {
          "output_type": "stream",
          "text": [
            "loss=1.1106687784194946 batch_id=781: 100%|██████████| 782/782 [00:40<00:00, 19.50it/s]\n",
            "  0%|          | 0/782 [00:00<?, ?it/s]"
          ],
          "name": "stderr"
        },
        {
          "output_type": "stream",
          "text": [
            "\n",
            "Epoch: 2 Train set: Average loss: 0.0159, Accuracy: 64.362%\n",
            "Epoch: 2 Test set: Average loss: 0.0159, Accuracy: 63.940%\n"
          ],
          "name": "stdout"
        },
        {
          "output_type": "stream",
          "text": [
            "loss=0.9001574516296387 batch_id=781: 100%|██████████| 782/782 [00:40<00:00, 19.49it/s]\n",
            "  0%|          | 0/782 [00:00<?, ?it/s]"
          ],
          "name": "stderr"
        },
        {
          "output_type": "stream",
          "text": [
            "\n",
            "Epoch: 3 Train set: Average loss: 0.0132, Accuracy: 70.752%\n",
            "Epoch: 3 Test set: Average loss: 0.0133, Accuracy: 70.720%\n"
          ],
          "name": "stdout"
        },
        {
          "output_type": "stream",
          "text": [
            "loss=0.5424252152442932 batch_id=781: 100%|██████████| 782/782 [00:40<00:00, 19.44it/s]\n",
            "  0%|          | 0/782 [00:00<?, ?it/s]"
          ],
          "name": "stderr"
        },
        {
          "output_type": "stream",
          "text": [
            "\n",
            "Epoch: 4 Train set: Average loss: 0.0112, Accuracy: 75.352%\n",
            "Epoch: 4 Test set: Average loss: 0.0126, Accuracy: 72.480%\n"
          ],
          "name": "stdout"
        },
        {
          "output_type": "stream",
          "text": [
            "loss=0.5904930233955383 batch_id=781: 100%|██████████| 782/782 [00:40<00:00, 19.41it/s]\n",
            "  0%|          | 0/782 [00:00<?, ?it/s]"
          ],
          "name": "stderr"
        },
        {
          "output_type": "stream",
          "text": [
            "\n",
            "Epoch: 5 Train set: Average loss: 0.0097, Accuracy: 78.656%\n",
            "Epoch: 5 Test set: Average loss: 0.0110, Accuracy: 75.930%\n"
          ],
          "name": "stdout"
        },
        {
          "output_type": "stream",
          "text": [
            "loss=0.933247447013855 batch_id=781: 100%|██████████| 782/782 [00:40<00:00, 19.27it/s]\n",
            "  0%|          | 0/782 [00:00<?, ?it/s]"
          ],
          "name": "stderr"
        },
        {
          "output_type": "stream",
          "text": [
            "\n",
            "Epoch: 6 Train set: Average loss: 0.0086, Accuracy: 81.276%\n",
            "Epoch: 6 Test set: Average loss: 0.0102, Accuracy: 77.460%\n"
          ],
          "name": "stdout"
        },
        {
          "output_type": "stream",
          "text": [
            "loss=0.38271743059158325 batch_id=781: 100%|██████████| 782/782 [00:40<00:00, 19.41it/s]\n",
            "  0%|          | 0/782 [00:00<?, ?it/s]"
          ],
          "name": "stderr"
        },
        {
          "output_type": "stream",
          "text": [
            "\n",
            "Epoch: 7 Train set: Average loss: 0.0075, Accuracy: 83.682%\n",
            "Epoch: 7 Test set: Average loss: 0.0096, Accuracy: 79.170%\n"
          ],
          "name": "stdout"
        },
        {
          "output_type": "stream",
          "text": [
            "loss=0.3234027624130249 batch_id=781: 100%|██████████| 782/782 [00:40<00:00, 19.44it/s]\n",
            "  0%|          | 0/782 [00:00<?, ?it/s]"
          ],
          "name": "stderr"
        },
        {
          "output_type": "stream",
          "text": [
            "\n",
            "Epoch: 8 Train set: Average loss: 0.0066, Accuracy: 85.630%\n",
            "Epoch: 8 Test set: Average loss: 0.0097, Accuracy: 79.530%\n"
          ],
          "name": "stdout"
        },
        {
          "output_type": "stream",
          "text": [
            "loss=0.20643022656440735 batch_id=781: 100%|██████████| 782/782 [00:40<00:00, 19.43it/s]\n",
            "  0%|          | 0/782 [00:00<?, ?it/s]"
          ],
          "name": "stderr"
        },
        {
          "output_type": "stream",
          "text": [
            "\n",
            "Epoch: 9 Train set: Average loss: 0.0057, Accuracy: 87.646%\n",
            "Epoch: 9 Test set: Average loss: 0.0091, Accuracy: 80.830%\n"
          ],
          "name": "stdout"
        },
        {
          "output_type": "stream",
          "text": [
            "loss=0.18414421379566193 batch_id=781: 100%|██████████| 782/782 [00:40<00:00, 19.40it/s]\n",
            "  0%|          | 0/782 [00:00<?, ?it/s]"
          ],
          "name": "stderr"
        },
        {
          "output_type": "stream",
          "text": [
            "\n",
            "Epoch: 10 Train set: Average loss: 0.0051, Accuracy: 89.366%\n",
            "Epoch: 10 Test set: Average loss: 0.0085, Accuracy: 82.610%\n"
          ],
          "name": "stdout"
        },
        {
          "output_type": "stream",
          "text": [
            "loss=0.5850679874420166 batch_id=781: 100%|██████████| 782/782 [00:40<00:00, 19.44it/s]\n",
            "  0%|          | 0/782 [00:00<?, ?it/s]"
          ],
          "name": "stderr"
        },
        {
          "output_type": "stream",
          "text": [
            "\n",
            "Epoch: 11 Train set: Average loss: 0.0044, Accuracy: 90.934%\n",
            "Epoch: 11 Test set: Average loss: 0.0096, Accuracy: 80.490%\n"
          ],
          "name": "stdout"
        },
        {
          "output_type": "stream",
          "text": [
            "loss=0.3827791213989258 batch_id=781: 100%|██████████| 782/782 [00:40<00:00, 19.46it/s]\n",
            "  0%|          | 0/782 [00:00<?, ?it/s]"
          ],
          "name": "stderr"
        },
        {
          "output_type": "stream",
          "text": [
            "\n",
            "Epoch: 12 Train set: Average loss: 0.0038, Accuracy: 92.040%\n",
            "Epoch: 12 Test set: Average loss: 0.0092, Accuracy: 81.600%\n"
          ],
          "name": "stdout"
        },
        {
          "output_type": "stream",
          "text": [
            "loss=0.3074527084827423 batch_id=781: 100%|██████████| 782/782 [00:40<00:00, 19.51it/s]\n",
            "  0%|          | 0/782 [00:00<?, ?it/s]"
          ],
          "name": "stderr"
        },
        {
          "output_type": "stream",
          "text": [
            "\n",
            "Epoch: 13 Train set: Average loss: 0.0033, Accuracy: 93.272%\n",
            "Epoch: 13 Test set: Average loss: 0.0085, Accuracy: 83.340%\n"
          ],
          "name": "stdout"
        },
        {
          "output_type": "stream",
          "text": [
            "loss=0.055329564958810806 batch_id=781: 100%|██████████| 782/782 [00:39<00:00, 19.55it/s]\n",
            "  0%|          | 0/782 [00:00<?, ?it/s]"
          ],
          "name": "stderr"
        },
        {
          "output_type": "stream",
          "text": [
            "\n",
            "Epoch: 14 Train set: Average loss: 0.0028, Accuracy: 94.430%\n",
            "Epoch: 14 Test set: Average loss: 0.0091, Accuracy: 82.920%\n"
          ],
          "name": "stdout"
        },
        {
          "output_type": "stream",
          "text": [
            "loss=0.3022761940956116 batch_id=781: 100%|██████████| 782/782 [00:39<00:00, 19.62it/s]\n",
            "  0%|          | 0/782 [00:00<?, ?it/s]"
          ],
          "name": "stderr"
        },
        {
          "output_type": "stream",
          "text": [
            "\n",
            "Epoch: 15 Train set: Average loss: 0.0023, Accuracy: 95.464%\n",
            "Epoch: 15 Test set: Average loss: 0.0089, Accuracy: 83.380%\n"
          ],
          "name": "stdout"
        },
        {
          "output_type": "stream",
          "text": [
            "loss=0.39787930250167847 batch_id=781: 100%|██████████| 782/782 [00:40<00:00, 19.54it/s]\n",
            "  0%|          | 0/782 [00:00<?, ?it/s]"
          ],
          "name": "stderr"
        },
        {
          "output_type": "stream",
          "text": [
            "\n",
            "Epoch: 16 Train set: Average loss: 0.0020, Accuracy: 96.314%\n",
            "Epoch: 16 Test set: Average loss: 0.0090, Accuracy: 83.630%\n"
          ],
          "name": "stdout"
        },
        {
          "output_type": "stream",
          "text": [
            "loss=0.27881374955177307 batch_id=781: 100%|██████████| 782/782 [00:40<00:00, 19.54it/s]\n",
            "  0%|          | 0/782 [00:00<?, ?it/s]"
          ],
          "name": "stderr"
        },
        {
          "output_type": "stream",
          "text": [
            "\n",
            "Epoch: 17 Train set: Average loss: 0.0017, Accuracy: 96.766%\n",
            "Epoch: 17 Test set: Average loss: 0.0095, Accuracy: 83.250%\n"
          ],
          "name": "stdout"
        },
        {
          "output_type": "stream",
          "text": [
            "loss=0.05532451346516609 batch_id=781: 100%|██████████| 782/782 [00:39<00:00, 19.56it/s]\n",
            "  0%|          | 0/782 [00:00<?, ?it/s]"
          ],
          "name": "stderr"
        },
        {
          "output_type": "stream",
          "text": [
            "\n",
            "Epoch: 18 Train set: Average loss: 0.0015, Accuracy: 97.398%\n",
            "Epoch: 18 Test set: Average loss: 0.0096, Accuracy: 83.170%\n"
          ],
          "name": "stdout"
        },
        {
          "output_type": "stream",
          "text": [
            "loss=0.06665807962417603 batch_id=781: 100%|██████████| 782/782 [00:39<00:00, 19.55it/s]\n",
            "  0%|          | 0/782 [00:00<?, ?it/s]"
          ],
          "name": "stderr"
        },
        {
          "output_type": "stream",
          "text": [
            "\n",
            "Epoch: 19 Train set: Average loss: 0.0012, Accuracy: 97.890%\n",
            "Epoch: 19 Test set: Average loss: 0.0099, Accuracy: 83.320%\n"
          ],
          "name": "stdout"
        },
        {
          "output_type": "stream",
          "text": [
            "loss=0.10385411232709885 batch_id=781: 100%|██████████| 782/782 [00:39<00:00, 19.62it/s]\n",
            "  0%|          | 0/782 [00:00<?, ?it/s]"
          ],
          "name": "stderr"
        },
        {
          "output_type": "stream",
          "text": [
            "\n",
            "Epoch: 20 Train set: Average loss: 0.0010, Accuracy: 98.404%\n",
            "Epoch: 20 Test set: Average loss: 0.0094, Accuracy: 84.120%\n"
          ],
          "name": "stdout"
        },
        {
          "output_type": "stream",
          "text": [
            "loss=0.2757057547569275 batch_id=781: 100%|██████████| 782/782 [00:40<00:00, 19.52it/s]\n",
            "  0%|          | 0/782 [00:00<?, ?it/s]"
          ],
          "name": "stderr"
        },
        {
          "output_type": "stream",
          "text": [
            "\n",
            "Epoch: 21 Train set: Average loss: 0.0009, Accuracy: 98.548%\n",
            "Epoch: 21 Test set: Average loss: 0.0098, Accuracy: 83.790%\n"
          ],
          "name": "stdout"
        },
        {
          "output_type": "stream",
          "text": [
            "loss=0.21267400681972504 batch_id=781: 100%|██████████| 782/782 [00:39<00:00, 19.57it/s]\n",
            "  0%|          | 0/782 [00:00<?, ?it/s]"
          ],
          "name": "stderr"
        },
        {
          "output_type": "stream",
          "text": [
            "\n",
            "Epoch: 22 Train set: Average loss: 0.0008, Accuracy: 98.782%\n",
            "Epoch: 22 Test set: Average loss: 0.0093, Accuracy: 84.570%\n"
          ],
          "name": "stdout"
        },
        {
          "output_type": "stream",
          "text": [
            "loss=0.22142548859119415 batch_id=781: 100%|██████████| 782/782 [00:39<00:00, 19.59it/s]\n",
            "  0%|          | 0/782 [00:00<?, ?it/s]"
          ],
          "name": "stderr"
        },
        {
          "output_type": "stream",
          "text": [
            "\n",
            "Epoch: 23 Train set: Average loss: 0.0007, Accuracy: 98.944%\n",
            "Epoch: 23 Test set: Average loss: 0.0097, Accuracy: 84.270%\n"
          ],
          "name": "stdout"
        },
        {
          "output_type": "stream",
          "text": [
            "loss=0.07780541479587555 batch_id=781: 100%|██████████| 782/782 [00:40<00:00, 19.50it/s]\n",
            "  0%|          | 0/782 [00:00<?, ?it/s]"
          ],
          "name": "stderr"
        },
        {
          "output_type": "stream",
          "text": [
            "\n",
            "Epoch: 24 Train set: Average loss: 0.0006, Accuracy: 99.054%\n",
            "Epoch: 24 Test set: Average loss: 0.0095, Accuracy: 84.480%\n"
          ],
          "name": "stdout"
        },
        {
          "output_type": "stream",
          "text": [
            "loss=0.036742202937603 batch_id=781: 100%|██████████| 782/782 [00:40<00:00, 19.54it/s]\n",
            "  0%|          | 0/782 [00:00<?, ?it/s]"
          ],
          "name": "stderr"
        },
        {
          "output_type": "stream",
          "text": [
            "\n",
            "Epoch: 25 Train set: Average loss: 0.0005, Accuracy: 99.240%\n",
            "Epoch: 25 Test set: Average loss: 0.0100, Accuracy: 83.750%\n"
          ],
          "name": "stdout"
        },
        {
          "output_type": "stream",
          "text": [
            "loss=0.09423374384641647 batch_id=781: 100%|██████████| 782/782 [00:40<00:00, 19.46it/s]\n",
            "  0%|          | 0/782 [00:00<?, ?it/s]"
          ],
          "name": "stderr"
        },
        {
          "output_type": "stream",
          "text": [
            "\n",
            "Epoch: 26 Train set: Average loss: 0.0005, Accuracy: 99.330%\n",
            "Epoch: 26 Test set: Average loss: 0.0095, Accuracy: 84.700%\n"
          ],
          "name": "stdout"
        },
        {
          "output_type": "stream",
          "text": [
            "loss=0.012069474905729294 batch_id=781: 100%|██████████| 782/782 [00:40<00:00, 19.49it/s]\n",
            "  0%|          | 0/782 [00:00<?, ?it/s]"
          ],
          "name": "stderr"
        },
        {
          "output_type": "stream",
          "text": [
            "\n",
            "Epoch: 27 Train set: Average loss: 0.0004, Accuracy: 99.386%\n",
            "Epoch: 27 Test set: Average loss: 0.0096, Accuracy: 84.700%\n"
          ],
          "name": "stdout"
        },
        {
          "output_type": "stream",
          "text": [
            "loss=0.1593969464302063 batch_id=781: 100%|██████████| 782/782 [00:39<00:00, 19.55it/s]\n",
            "  0%|          | 0/782 [00:00<?, ?it/s]"
          ],
          "name": "stderr"
        },
        {
          "output_type": "stream",
          "text": [
            "\n",
            "Epoch: 28 Train set: Average loss: 0.0004, Accuracy: 99.420%\n",
            "Epoch: 28 Test set: Average loss: 0.0097, Accuracy: 84.680%\n"
          ],
          "name": "stdout"
        },
        {
          "output_type": "stream",
          "text": [
            "loss=0.2172960489988327 batch_id=781: 100%|██████████| 782/782 [00:39<00:00, 19.55it/s]\n",
            "  0%|          | 0/782 [00:00<?, ?it/s]"
          ],
          "name": "stderr"
        },
        {
          "output_type": "stream",
          "text": [
            "\n",
            "Epoch: 29 Train set: Average loss: 0.0004, Accuracy: 99.362%\n",
            "Epoch: 29 Test set: Average loss: 0.0098, Accuracy: 84.710%\n"
          ],
          "name": "stdout"
        },
        {
          "output_type": "stream",
          "text": [
            "loss=0.016128895804286003 batch_id=781: 100%|██████████| 782/782 [00:40<00:00, 19.55it/s]\n",
            "  0%|          | 0/782 [00:00<?, ?it/s]"
          ],
          "name": "stderr"
        },
        {
          "output_type": "stream",
          "text": [
            "\n",
            "Epoch: 30 Train set: Average loss: 0.0004, Accuracy: 99.456%\n",
            "Epoch: 30 Test set: Average loss: 0.0097, Accuracy: 85.080%\n"
          ],
          "name": "stdout"
        },
        {
          "output_type": "stream",
          "text": [
            "loss=0.021859697997570038 batch_id=781: 100%|██████████| 782/782 [00:40<00:00, 19.40it/s]\n",
            "  0%|          | 0/782 [00:00<?, ?it/s]"
          ],
          "name": "stderr"
        },
        {
          "output_type": "stream",
          "text": [
            "\n",
            "Epoch: 31 Train set: Average loss: 0.0003, Accuracy: 99.548%\n",
            "Epoch: 31 Test set: Average loss: 0.0101, Accuracy: 84.620%\n"
          ],
          "name": "stdout"
        },
        {
          "output_type": "stream",
          "text": [
            "loss=0.16799204051494598 batch_id=781: 100%|██████████| 782/782 [00:40<00:00, 19.29it/s]\n",
            "  0%|          | 0/782 [00:00<?, ?it/s]"
          ],
          "name": "stderr"
        },
        {
          "output_type": "stream",
          "text": [
            "\n",
            "Epoch: 32 Train set: Average loss: 0.0003, Accuracy: 99.556%\n",
            "Epoch: 32 Test set: Average loss: 0.0102, Accuracy: 84.440%\n"
          ],
          "name": "stdout"
        },
        {
          "output_type": "stream",
          "text": [
            "loss=0.004989372566342354 batch_id=781: 100%|██████████| 782/782 [00:40<00:00, 19.39it/s]\n",
            "  0%|          | 0/782 [00:00<?, ?it/s]"
          ],
          "name": "stderr"
        },
        {
          "output_type": "stream",
          "text": [
            "\n",
            "Epoch: 33 Train set: Average loss: 0.0003, Accuracy: 99.560%\n",
            "Epoch: 33 Test set: Average loss: 0.0109, Accuracy: 84.320%\n"
          ],
          "name": "stdout"
        },
        {
          "output_type": "stream",
          "text": [
            "loss=0.18371416628360748 batch_id=781: 100%|██████████| 782/782 [00:40<00:00, 19.33it/s]\n",
            "  0%|          | 0/782 [00:00<?, ?it/s]"
          ],
          "name": "stderr"
        },
        {
          "output_type": "stream",
          "text": [
            "\n",
            "Epoch: 34 Train set: Average loss: 0.0003, Accuracy: 99.670%\n",
            "Epoch: 34 Test set: Average loss: 0.0101, Accuracy: 85.420%\n"
          ],
          "name": "stdout"
        },
        {
          "output_type": "stream",
          "text": [
            "loss=0.042299460619688034 batch_id=781: 100%|██████████| 782/782 [00:40<00:00, 19.27it/s]\n",
            "  0%|          | 0/782 [00:00<?, ?it/s]"
          ],
          "name": "stderr"
        },
        {
          "output_type": "stream",
          "text": [
            "\n",
            "Epoch: 35 Train set: Average loss: 0.0003, Accuracy: 99.686%\n",
            "Epoch: 35 Test set: Average loss: 0.0102, Accuracy: 85.090%\n"
          ],
          "name": "stdout"
        },
        {
          "output_type": "stream",
          "text": [
            "loss=0.012417884543538094 batch_id=781: 100%|██████████| 782/782 [00:40<00:00, 19.33it/s]\n",
            "  0%|          | 0/782 [00:00<?, ?it/s]"
          ],
          "name": "stderr"
        },
        {
          "output_type": "stream",
          "text": [
            "\n",
            "Epoch: 36 Train set: Average loss: 0.0002, Accuracy: 99.698%\n",
            "Epoch: 36 Test set: Average loss: 0.0096, Accuracy: 85.730%\n"
          ],
          "name": "stdout"
        },
        {
          "output_type": "stream",
          "text": [
            "loss=0.16476720571517944 batch_id=781: 100%|██████████| 782/782 [00:40<00:00, 19.37it/s]\n",
            "  0%|          | 0/782 [00:00<?, ?it/s]"
          ],
          "name": "stderr"
        },
        {
          "output_type": "stream",
          "text": [
            "\n",
            "Epoch: 37 Train set: Average loss: 0.0002, Accuracy: 99.722%\n",
            "Epoch: 37 Test set: Average loss: 0.0103, Accuracy: 84.930%\n"
          ],
          "name": "stdout"
        },
        {
          "output_type": "stream",
          "text": [
            "loss=0.15289711952209473 batch_id=781: 100%|██████████| 782/782 [00:40<00:00, 19.30it/s]\n"
          ],
          "name": "stderr"
        },
        {
          "output_type": "stream",
          "text": [
            "\n",
            "Epoch: 38 Train set: Average loss: 0.0002, Accuracy: 99.664%\n",
            "Epoch: 38 Test set: Average loss: 0.0097, Accuracy: 85.680%\n"
          ],
          "name": "stdout"
        }
      ]
    }
  ]
}