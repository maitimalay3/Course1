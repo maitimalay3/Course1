{
  "nbformat": 4,
  "nbformat_minor": 0,
  "metadata": {
    "colab": {
      "name": "S5 ExperimentLR STEPBatch32.ipynb",
      "provenance": [],
      "collapsed_sections": []
    },
    "kernelspec": {
      "name": "python3",
      "display_name": "Python 3"
    }
  },
  "cells": [
    {
      "cell_type": "code",
      "metadata": {
        "id": "H6__NdmqS4nh"
      },
      "source": [
        "from __future__ import print_function\r\n",
        "import torch\r\n",
        "import torch.nn as nn\r\n",
        "import torch.nn.functional as F\r\n",
        "import torch.optim as optim\r\n",
        "from torchvision import datasets, transforms"
      ],
      "execution_count": 1,
      "outputs": []
    },
    {
      "cell_type": "code",
      "metadata": {
        "id": "zZpmFxATTIDh"
      },
      "source": [
        "dropout_value = 0.0\r\n",
        "class Net(nn.Module):\r\n",
        "    def __init__(self):\r\n",
        "        super(Net, self).__init__()\r\n",
        "        self.convblock1 = nn.Sequential(nn.Conv2d(in_channels=1, out_channels=10, kernel_size=(3, 3), padding=1, bias=False),nn.ReLU(),nn.BatchNorm2d(10), nn.Dropout(dropout_value)) \r\n",
        "        self.convblock2 = nn.Sequential(nn.Conv2d(in_channels=10, out_channels=16, kernel_size=(3, 3), padding=1, bias=False),nn.ReLU(),nn.BatchNorm2d(16), nn.Dropout(dropout_value))\r\n",
        "        self.convblock3 = nn.Sequential(nn.Conv2d(in_channels=16, out_channels=10, kernel_size=(1, 1), bias=False))\r\n",
        "        self.pool1 = nn.MaxPool2d(2,2)\r\n",
        "        \r\n",
        "        \r\n",
        "        self.convblock4 = nn.Sequential(nn.Conv2d(in_channels= 10, out_channels= 16, kernel_size=(3, 3), padding=1, bias=False), nn.ReLU(),nn.BatchNorm2d(16), nn.Dropout(dropout_value))\r\n",
        "        self.convblock5 = nn.Sequential(nn.Conv2d(in_channels=16, out_channels= 20, kernel_size=(3, 3), padding=1, bias=False),nn.ReLU(),nn.BatchNorm2d(20), nn.Dropout(dropout_value))\r\n",
        "        self.convblock6 = nn.Sequential(nn.Conv2d(in_channels=20, out_channels=10, kernel_size=(1, 1), bias=False))\r\n",
        "        self.pool2 = nn.MaxPool2d(2, 2)\r\n",
        "        self.convblock7 = nn.Sequential(nn.Conv2d(in_channels=10, out_channels= 16, kernel_size=(3, 3), bias=False),nn.ReLU(),nn.BatchNorm2d(16), nn.Dropout(dropout_value))\r\n",
        "        self.gap = nn.Sequential(nn.AvgPool2d(kernel_size=5))\r\n",
        "        self.convblock8 = nn.Sequential(nn.Conv2d(in_channels=16, out_channels=10, kernel_size=(1, 1), bias=False))\r\n",
        "        \r\n",
        "         \r\n",
        "\r\n",
        "    def forward(self, x):\r\n",
        "        x = self.convblock1(x) \r\n",
        "        x = self.convblock2(x) \r\n",
        "        x = self.convblock3(x)\r\n",
        "        x = self.pool1(x)\r\n",
        "        x = self.convblock4(x) \r\n",
        "        x = self.convblock5(x)\r\n",
        "        x = self.convblock6(x)\r\n",
        "        x = self.pool2(x)\r\n",
        "        x = self.convblock7(x)\r\n",
        "        x = self.gap(x)        \r\n",
        "        x = self.convblock8(x)\r\n",
        "        x = x.view(-1, 10)\r\n",
        "        return F.log_softmax(x)"
      ],
      "execution_count": 2,
      "outputs": []
    },
    {
      "cell_type": "code",
      "metadata": {
        "id": "6xkLW5EfUOxI",
        "colab": {
          "base_uri": "https://localhost:8080/"
        },
        "outputId": "254fb2b8-24a6-4cd5-f11a-dcd88a8d999e"
      },
      "source": [
        "#!pip install torchsummary\r\n",
        "from torchsummary import summary\r\n",
        "use_cuda = torch.cuda.is_available()\r\n",
        "device = torch.device(\"cuda\" if use_cuda else \"cpu\")\r\n",
        "print(device)\r\n",
        "model = Net().to(device)\r\n",
        "summary(model, input_size=(1, 28, 28))"
      ],
      "execution_count": 3,
      "outputs": [
        {
          "output_type": "stream",
          "text": [
            "cpu\n",
            "----------------------------------------------------------------\n",
            "        Layer (type)               Output Shape         Param #\n",
            "================================================================\n",
            "            Conv2d-1           [-1, 10, 28, 28]              90\n",
            "              ReLU-2           [-1, 10, 28, 28]               0\n",
            "       BatchNorm2d-3           [-1, 10, 28, 28]              20\n",
            "           Dropout-4           [-1, 10, 28, 28]               0\n",
            "            Conv2d-5           [-1, 16, 28, 28]           1,440\n",
            "              ReLU-6           [-1, 16, 28, 28]               0\n",
            "       BatchNorm2d-7           [-1, 16, 28, 28]              32\n",
            "           Dropout-8           [-1, 16, 28, 28]               0\n",
            "            Conv2d-9           [-1, 10, 28, 28]             160\n",
            "        MaxPool2d-10           [-1, 10, 14, 14]               0\n",
            "           Conv2d-11           [-1, 16, 14, 14]           1,440\n",
            "             ReLU-12           [-1, 16, 14, 14]               0\n",
            "      BatchNorm2d-13           [-1, 16, 14, 14]              32\n",
            "          Dropout-14           [-1, 16, 14, 14]               0\n",
            "           Conv2d-15           [-1, 20, 14, 14]           2,880\n",
            "             ReLU-16           [-1, 20, 14, 14]               0\n",
            "      BatchNorm2d-17           [-1, 20, 14, 14]              40\n",
            "          Dropout-18           [-1, 20, 14, 14]               0\n",
            "           Conv2d-19           [-1, 10, 14, 14]             200\n",
            "        MaxPool2d-20             [-1, 10, 7, 7]               0\n",
            "           Conv2d-21             [-1, 16, 5, 5]           1,440\n",
            "             ReLU-22             [-1, 16, 5, 5]               0\n",
            "      BatchNorm2d-23             [-1, 16, 5, 5]              32\n",
            "          Dropout-24             [-1, 16, 5, 5]               0\n",
            "        AvgPool2d-25             [-1, 16, 1, 1]               0\n",
            "           Conv2d-26             [-1, 10, 1, 1]             160\n",
            "================================================================\n",
            "Total params: 7,966\n",
            "Trainable params: 7,966\n",
            "Non-trainable params: 0\n",
            "----------------------------------------------------------------\n",
            "Input size (MB): 0.00\n",
            "Forward/backward pass size (MB): 0.94\n",
            "Params size (MB): 0.03\n",
            "Estimated Total Size (MB): 0.98\n",
            "----------------------------------------------------------------\n"
          ],
          "name": "stdout"
        },
        {
          "output_type": "stream",
          "text": [
            "/usr/local/lib/python3.6/dist-packages/ipykernel_launcher.py:34: UserWarning: Implicit dimension choice for log_softmax has been deprecated. Change the call to include dim=X as an argument.\n"
          ],
          "name": "stderr"
        }
      ]
    },
    {
      "cell_type": "code",
      "metadata": {
        "id": "vDz0iLv_UYay"
      },
      "source": [
        "torch.manual_seed(1)\r\n",
        "batch_size = 16\r\n",
        "\r\n",
        "kwargs = {'num_workers': 1, 'pin_memory': True} if use_cuda else {}\r\n",
        "train_loader = torch.utils.data.DataLoader(\r\n",
        "    datasets.MNIST('../data', train=True, download=True,\r\n",
        "                    transform=transforms.Compose([\r\n",
        "                        transforms.RandomRotation((-10.0, 10.0), fill=(1,)),\r\n",
        "                        transforms.ToTensor(),\r\n",
        "                        transforms.Normalize((0.1307,), (0.3081,))\r\n",
        "                    ])),\r\n",
        "    batch_size=batch_size, shuffle=True, **kwargs)\r\n",
        "test_loader = torch.utils.data.DataLoader(\r\n",
        "    datasets.MNIST('../data', train=False, transform=transforms.Compose([\r\n",
        "                        transforms.ToTensor(),\r\n",
        "                        transforms.Normalize((0.1307,), (0.3081,))\r\n",
        "                    ])),\r\n",
        "    batch_size=batch_size, shuffle=True, **kwargs)"
      ],
      "execution_count": 5,
      "outputs": []
    },
    {
      "cell_type": "code",
      "metadata": {
        "id": "SsoVEVB5Upmv"
      },
      "source": [
        "from tqdm import tqdm\r\n",
        "\r\n",
        "train_losses = []\r\n",
        "test_losses = []\r\n",
        "train_acc = []\r\n",
        "test_acc = []\r\n",
        "\r\n",
        "def train(model, device, train_loader, optimizer, epoch):\r\n",
        "    model.train()\r\n",
        "    pbar = tqdm(train_loader)\r\n",
        "    correct = 0\r\n",
        "    processed = 0\r\n",
        "    for batch_idx, (data, target) in enumerate(pbar):\r\n",
        "        # get samples\r\n",
        "        data, target = data.to(device), target.to(device)\r\n",
        "        # Init\r\n",
        "        optimizer.zero_grad()\r\n",
        "        # In PyTorch, we need to set the gradients to zero before starting to do backpropragation because PyTorch accumulates the gradients on subsequent backward passes. \r\n",
        "        # Because of this, when you start your training loop, ideally you should zero out the gradients so that you do the parameter update correctly.\r\n",
        "        \r\n",
        "        # Predict\r\n",
        "        y_pred = model(data)\r\n",
        "        \r\n",
        "        # Calculate loss\r\n",
        "        loss = F.nll_loss(y_pred, target)\r\n",
        "        train_losses.append(loss)\r\n",
        "\r\n",
        "        # Backpropagation\r\n",
        "        loss.backward()\r\n",
        "        optimizer.step()\r\n",
        "        \r\n",
        "        # Update pbar-tqdm\r\n",
        "        pred = y_pred.argmax(dim=1, keepdim=True)  # get the index of the max log-probability\r\n",
        "        correct += pred.eq(target.view_as(pred)).sum().item()\r\n",
        "        processed += len(data)\r\n",
        "\r\n",
        "        pbar.set_description(desc= f'loss={loss.item()} batch_id={batch_idx} Train_Accuracy={100*correct/processed:0.2f}')\r\n",
        "        train_acc.append(100*correct/processed)\r\n",
        "\r\n",
        "        \r\n",
        "\r\n",
        "def test(model, device, test_loader):\r\n",
        "    model.eval()\r\n",
        "    test_loss = 0\r\n",
        "    correct = 0\r\n",
        "    with torch.no_grad():\r\n",
        "        for data, target in test_loader:\r\n",
        "            data, target = data.to(device), target.to(device)\r\n",
        "            output = model(data)\r\n",
        "            test_loss += F.nll_loss(output, target, reduction='sum').item()  # sum up batch loss\r\n",
        "            pred = output.argmax(dim=1, keepdim=True)  # get the index of the max log-probability\r\n",
        "            correct += pred.eq(target.view_as(pred)).sum().item()\r\n",
        "\r\n",
        "    test_loss /= len(test_loader.dataset)\r\n",
        "    test_losses.append(test_loss)\r\n",
        "\r\n",
        "    print('\\nTest set: Average loss: {:.4f}, Teast_Accuracy: {}/{} ({:.2f}%)\\n'.format(\r\n",
        "        test_loss, correct, len(test_loader.dataset),\r\n",
        "        100. * correct / len(test_loader.dataset)))\r\n",
        "    \r\n",
        "    test_acc.append(100. * correct / len(test_loader.dataset))"
      ],
      "execution_count": 6,
      "outputs": []
    },
    {
      "cell_type": "code",
      "metadata": {
        "id": "xCbfot_tU3XQ",
        "colab": {
          "base_uri": "https://localhost:8080/"
        },
        "outputId": "78d1c2ca-c178-41c3-8c71-75a3e8be7c94"
      },
      "source": [
        "from torch.optim.lr_scheduler import StepLR\r\n",
        "torch.manual_seed(2)\r\n",
        "\r\n",
        "model = Net().to(device)\r\n",
        "optimizer = optim.SGD(model.parameters(), lr=0.01, momentum=0.9)\r\n",
        "scheduler = StepLR(optimizer, step_size=4, gamma=0.1)\r\n",
        "\r\n",
        "\r\n",
        "EPOCHS = 15\r\n",
        "for epoch in range(EPOCHS):\r\n",
        "    print(\"EPOCH:\", epoch)\r\n",
        "    train(model, device, train_loader, optimizer, epoch)\r\n",
        "    test(model, device, test_loader)\r\n",
        "    scheduler.step()"
      ],
      "execution_count": null,
      "outputs": [
        {
          "output_type": "stream",
          "text": [
            "  0%|          | 0/3750 [00:00<?, ?it/s]/usr/local/lib/python3.6/dist-packages/ipykernel_launcher.py:34: UserWarning: Implicit dimension choice for log_softmax has been deprecated. Change the call to include dim=X as an argument.\n",
            "loss=2.2512736320495605 batch_id=3 Train_Accuracy=15.62:   0%|          | 2/3750 [00:00<03:17, 19.02it/s]"
          ],
          "name": "stderr"
        },
        {
          "output_type": "stream",
          "text": [
            "EPOCH: 0\n"
          ],
          "name": "stdout"
        },
        {
          "output_type": "stream",
          "text": [
            "loss=0.26298069953918457 batch_id=3749 Train_Accuracy=92.73: 100%|██████████| 3750/3750 [02:30<00:00, 24.99it/s]\n",
            "loss=0.0070116836577653885 batch_id=4 Train_Accuracy=95.00:   0%|          | 3/3750 [00:00<02:19, 26.82it/s]"
          ],
          "name": "stderr"
        },
        {
          "output_type": "stream",
          "text": [
            "\n",
            "Test set: Average loss: 0.0604, Teast_Accuracy: 9805/10000 (98.05%)\n",
            "\n",
            "EPOCH: 1\n"
          ],
          "name": "stdout"
        },
        {
          "output_type": "stream",
          "text": [
            "loss=0.018008004873991013 batch_id=3749 Train_Accuracy=97.15: 100%|██████████| 3750/3750 [02:29<00:00, 25.17it/s]\n",
            "loss=0.015778496861457825 batch_id=3 Train_Accuracy=98.44:   0%|          | 3/3750 [00:00<02:26, 25.52it/s]"
          ],
          "name": "stderr"
        },
        {
          "output_type": "stream",
          "text": [
            "\n",
            "Test set: Average loss: 0.0453, Teast_Accuracy: 9848/10000 (98.48%)\n",
            "\n",
            "EPOCH: 2\n"
          ],
          "name": "stdout"
        },
        {
          "output_type": "stream",
          "text": [
            "loss=0.010475004091858864 batch_id=3749 Train_Accuracy=97.74: 100%|██████████| 3750/3750 [02:28<00:00, 25.27it/s]\n",
            "loss=0.0006908649811521173 batch_id=4 Train_Accuracy=98.75:   0%|          | 3/3750 [00:00<02:23, 26.18it/s]"
          ],
          "name": "stderr"
        },
        {
          "output_type": "stream",
          "text": [
            "\n",
            "Test set: Average loss: 0.0312, Teast_Accuracy: 9902/10000 (99.02%)\n",
            "\n",
            "EPOCH: 3\n"
          ],
          "name": "stdout"
        },
        {
          "output_type": "stream",
          "text": [
            "loss=0.032162830233573914 batch_id=3749 Train_Accuracy=97.96: 100%|██████████| 3750/3750 [02:34<00:00, 24.32it/s]\n",
            "loss=0.049629345536231995 batch_id=4 Train_Accuracy=97.50:   0%|          | 3/3750 [00:00<02:22, 26.21it/s] "
          ],
          "name": "stderr"
        },
        {
          "output_type": "stream",
          "text": [
            "\n",
            "Test set: Average loss: 0.0289, Teast_Accuracy: 9906/10000 (99.06%)\n",
            "\n",
            "EPOCH: 4\n"
          ],
          "name": "stdout"
        },
        {
          "output_type": "stream",
          "text": [
            "loss=0.0025851810351014137 batch_id=3749 Train_Accuracy=98.46: 100%|██████████| 3750/3750 [02:29<00:00, 25.04it/s]\n",
            "loss=0.01605878956615925 batch_id=3 Train_Accuracy=98.44:   0%|          | 3/3750 [00:00<02:32, 24.64it/s] "
          ],
          "name": "stderr"
        },
        {
          "output_type": "stream",
          "text": [
            "\n",
            "Test set: Average loss: 0.0224, Teast_Accuracy: 9921/10000 (99.21%)\n",
            "\n",
            "EPOCH: 5\n"
          ],
          "name": "stdout"
        },
        {
          "output_type": "stream",
          "text": [
            "loss=0.043228570371866226 batch_id=3749 Train_Accuracy=98.62: 100%|██████████| 3750/3750 [02:30<00:00, 24.94it/s]\n",
            "loss=0.011673004366457462 batch_id=4 Train_Accuracy=100.00:   0%|          | 3/3750 [00:00<02:24, 25.87it/s]"
          ],
          "name": "stderr"
        },
        {
          "output_type": "stream",
          "text": [
            "\n",
            "Test set: Average loss: 0.0229, Teast_Accuracy: 9921/10000 (99.21%)\n",
            "\n",
            "EPOCH: 6\n"
          ],
          "name": "stdout"
        },
        {
          "output_type": "stream",
          "text": [
            "loss=0.05220751464366913 batch_id=3749 Train_Accuracy=98.63: 100%|██████████| 3750/3750 [02:30<00:00, 24.90it/s]\n",
            "loss=0.1057557761669159 batch_id=4 Train_Accuracy=98.75:   0%|          | 3/3750 [00:00<02:22, 26.22it/s]  "
          ],
          "name": "stderr"
        },
        {
          "output_type": "stream",
          "text": [
            "\n",
            "Test set: Average loss: 0.0214, Teast_Accuracy: 9930/10000 (99.30%)\n",
            "\n",
            "EPOCH: 7\n"
          ],
          "name": "stdout"
        },
        {
          "output_type": "stream",
          "text": [
            "loss=0.024169733747839928 batch_id=3749 Train_Accuracy=98.72: 100%|██████████| 3750/3750 [02:30<00:00, 24.96it/s]\n",
            "loss=0.0011184834875166416 batch_id=4 Train_Accuracy=100.00:   0%|          | 3/3750 [00:00<02:19, 26.77it/s]"
          ],
          "name": "stderr"
        },
        {
          "output_type": "stream",
          "text": [
            "\n",
            "Test set: Average loss: 0.0212, Teast_Accuracy: 9924/10000 (99.24%)\n",
            "\n",
            "EPOCH: 8\n"
          ],
          "name": "stdout"
        },
        {
          "output_type": "stream",
          "text": [
            "loss=0.13691793382167816 batch_id=3749 Train_Accuracy=98.77: 100%|██████████| 3750/3750 [02:29<00:00, 25.09it/s]\n",
            "loss=0.010254011489450932 batch_id=3 Train_Accuracy=100.00:   0%|          | 3/3750 [00:00<02:35, 24.10it/s]"
          ],
          "name": "stderr"
        },
        {
          "output_type": "stream",
          "text": [
            "\n",
            "Test set: Average loss: 0.0204, Teast_Accuracy: 9929/10000 (99.29%)\n",
            "\n",
            "EPOCH: 9\n"
          ],
          "name": "stdout"
        },
        {
          "output_type": "stream",
          "text": [
            "loss=0.00146154360845685 batch_id=3749 Train_Accuracy=98.78: 100%|██████████| 3750/3750 [02:30<00:00, 24.97it/s]\n",
            "loss=0.004364767111837864 batch_id=3 Train_Accuracy=98.44:   0%|          | 3/3750 [00:00<02:21, 26.48it/s]"
          ],
          "name": "stderr"
        },
        {
          "output_type": "stream",
          "text": [
            "\n",
            "Test set: Average loss: 0.0206, Teast_Accuracy: 9927/10000 (99.27%)\n",
            "\n",
            "EPOCH: 10\n"
          ],
          "name": "stdout"
        },
        {
          "output_type": "stream",
          "text": [
            "loss=0.004132566507905722 batch_id=3749 Train_Accuracy=98.81: 100%|██████████| 3750/3750 [02:28<00:00, 25.18it/s]\n",
            "loss=0.0007310746004804969 batch_id=4 Train_Accuracy=96.25:   0%|          | 3/3750 [00:00<02:24, 25.92it/s]"
          ],
          "name": "stderr"
        },
        {
          "output_type": "stream",
          "text": [
            "\n",
            "Test set: Average loss: 0.0207, Teast_Accuracy: 9922/10000 (99.22%)\n",
            "\n",
            "EPOCH: 11\n"
          ],
          "name": "stdout"
        },
        {
          "output_type": "stream",
          "text": [
            "loss=0.001005827565677464 batch_id=3749 Train_Accuracy=98.86: 100%|██████████| 3750/3750 [02:29<00:00, 25.04it/s]\n",
            "loss=0.5528035163879395 batch_id=4 Train_Accuracy=97.50:   0%|          | 3/3750 [00:00<02:22, 26.36it/s]   "
          ],
          "name": "stderr"
        },
        {
          "output_type": "stream",
          "text": [
            "\n",
            "Test set: Average loss: 0.0203, Teast_Accuracy: 9929/10000 (99.29%)\n",
            "\n",
            "EPOCH: 12\n"
          ],
          "name": "stdout"
        },
        {
          "output_type": "stream",
          "text": [
            "loss=0.008286891505122185 batch_id=3749 Train_Accuracy=98.80: 100%|██████████| 3750/3750 [02:29<00:00, 25.16it/s]\n",
            "loss=0.004871518351137638 batch_id=4 Train_Accuracy=98.75:   0%|          | 3/3750 [00:00<02:25, 25.83it/s]"
          ],
          "name": "stderr"
        },
        {
          "output_type": "stream",
          "text": [
            "\n",
            "Test set: Average loss: 0.0204, Teast_Accuracy: 9928/10000 (99.28%)\n",
            "\n",
            "EPOCH: 13\n"
          ],
          "name": "stdout"
        },
        {
          "output_type": "stream",
          "text": [
            "loss=0.001925065298564732 batch_id=2017 Train_Accuracy=98.78:  54%|█████▍    | 2016/3750 [01:20<01:07, 25.83it/s]"
          ],
          "name": "stderr"
        },
        {
          "output_type": "stream",
          "text": [
            "Buffered data was truncated after reaching the output size limit."
          ],
          "name": "stdout"
        }
      ]
    },
    {
      "cell_type": "code",
      "metadata": {
        "id": "PAeArUHHU8yn"
      },
      "source": [
        "%matplotlib inline\r\n",
        "import matplotlib.pyplot as plt\r\n",
        "\r\n",
        "fig, axs = plt.subplots(2,2,figsize=(15,10))\r\n",
        "axs[0, 0].plot(train_losses)\r\n",
        "axs[0, 0].set_title(\"Training Loss\")\r\n",
        "axs[1, 0].plot(train_acc[4000:])\r\n",
        "axs[1, 0].set_title(\"Training Accuracy\")\r\n",
        "axs[0, 1].plot(test_losses)\r\n",
        "axs[0, 1].set_title(\"Test Loss\")\r\n",
        "axs[1, 1].plot(test_acc)\r\n",
        "axs[1, 1].set_title(\"Test Accuracy\")"
      ],
      "execution_count": null,
      "outputs": []
    }
  ]
}