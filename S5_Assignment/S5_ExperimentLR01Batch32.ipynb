{
 "cells": [
  {
   "cell_type": "code",
   "execution_count": 1,
   "metadata": {
    "id": "H6__NdmqS4nh"
   },
   "outputs": [],
   "source": [
    "from __future__ import print_function\n",
    "import torch\n",
    "import torch.nn as nn\n",
    "import torch.nn.functional as F\n",
    "import torch.optim as optim\n",
    "from torchvision import datasets, transforms"
   ]
  },
  {
   "cell_type": "code",
   "execution_count": 2,
   "metadata": {
    "id": "zZpmFxATTIDh"
   },
   "outputs": [],
   "source": [
    "dropout_value = 0.0\n",
    "class Net(nn.Module):\n",
    "    def __init__(self):\n",
    "        super(Net, self).__init__()\n",
    "        self.convblock1 = nn.Sequential(nn.Conv2d(in_channels=1, out_channels=10, kernel_size=(3, 3), padding=1, bias=False),nn.ReLU(),nn.BatchNorm2d(10), nn.Dropout(dropout_value)) \n",
    "        self.convblock2 = nn.Sequential(nn.Conv2d(in_channels=10, out_channels=15, kernel_size=(3, 3), padding=1, bias=False),nn.ReLU(),nn.BatchNorm2d(15), nn.Dropout(dropout_value))\n",
    "        self.convblock3 = nn.Sequential(nn.Conv2d(in_channels=15, out_channels=10, kernel_size=(1, 1), bias=False))\n",
    "        self.pool1 = nn.MaxPool2d(2,2)\n",
    "        \n",
    "        \n",
    "        self.convblock4 = nn.Sequential(nn.Conv2d(in_channels= 10, out_channels= 15, kernel_size=(3, 3), padding=1, bias=False), nn.ReLU(),nn.BatchNorm2d(15), nn.Dropout(dropout_value))\n",
    "        self.convblock5 = nn.Sequential(nn.Conv2d(in_channels=15, out_channels= 18, kernel_size=(3, 3), padding=1, bias=False),nn.ReLU(),nn.BatchNorm2d(18), nn.Dropout(dropout_value))\n",
    "        self.convblock6 = nn.Sequential(nn.Conv2d(in_channels=18, out_channels=10, kernel_size=(1, 1), bias=False))\n",
    "        self.pool2 = nn.MaxPool2d(2, 2)\n",
    "        self.convblock7 = nn.Sequential(nn.Conv2d(in_channels=10, out_channels= 15, kernel_size=(3, 3), bias=False),nn.ReLU(),nn.BatchNorm2d(15), nn.Dropout(dropout_value))\n",
    "        self.convblock8 = nn.Sequential(nn.Conv2d(in_channels=15, out_channels= 18, kernel_size=(3, 3), padding=1, bias=False),nn.ReLU(),nn.BatchNorm2d(18), nn.Dropout(dropout_value))\n",
    "        self.gap = nn.Sequential(nn.AvgPool2d(kernel_size=5))\n",
    "        self.convblock9 = nn.Sequential(nn.Conv2d(in_channels=18, out_channels=10, kernel_size=(1, 1), bias=False))\n",
    "        \n",
    "         \n",
    "\n",
    "    def forward(self, x):\n",
    "        x = self.convblock1(x) #input - 28; Output - 28; RF - 3; output channels - 10\n",
    "        x = self.convblock2(x) #input - 28; Output - 28; RF - 5; output channels - 15\n",
    "        x = self.convblock3(x)\n",
    "        x = self.pool1(x) #input - 28; Output - 14; RF - 10; output channels - 15\n",
    "        x = self.convblock4(x) #input - 14; Output - 14; RF - 12; output channels - 18\n",
    "        x = self.convblock5(x)#input - 14; Output - 14; RF - 14; output channels - 10\n",
    "        x = self.convblock6(x)\n",
    "        x = self.pool2(x)#input - 7; Output - 7; RF - 28; output channels - 10\n",
    "        x = self.convblock7(x)\n",
    "        x = self.convblock8(x)\n",
    "        x = self.gap(x)        \n",
    "        x = self.convblock9(x)\n",
    "        x = x.view(-1, 10)\n",
    "        return F.log_softmax(x)"
   ]
  },
  {
   "cell_type": "code",
   "execution_count": 3,
   "metadata": {
    "colab": {
     "base_uri": "https://localhost:8080/"
    },
    "id": "6xkLW5EfUOxI",
    "outputId": "8cff6996-82ff-4b79-c29e-0a7da6ddb3c7"
   },
   "outputs": [
    {
     "name": "stdout",
     "output_type": "stream",
     "text": [
      "cpu\n",
      "----------------------------------------------------------------\n",
      "        Layer (type)               Output Shape         Param #\n",
      "================================================================\n",
      "            Conv2d-1           [-1, 10, 28, 28]              90\n",
      "              ReLU-2           [-1, 10, 28, 28]               0\n",
      "       BatchNorm2d-3           [-1, 10, 28, 28]              20\n",
      "           Dropout-4           [-1, 10, 28, 28]               0\n",
      "            Conv2d-5           [-1, 15, 28, 28]           1,350\n",
      "              ReLU-6           [-1, 15, 28, 28]               0\n",
      "       BatchNorm2d-7           [-1, 15, 28, 28]              30\n",
      "           Dropout-8           [-1, 15, 28, 28]               0\n",
      "            Conv2d-9           [-1, 10, 28, 28]             150\n",
      "        MaxPool2d-10           [-1, 10, 14, 14]               0\n",
      "           Conv2d-11           [-1, 15, 14, 14]           1,350\n",
      "             ReLU-12           [-1, 15, 14, 14]               0\n",
      "      BatchNorm2d-13           [-1, 15, 14, 14]              30\n",
      "          Dropout-14           [-1, 15, 14, 14]               0\n",
      "           Conv2d-15           [-1, 18, 14, 14]           2,430\n",
      "             ReLU-16           [-1, 18, 14, 14]               0\n",
      "      BatchNorm2d-17           [-1, 18, 14, 14]              36\n",
      "          Dropout-18           [-1, 18, 14, 14]               0\n",
      "           Conv2d-19           [-1, 10, 14, 14]             180\n",
      "        MaxPool2d-20             [-1, 10, 7, 7]               0\n",
      "           Conv2d-21             [-1, 15, 5, 5]           1,350\n",
      "             ReLU-22             [-1, 15, 5, 5]               0\n",
      "      BatchNorm2d-23             [-1, 15, 5, 5]              30\n",
      "          Dropout-24             [-1, 15, 5, 5]               0\n",
      "           Conv2d-25             [-1, 18, 5, 5]           2,430\n",
      "             ReLU-26             [-1, 18, 5, 5]               0\n",
      "      BatchNorm2d-27             [-1, 18, 5, 5]              36\n",
      "          Dropout-28             [-1, 18, 5, 5]               0\n",
      "        AvgPool2d-29             [-1, 18, 1, 1]               0\n",
      "           Conv2d-30             [-1, 10, 1, 1]             180\n",
      "================================================================\n",
      "Total params: 9,692\n",
      "Trainable params: 9,692\n",
      "Non-trainable params: 0\n",
      "----------------------------------------------------------------\n",
      "Input size (MB): 0.00\n",
      "Forward/backward pass size (MB): 0.91\n",
      "Params size (MB): 0.04\n",
      "Estimated Total Size (MB): 0.95\n",
      "----------------------------------------------------------------\n"
     ]
    },
    {
     "name": "stderr",
     "output_type": "stream",
     "text": [
      "/usr/local/lib/python3.6/dist-packages/ipykernel_launcher.py:36: UserWarning: Implicit dimension choice for log_softmax has been deprecated. Change the call to include dim=X as an argument.\n"
     ]
    }
   ],
   "source": [
    "#!pip install torchsummary\n",
    "from torchsummary import summary\n",
    "use_cuda = torch.cuda.is_available()\n",
    "device = torch.device(\"cuda\" if use_cuda else \"cpu\")\n",
    "print(device)\n",
    "model = Net().to(device)\n",
    "summary(model, input_size=(1, 28, 28))"
   ]
  },
  {
   "cell_type": "code",
   "execution_count": 5,
   "metadata": {
    "id": "vDz0iLv_UYay"
   },
   "outputs": [],
   "source": [
    "torch.manual_seed(2)\n",
    "batch_size = 32\n",
    "\n",
    "kwargs = {'num_workers': 1, 'pin_memory': True} if use_cuda else {}\n",
    "train_loader = torch.utils.data.DataLoader(\n",
    "    datasets.MNIST('../data', train=True, download=True,\n",
    "                    transform=transforms.Compose([\n",
    "                        transforms.RandomRotation((-10.0, 10.0), fill=(1,)),\n",
    "                        transforms.ToTensor(),\n",
    "                        transforms.Normalize((0.1307,), (0.3081,))\n",
    "                    ])),\n",
    "    batch_size=batch_size, shuffle=True, **kwargs)\n",
    "test_loader = torch.utils.data.DataLoader(\n",
    "    datasets.MNIST('../data', train=False, transform=transforms.Compose([\n",
    "                        transforms.ToTensor(),\n",
    "                        transforms.Normalize((0.1307,), (0.3081,))\n",
    "                    ])),\n",
    "    batch_size=batch_size, shuffle=True, **kwargs)"
   ]
  },
  {
   "cell_type": "code",
   "execution_count": 6,
   "metadata": {
    "id": "SsoVEVB5Upmv"
   },
   "outputs": [],
   "source": [
    "from tqdm import tqdm\n",
    "\n",
    "train_losses = []\n",
    "test_losses = []\n",
    "train_acc = []\n",
    "test_acc = []\n",
    "\n",
    "def train(model, device, train_loader, optimizer, epoch):\n",
    "    model.train()\n",
    "    pbar = tqdm(train_loader)\n",
    "    correct = 0\n",
    "    processed = 0\n",
    "    for batch_idx, (data, target) in enumerate(pbar):\n",
    "        # get samples\n",
    "        data, target = data.to(device), target.to(device)\n",
    "        # Init\n",
    "        optimizer.zero_grad()\n",
    "        # In PyTorch, we need to set the gradients to zero before starting to do backpropragation because PyTorch accumulates the gradients on subsequent backward passes. \n",
    "        # Because of this, when you start your training loop, ideally you should zero out the gradients so that you do the parameter update correctly.\n",
    "        \n",
    "        # Predict\n",
    "        y_pred = model(data)\n",
    "        \n",
    "        # Calculate loss\n",
    "        loss = F.nll_loss(y_pred, target)\n",
    "        train_losses.append(loss)\n",
    "\n",
    "        # Backpropagation\n",
    "        loss.backward()\n",
    "        optimizer.step()\n",
    "        \n",
    "        # Update pbar-tqdm\n",
    "        pred = y_pred.argmax(dim=1, keepdim=True)  # get the index of the max log-probability\n",
    "        correct += pred.eq(target.view_as(pred)).sum().item()\n",
    "        processed += len(data)\n",
    "\n",
    "        pbar.set_description(desc= f'loss={loss.item()} batch_id={batch_idx} Train_Accuracy={100*correct/processed:0.2f}')\n",
    "        train_acc.append(100*correct/processed)\n",
    "\n",
    "        \n",
    "\n",
    "def test(model, device, test_loader):\n",
    "    model.eval()\n",
    "    test_loss = 0\n",
    "    correct = 0\n",
    "    with torch.no_grad():\n",
    "        for data, target in test_loader:\n",
    "            data, target = data.to(device), target.to(device)\n",
    "            output = model(data)\n",
    "            test_loss += F.nll_loss(output, target, reduction='sum').item()  # sum up batch loss\n",
    "            pred = output.argmax(dim=1, keepdim=True)  # get the index of the max log-probability\n",
    "            correct += pred.eq(target.view_as(pred)).sum().item()\n",
    "\n",
    "    test_loss /= len(test_loader.dataset)\n",
    "    test_losses.append(test_loss)\n",
    "\n",
    "    print('\\nTest set: Average loss: {:.4f}, Test_Accuracy: {}/{} ({:.2f}%)\\n'.format(\n",
    "        test_loss, correct, len(test_loader.dataset),\n",
    "        100. * correct / len(test_loader.dataset)))\n",
    "    \n",
    "    test_acc.append(100. * correct / len(test_loader.dataset))"
   ]
  },
  {
   "cell_type": "code",
   "execution_count": 7,
   "metadata": {
    "colab": {
     "base_uri": "https://localhost:8080/"
    },
    "id": "xCbfot_tU3XQ",
    "outputId": "30876efc-8918-4f64-b26b-52ed0532d9d5"
   },
   "outputs": [
    {
     "name": "stderr",
     "output_type": "stream",
     "text": [
      "  0%|          | 0/1875 [00:00<?, ?it/s]/usr/local/lib/python3.6/dist-packages/ipykernel_launcher.py:36: UserWarning: Implicit dimension choice for log_softmax has been deprecated. Change the call to include dim=X as an argument.\n",
      "loss=2.2863945960998535 batch_id=1 Train_Accuracy=6.25:   0%|          | 2/1875 [00:00<02:41, 11.59it/s]"
     ]
    },
    {
     "name": "stdout",
     "output_type": "stream",
     "text": [
      "EPOCH: 0\n"
     ]
    },
    {
     "name": "stderr",
     "output_type": "stream",
     "text": [
      "loss=0.04845257103443146 batch_id=1874 Train_Accuracy=92.36: 100%|██████████| 1875/1875 [02:28<00:00, 12.58it/s]\n",
      "loss=0.07304017245769501 batch_id=1 Train_Accuracy=98.44:   0%|          | 2/1875 [00:00<02:21, 13.19it/s]"
     ]
    },
    {
     "name": "stdout",
     "output_type": "stream",
     "text": [
      "\n",
      "Test set: Average loss: 0.0533, Test_Accuracy: 9837/10000 (98.37%)\n",
      "\n",
      "EPOCH: 1\n"
     ]
    },
    {
     "name": "stderr",
     "output_type": "stream",
     "text": [
      "loss=0.07476484775543213 batch_id=1874 Train_Accuracy=97.75: 100%|██████████| 1875/1875 [02:23<00:00, 13.04it/s]\n",
      "loss=0.015860239043831825 batch_id=1 Train_Accuracy=100.00:   0%|          | 2/1875 [00:00<02:25, 12.91it/s]"
     ]
    },
    {
     "name": "stdout",
     "output_type": "stream",
     "text": [
      "\n",
      "Test set: Average loss: 0.0361, Test_Accuracy: 9891/10000 (98.91%)\n",
      "\n",
      "EPOCH: 2\n"
     ]
    },
    {
     "name": "stderr",
     "output_type": "stream",
     "text": [
      "loss=0.004820868838578463 batch_id=1874 Train_Accuracy=98.24: 100%|██████████| 1875/1875 [02:23<00:00, 13.04it/s]\n",
      "loss=0.2120373696088791 batch_id=1 Train_Accuracy=95.31:   0%|          | 2/1875 [00:00<02:32, 12.31it/s]"
     ]
    },
    {
     "name": "stdout",
     "output_type": "stream",
     "text": [
      "\n",
      "Test set: Average loss: 0.0312, Test_Accuracy: 9895/10000 (98.95%)\n",
      "\n",
      "EPOCH: 3\n"
     ]
    },
    {
     "name": "stderr",
     "output_type": "stream",
     "text": [
      "loss=0.18919169902801514 batch_id=1874 Train_Accuracy=98.40: 100%|██████████| 1875/1875 [02:23<00:00, 13.05it/s]\n",
      "loss=0.16456270217895508 batch_id=1 Train_Accuracy=96.88:   0%|          | 2/1875 [00:00<02:24, 12.96it/s]"
     ]
    },
    {
     "name": "stdout",
     "output_type": "stream",
     "text": [
      "\n",
      "Test set: Average loss: 0.0264, Test_Accuracy: 9914/10000 (99.14%)\n",
      "\n",
      "EPOCH: 4\n"
     ]
    },
    {
     "name": "stderr",
     "output_type": "stream",
     "text": [
      "loss=0.016759298741817474 batch_id=1874 Train_Accuracy=98.85: 100%|██████████| 1875/1875 [02:23<00:00, 13.05it/s]\n",
      "loss=0.0030734993051737547 batch_id=1 Train_Accuracy=100.00:   0%|          | 2/1875 [00:00<02:14, 13.94it/s]"
     ]
    },
    {
     "name": "stdout",
     "output_type": "stream",
     "text": [
      "\n",
      "Test set: Average loss: 0.0195, Test_Accuracy: 9932/10000 (99.32%)\n",
      "\n",
      "EPOCH: 5\n"
     ]
    },
    {
     "name": "stderr",
     "output_type": "stream",
     "text": [
      "loss=0.03785490617156029 batch_id=1874 Train_Accuracy=98.91: 100%|██████████| 1875/1875 [02:22<00:00, 13.12it/s]\n",
      "loss=0.06623046100139618 batch_id=1 Train_Accuracy=98.44:   0%|          | 2/1875 [00:00<02:14, 13.92it/s]"
     ]
    },
    {
     "name": "stdout",
     "output_type": "stream",
     "text": [
      "\n",
      "Test set: Average loss: 0.0194, Test_Accuracy: 9937/10000 (99.37%)\n",
      "\n",
      "EPOCH: 6\n"
     ]
    },
    {
     "name": "stderr",
     "output_type": "stream",
     "text": [
      "loss=0.04616940766572952 batch_id=1874 Train_Accuracy=98.98: 100%|██████████| 1875/1875 [02:22<00:00, 13.12it/s]\n",
      "loss=0.0014343246584758162 batch_id=1 Train_Accuracy=100.00:   0%|          | 2/1875 [00:00<02:19, 13.45it/s]"
     ]
    },
    {
     "name": "stdout",
     "output_type": "stream",
     "text": [
      "\n",
      "Test set: Average loss: 0.0183, Test_Accuracy: 9934/10000 (99.34%)\n",
      "\n",
      "EPOCH: 7\n"
     ]
    },
    {
     "name": "stderr",
     "output_type": "stream",
     "text": [
      "loss=0.002079589758068323 batch_id=1874 Train_Accuracy=99.03: 100%|██████████| 1875/1875 [02:21<00:00, 13.23it/s]\n",
      "loss=0.005053460132330656 batch_id=1 Train_Accuracy=98.44:   0%|          | 2/1875 [00:00<02:14, 13.94it/s]"
     ]
    },
    {
     "name": "stdout",
     "output_type": "stream",
     "text": [
      "\n",
      "Test set: Average loss: 0.0178, Test_Accuracy: 9935/10000 (99.35%)\n",
      "\n",
      "EPOCH: 8\n"
     ]
    },
    {
     "name": "stderr",
     "output_type": "stream",
     "text": [
      "loss=0.1279531866312027 batch_id=1874 Train_Accuracy=99.06: 100%|██████████| 1875/1875 [02:21<00:00, 13.25it/s]\n",
      "loss=0.004727277439087629 batch_id=1 Train_Accuracy=100.00:   0%|          | 2/1875 [00:00<02:23, 13.03it/s]"
     ]
    },
    {
     "name": "stdout",
     "output_type": "stream",
     "text": [
      "\n",
      "Test set: Average loss: 0.0184, Test_Accuracy: 9934/10000 (99.34%)\n",
      "\n",
      "EPOCH: 9\n"
     ]
    },
    {
     "name": "stderr",
     "output_type": "stream",
     "text": [
      "loss=0.03972502797842026 batch_id=1874 Train_Accuracy=99.04: 100%|██████████| 1875/1875 [02:22<00:00, 13.18it/s]\n",
      "loss=0.04792005196213722 batch_id=1 Train_Accuracy=100.00:   0%|          | 2/1875 [00:00<02:14, 13.88it/s]"
     ]
    },
    {
     "name": "stdout",
     "output_type": "stream",
     "text": [
      "\n",
      "Test set: Average loss: 0.0177, Test_Accuracy: 9941/10000 (99.41%)\n",
      "\n",
      "EPOCH: 10\n"
     ]
    },
    {
     "name": "stderr",
     "output_type": "stream",
     "text": [
      "loss=0.023686110973358154 batch_id=1874 Train_Accuracy=99.11: 100%|██████████| 1875/1875 [02:23<00:00, 13.08it/s]\n",
      "loss=0.004427817650139332 batch_id=1 Train_Accuracy=98.44:   0%|          | 2/1875 [00:00<02:13, 14.02it/s]"
     ]
    },
    {
     "name": "stdout",
     "output_type": "stream",
     "text": [
      "\n",
      "Test set: Average loss: 0.0177, Test_Accuracy: 9941/10000 (99.41%)\n",
      "\n",
      "EPOCH: 11\n"
     ]
    },
    {
     "name": "stderr",
     "output_type": "stream",
     "text": [
      "loss=0.005670909769833088 batch_id=1874 Train_Accuracy=99.12: 100%|██████████| 1875/1875 [02:23<00:00, 13.10it/s]\n",
      "loss=0.004393598064780235 batch_id=1 Train_Accuracy=100.00:   0%|          | 2/1875 [00:00<02:16, 13.72it/s]"
     ]
    },
    {
     "name": "stdout",
     "output_type": "stream",
     "text": [
      "\n",
      "Test set: Average loss: 0.0184, Test_Accuracy: 9938/10000 (99.38%)\n",
      "\n",
      "EPOCH: 12\n"
     ]
    },
    {
     "name": "stderr",
     "output_type": "stream",
     "text": [
      "loss=0.007887526415288448 batch_id=1874 Train_Accuracy=99.09: 100%|██████████| 1875/1875 [02:22<00:00, 13.19it/s]\n",
      "loss=0.003965870477259159 batch_id=1 Train_Accuracy=98.44:   0%|          | 2/1875 [00:00<02:25, 12.89it/s]"
     ]
    },
    {
     "name": "stdout",
     "output_type": "stream",
     "text": [
      "\n",
      "Test set: Average loss: 0.0172, Test_Accuracy: 9938/10000 (99.38%)\n",
      "\n",
      "EPOCH: 13\n"
     ]
    },
    {
     "name": "stderr",
     "output_type": "stream",
     "text": [
      "loss=0.07420595735311508 batch_id=1874 Train_Accuracy=99.08: 100%|██████████| 1875/1875 [02:23<00:00, 13.07it/s]\n",
      "loss=0.009540119208395481 batch_id=1 Train_Accuracy=100.00:   0%|          | 2/1875 [00:00<02:21, 13.28it/s]"
     ]
    },
    {
     "name": "stdout",
     "output_type": "stream",
     "text": [
      "\n",
      "Test set: Average loss: 0.0171, Test_Accuracy: 9939/10000 (99.39%)\n",
      "\n",
      "EPOCH: 14\n"
     ]
    },
    {
     "name": "stderr",
     "output_type": "stream",
     "text": [
      "loss=0.00611830921843648 batch_id=1874 Train_Accuracy=99.09: 100%|██████████| 1875/1875 [02:24<00:00, 13.02it/s]\n"
     ]
    },
    {
     "name": "stdout",
     "output_type": "stream",
     "text": [
      "\n",
      "Test set: Average loss: 0.0173, Test_Accuracy: 9940/10000 (99.40%)\n",
      "\n"
     ]
    }
   ],
   "source": [
    "from torch.optim.lr_scheduler import StepLR\n",
    "torch.manual_seed(2)\n",
    "\n",
    "model = Net().to(device)\n",
    "optimizer = optim.SGD(model.parameters(), lr=0.01, momentum=0.9)\n",
    "scheduler = StepLR(optimizer, step_size=4, gamma=0.1)\n",
    "\n",
    "\n",
    "EPOCHS = 15\n",
    "for epoch in range(EPOCHS):\n",
    "    print(\"EPOCH:\", epoch)\n",
    "    train(model, device, train_loader, optimizer, epoch)\n",
    "    test(model, device, test_loader)\n",
    "    scheduler.step()"
   ]
  },
  {
   "cell_type": "code",
   "execution_count": 8,
   "metadata": {
    "colab": {
     "base_uri": "https://localhost:8080/",
     "height": 624
    },
    "id": "PAeArUHHU8yn",
    "outputId": "83e54445-69d7-4b71-db6a-259f97d9808a"
   },
   "outputs": [
    {
     "data": {
      "text/plain": [
       "Text(0.5, 1.0, 'Test Accuracy')"
      ]
     },
     "execution_count": 8,
     "metadata": {
      "tags": []
     },
     "output_type": "execute_result"
    },
    {
     "data": {
      "image/png": "[encoded data removed]",
      "text/plain": [
       "<Figure size 1080x720 with 4 Axes>"
      ]
     },
     "metadata": {
      "needs_background": "light",
      "tags": []
     },
     "output_type": "display_data"
    }
   ],
   "source": [
    "%matplotlib inline\n",
    "import matplotlib.pyplot as plt\n",
    "\n",
    "fig, axs = plt.subplots(2,2,figsize=(15,10))\n",
    "axs[0, 0].plot(train_losses)\n",
    "axs[0, 0].set_title(\"Training Loss\")\n",
    "axs[1, 0].plot(train_acc[4000:])\n",
    "axs[1, 0].set_title(\"Training Accuracy\")\n",
    "axs[0, 1].plot(test_losses)\n",
    "axs[0, 1].set_title(\"Test Loss\")\n",
    "axs[1, 1].plot(test_acc)\n",
    "axs[1, 1].set_title(\"Test Accuracy\")"
   ]
  }
 ],
 "metadata": {
  "colab": {
   "collapsed_sections": [],
   "name": "S5 ExperimentLR01Batch32.ipynb",
   "provenance": []
  },
  "kernelspec": {
   "display_name": "Python 3",
   "language": "python",
   "name": "python3"
  },
  "language_info": {
   "codemirror_mode": {
    "name": "ipython",
    "version": 3
   },
   "file_extension": ".py",
   "mimetype": "text/x-python",
   "name": "python",
   "nbconvert_exporter": "python",
   "pygments_lexer": "ipython3",
   "version": "3.7.4"
  },
  "toc": {
   "base_numbering": 1,
   "nav_menu": {},
   "number_sections": true,
   "sideBar": true,
   "skip_h1_title": false,
   "title_cell": "Table of Contents",
   "title_sidebar": "Contents",
   "toc_cell": false,
   "toc_position": {},
   "toc_section_display": true,
   "toc_window_display": false
  }
 },
 "nbformat": 4,
 "nbformat_minor": 1
}
