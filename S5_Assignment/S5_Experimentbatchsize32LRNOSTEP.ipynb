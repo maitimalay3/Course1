{
  "nbformat": 4,
  "nbformat_minor": 0,
  "metadata": {
    "colab": {
      "name": "Experimentbatchsize32LRNOSTEP.ipynb",
      "provenance": [],
      "collapsed_sections": []
    },
    "kernelspec": {
      "name": "python3",
      "display_name": "Python 3"
    }
  },
  "cells": [
    {
      "cell_type": "code",
      "metadata": {
        "id": "H6__NdmqS4nh"
      },
      "source": [
        "from __future__ import print_function\r\n",
        "import torch\r\n",
        "import torch.nn as nn\r\n",
        "import torch.nn.functional as F\r\n",
        "import torch.optim as optim\r\n",
        "from torchvision import datasets, transforms"
      ],
      "execution_count": 1,
      "outputs": []
    },
    {
      "cell_type": "code",
      "metadata": {
        "id": "zZpmFxATTIDh"
      },
      "source": [
        "dropout_value = 0.0\r\n",
        "class Net(nn.Module):\r\n",
        "    def __init__(self):\r\n",
        "        super(Net, self).__init__()\r\n",
        "        self.convblock1 = nn.Sequential(nn.Conv2d(in_channels=1, out_channels=10, kernel_size=(3, 3), padding=1, bias=False),nn.ReLU(),nn.BatchNorm2d(10), nn.Dropout(dropout_value)) \r\n",
        "        self.convblock2 = nn.Sequential(nn.Conv2d(in_channels=10, out_channels=16, kernel_size=(3, 3), padding=1, bias=False),nn.ReLU(),nn.BatchNorm2d(16), nn.Dropout(dropout_value))\r\n",
        "        self.convblock3 = nn.Sequential(nn.Conv2d(in_channels=16, out_channels=10, kernel_size=(1, 1), bias=False))\r\n",
        "        self.pool1 = nn.MaxPool2d(2,2)\r\n",
        "        \r\n",
        "        \r\n",
        "        self.convblock4 = nn.Sequential(nn.Conv2d(in_channels= 10, out_channels= 16, kernel_size=(3, 3), padding=1, bias=False), nn.ReLU(),nn.BatchNorm2d(16), nn.Dropout(dropout_value))\r\n",
        "        self.convblock5 = nn.Sequential(nn.Conv2d(in_channels=16, out_channels= 20, kernel_size=(3, 3), padding=1, bias=False),nn.ReLU(),nn.BatchNorm2d(20), nn.Dropout(dropout_value))\r\n",
        "        self.convblock6 = nn.Sequential(nn.Conv2d(in_channels=20, out_channels=10, kernel_size=(1, 1), bias=False))\r\n",
        "        self.pool2 = nn.MaxPool2d(2, 2)\r\n",
        "        self.convblock7 = nn.Sequential(nn.Conv2d(in_channels=10, out_channels= 16, kernel_size=(3, 3), bias=False),nn.ReLU(),nn.BatchNorm2d(16), nn.Dropout(dropout_value))\r\n",
        "        self.gap = nn.Sequential(nn.AvgPool2d(kernel_size=5))\r\n",
        "        self.convblock8 = nn.Sequential(nn.Conv2d(in_channels=16, out_channels=10, kernel_size=(1, 1), bias=False))\r\n",
        "        \r\n",
        "         \r\n",
        "\r\n",
        "    def forward(self, x):\r\n",
        "        x = self.convblock1(x) #input - 28; Output - 28; RF - 3; output channels - 10\r\n",
        "        x = self.convblock2(x) #input - 28; Output - 28; RF - 5; output channels - 15\r\n",
        "        x = self.convblock3(x)\r\n",
        "        x = self.pool1(x) #input - 28; Output - 14; RF - 10; output channels - 15\r\n",
        "        x = self.convblock4(x) #input - 14; Output - 14; RF - 12; output channels - 20\r\n",
        "        x = self.convblock5(x)#input - 14; Output - 14; RF - 14; output channels - 25\r\n",
        "        x = self.convblock6(x)\r\n",
        "        x = self.pool2(x)#input - 14; Output - 14; RF - 28; output channels - 25\r\n",
        "        x = self.convblock7(x)\r\n",
        "        x = self.gap(x)        \r\n",
        "        x = self.convblock8(x)\r\n",
        "        x = x.view(-1, 10)\r\n",
        "        return F.log_softmax(x)"
      ],
      "execution_count": 6,
      "outputs": []
    },
    {
      "cell_type": "code",
      "metadata": {
        "id": "6xkLW5EfUOxI",
        "colab": {
          "base_uri": "https://localhost:8080/"
        },
        "outputId": "a86fabdd-ce61-4b0f-cd7d-adad16b70a6d"
      },
      "source": [
        "#!pip install torchsummary\r\n",
        "from torchsummary import summary\r\n",
        "use_cuda = torch.cuda.is_available()\r\n",
        "device = torch.device(\"cuda\" if use_cuda else \"cpu\")\r\n",
        "print(device)\r\n",
        "model = Net().to(device)\r\n",
        "summary(model, input_size=(1, 28, 28))"
      ],
      "execution_count": 7,
      "outputs": [
        {
          "output_type": "stream",
          "text": [
            "cpu\n",
            "----------------------------------------------------------------\n",
            "        Layer (type)               Output Shape         Param #\n",
            "================================================================\n",
            "            Conv2d-1           [-1, 10, 28, 28]              90\n",
            "              ReLU-2           [-1, 10, 28, 28]               0\n",
            "       BatchNorm2d-3           [-1, 10, 28, 28]              20\n",
            "           Dropout-4           [-1, 10, 28, 28]               0\n",
            "            Conv2d-5           [-1, 16, 28, 28]           1,440\n",
            "              ReLU-6           [-1, 16, 28, 28]               0\n",
            "       BatchNorm2d-7           [-1, 16, 28, 28]              32\n",
            "           Dropout-8           [-1, 16, 28, 28]               0\n",
            "            Conv2d-9           [-1, 10, 28, 28]             160\n",
            "        MaxPool2d-10           [-1, 10, 14, 14]               0\n",
            "           Conv2d-11           [-1, 16, 14, 14]           1,440\n",
            "             ReLU-12           [-1, 16, 14, 14]               0\n",
            "      BatchNorm2d-13           [-1, 16, 14, 14]              32\n",
            "          Dropout-14           [-1, 16, 14, 14]               0\n",
            "           Conv2d-15           [-1, 20, 14, 14]           2,880\n",
            "             ReLU-16           [-1, 20, 14, 14]               0\n",
            "      BatchNorm2d-17           [-1, 20, 14, 14]              40\n",
            "          Dropout-18           [-1, 20, 14, 14]               0\n",
            "           Conv2d-19           [-1, 10, 14, 14]             200\n",
            "        MaxPool2d-20             [-1, 10, 7, 7]               0\n",
            "           Conv2d-21             [-1, 16, 5, 5]           1,440\n",
            "             ReLU-22             [-1, 16, 5, 5]               0\n",
            "      BatchNorm2d-23             [-1, 16, 5, 5]              32\n",
            "          Dropout-24             [-1, 16, 5, 5]               0\n",
            "        AvgPool2d-25             [-1, 16, 1, 1]               0\n",
            "           Conv2d-26             [-1, 10, 1, 1]             160\n",
            "================================================================\n",
            "Total params: 7,966\n",
            "Trainable params: 7,966\n",
            "Non-trainable params: 0\n",
            "----------------------------------------------------------------\n",
            "Input size (MB): 0.00\n",
            "Forward/backward pass size (MB): 0.94\n",
            "Params size (MB): 0.03\n",
            "Estimated Total Size (MB): 0.98\n",
            "----------------------------------------------------------------\n"
          ],
          "name": "stdout"
        },
        {
          "output_type": "stream",
          "text": [
            "/usr/local/lib/python3.6/dist-packages/ipykernel_launcher.py:34: UserWarning: Implicit dimension choice for log_softmax has been deprecated. Change the call to include dim=X as an argument.\n"
          ],
          "name": "stderr"
        }
      ]
    },
    {
      "cell_type": "code",
      "metadata": {
        "id": "vDz0iLv_UYay"
      },
      "source": [
        "torch.manual_seed(2)\r\n",
        "batch_size = 32\r\n",
        "\r\n",
        "kwargs = {'num_workers': 1, 'pin_memory': True} if use_cuda else {}\r\n",
        "train_loader = torch.utils.data.DataLoader(\r\n",
        "    datasets.MNIST('../data', train=True, download=True,\r\n",
        "                    transform=transforms.Compose([\r\n",
        "                        transforms.RandomRotation((-10.0, 10.0), fill=(1,)),\r\n",
        "                        transforms.ToTensor(),\r\n",
        "                        transforms.Normalize((0.1307,), (0.3081,))\r\n",
        "                    ])),\r\n",
        "    batch_size=batch_size, shuffle=True, **kwargs)\r\n",
        "test_loader = torch.utils.data.DataLoader(\r\n",
        "    datasets.MNIST('../data', train=False, transform=transforms.Compose([\r\n",
        "                        transforms.ToTensor(),\r\n",
        "                        transforms.Normalize((0.1307,), (0.3081,))\r\n",
        "                    ])),\r\n",
        "    batch_size=batch_size, shuffle=True, **kwargs)"
      ],
      "execution_count": 8,
      "outputs": []
    },
    {
      "cell_type": "code",
      "metadata": {
        "id": "SsoVEVB5Upmv"
      },
      "source": [
        "from tqdm import tqdm\r\n",
        "\r\n",
        "train_losses = []\r\n",
        "test_losses = []\r\n",
        "train_acc = []\r\n",
        "test_acc = []\r\n",
        "\r\n",
        "def train(model, device, train_loader, optimizer, epoch):\r\n",
        "    model.train()\r\n",
        "    pbar = tqdm(train_loader)\r\n",
        "    correct = 0\r\n",
        "    processed = 0\r\n",
        "    for batch_idx, (data, target) in enumerate(pbar):\r\n",
        "        # get samples\r\n",
        "        data, target = data.to(device), target.to(device)\r\n",
        "        # Init\r\n",
        "        optimizer.zero_grad()\r\n",
        "        # In PyTorch, we need to set the gradients to zero before starting to do backpropragation because PyTorch accumulates the gradients on subsequent backward passes. \r\n",
        "        # Because of this, when you start your training loop, ideally you should zero out the gradients so that you do the parameter update correctly.\r\n",
        "        \r\n",
        "        # Predict\r\n",
        "        y_pred = model(data)\r\n",
        "        \r\n",
        "        # Calculate loss\r\n",
        "        loss = F.nll_loss(y_pred, target)\r\n",
        "        #train_losses.append(loss)\r\n",
        "\r\n",
        "        # Backpropagation\r\n",
        "        loss.backward()\r\n",
        "        optimizer.step()\r\n",
        "        \r\n",
        "        # Update pbar-tqdm\r\n",
        "        pred = y_pred.argmax(dim=1, keepdim=True)  # get the index of the max log-probability\r\n",
        "        correct += pred.eq(target.view_as(pred)).sum().item()\r\n",
        "        processed += len(data)\r\n",
        "\r\n",
        "        pbar.set_description(desc= f'loss={loss.item()} batch_id={batch_idx} Train_Accuracy={100*correct/processed:0.2f}')\r\n",
        "        #train_acc.append(100*correct/processed)\r\n",
        "\r\n",
        "        \r\n",
        "\r\n",
        "def test(model, device, test_loader):\r\n",
        "    model.eval()\r\n",
        "    test_loss = 0\r\n",
        "    correct = 0\r\n",
        "    with torch.no_grad():\r\n",
        "        for data, target in test_loader:\r\n",
        "            data, target = data.to(device), target.to(device)\r\n",
        "            output = model(data)\r\n",
        "            test_loss += F.nll_loss(output, target, reduction='sum').item()  # sum up batch loss\r\n",
        "            pred = output.argmax(dim=1, keepdim=True)  # get the index of the max log-probability\r\n",
        "            correct += pred.eq(target.view_as(pred)).sum().item()\r\n",
        "\r\n",
        "    test_loss /= len(test_loader.dataset)\r\n",
        "    test_losses.append(test_loss)\r\n",
        "\r\n",
        "    print('\\nTest set: Average loss: {:.4f}, Teast_Accuracy: {}/{} ({:.2f}%)\\n'.format(\r\n",
        "        test_loss, correct, len(test_loader.dataset),\r\n",
        "        100. * correct / len(test_loader.dataset)))\r\n",
        "    \r\n",
        "    test_acc.append(100. * correct / len(test_loader.dataset))"
      ],
      "execution_count": 9,
      "outputs": []
    },
    {
      "cell_type": "code",
      "metadata": {
        "id": "xCbfot_tU3XQ",
        "colab": {
          "base_uri": "https://localhost:8080/"
        },
        "outputId": "25bbb83c-053c-4a77-aeda-f332a9c8c06f"
      },
      "source": [
        "from torch.optim.lr_scheduler import StepLR\r\n",
        "torch.manual_seed(2)\r\n",
        "\r\n",
        "model = Net().to(device)\r\n",
        "optimizer = optim.SGD(model.parameters(), lr=0.01, momentum=0.9)\r\n",
        "#scheduler = StepLR(optimizer, step_size=4, gamma=0.1)\r\n",
        "\r\n",
        "\r\n",
        "EPOCHS = 15\r\n",
        "for epoch in range(EPOCHS):\r\n",
        "    print(\"EPOCH:\", epoch)\r\n",
        "    train(model, device, train_loader, optimizer, epoch)\r\n",
        "    test(model, device, test_loader)\r\n",
        "    #scheduler.step()"
      ],
      "execution_count": 10,
      "outputs": [
        {
          "output_type": "stream",
          "text": [
            "  0%|          | 0/1875 [00:00<?, ?it/s]/usr/local/lib/python3.6/dist-packages/ipykernel_launcher.py:34: UserWarning: Implicit dimension choice for log_softmax has been deprecated. Change the call to include dim=X as an argument.\n",
            "loss=2.32464337348938 batch_id=1 Train_Accuracy=9.38:   0%|          | 2/1875 [00:00<02:26, 12.79it/s]"
          ],
          "name": "stderr"
        },
        {
          "output_type": "stream",
          "text": [
            "EPOCH: 0\n"
          ],
          "name": "stdout"
        },
        {
          "output_type": "stream",
          "text": [
            "loss=0.10650712251663208 batch_id=1874 Train_Accuracy=92.27: 100%|██████████| 1875/1875 [01:56<00:00, 16.12it/s]\n",
            "loss=0.07032986730337143 batch_id=2 Train_Accuracy=95.83:   0%|          | 2/1875 [00:00<02:02, 15.25it/s]"
          ],
          "name": "stderr"
        },
        {
          "output_type": "stream",
          "text": [
            "\n",
            "Test set: Average loss: 0.0829, Teast_Accuracy: 9748/10000 (97.48%)\n",
            "\n",
            "EPOCH: 1\n"
          ],
          "name": "stdout"
        },
        {
          "output_type": "stream",
          "text": [
            "loss=0.07053113728761673 batch_id=1874 Train_Accuracy=97.35: 100%|██████████| 1875/1875 [01:54<00:00, 16.38it/s]\n",
            "loss=0.007349410094320774 batch_id=2 Train_Accuracy=98.96:   0%|          | 2/1875 [00:00<01:58, 15.78it/s]"
          ],
          "name": "stderr"
        },
        {
          "output_type": "stream",
          "text": [
            "\n",
            "Test set: Average loss: 0.0442, Teast_Accuracy: 9869/10000 (98.69%)\n",
            "\n",
            "EPOCH: 2\n"
          ],
          "name": "stdout"
        },
        {
          "output_type": "stream",
          "text": [
            "loss=0.039905428886413574 batch_id=1874 Train_Accuracy=98.08: 100%|██████████| 1875/1875 [01:56<00:00, 16.16it/s]\n",
            "loss=0.004837223328649998 batch_id=2 Train_Accuracy=98.96:   0%|          | 2/1875 [00:00<01:52, 16.70it/s]"
          ],
          "name": "stderr"
        },
        {
          "output_type": "stream",
          "text": [
            "\n",
            "Test set: Average loss: 0.0343, Teast_Accuracy: 9901/10000 (99.01%)\n",
            "\n",
            "EPOCH: 3\n"
          ],
          "name": "stdout"
        },
        {
          "output_type": "stream",
          "text": [
            "loss=0.0586688295006752 batch_id=1874 Train_Accuracy=98.16: 100%|██████████| 1875/1875 [01:55<00:00, 16.21it/s]\n",
            "loss=0.06383126229047775 batch_id=2 Train_Accuracy=98.96:   0%|          | 2/1875 [00:00<01:51, 16.83it/s] "
          ],
          "name": "stderr"
        },
        {
          "output_type": "stream",
          "text": [
            "\n",
            "Test set: Average loss: 0.0367, Teast_Accuracy: 9878/10000 (98.78%)\n",
            "\n",
            "EPOCH: 4\n"
          ],
          "name": "stdout"
        },
        {
          "output_type": "stream",
          "text": [
            "loss=0.005600172560662031 batch_id=1874 Train_Accuracy=98.31: 100%|██████████| 1875/1875 [01:54<00:00, 16.35it/s]\n",
            "loss=0.007023155689239502 batch_id=2 Train_Accuracy=98.96:   0%|          | 2/1875 [00:00<02:06, 14.77it/s]"
          ],
          "name": "stderr"
        },
        {
          "output_type": "stream",
          "text": [
            "\n",
            "Test set: Average loss: 0.0278, Teast_Accuracy: 9917/10000 (99.17%)\n",
            "\n",
            "EPOCH: 5\n"
          ],
          "name": "stdout"
        },
        {
          "output_type": "stream",
          "text": [
            "loss=0.07607980817556381 batch_id=1874 Train_Accuracy=98.57: 100%|██████████| 1875/1875 [01:54<00:00, 16.44it/s]\n",
            "loss=0.14531885087490082 batch_id=2 Train_Accuracy=97.92:   0%|          | 2/1875 [00:00<01:52, 16.62it/s]  "
          ],
          "name": "stderr"
        },
        {
          "output_type": "stream",
          "text": [
            "\n",
            "Test set: Average loss: 0.0286, Teast_Accuracy: 9909/10000 (99.09%)\n",
            "\n",
            "EPOCH: 6\n"
          ],
          "name": "stdout"
        },
        {
          "output_type": "stream",
          "text": [
            "loss=0.021727243438363075 batch_id=1874 Train_Accuracy=98.53: 100%|██████████| 1875/1875 [01:55<00:00, 16.25it/s]\n",
            "loss=0.012875215150415897 batch_id=2 Train_Accuracy=100.00:   0%|          | 2/1875 [00:00<01:54, 16.33it/s]"
          ],
          "name": "stderr"
        },
        {
          "output_type": "stream",
          "text": [
            "\n",
            "Test set: Average loss: 0.0276, Teast_Accuracy: 9900/10000 (99.00%)\n",
            "\n",
            "EPOCH: 7\n"
          ],
          "name": "stdout"
        },
        {
          "output_type": "stream",
          "text": [
            "loss=0.012038221582770348 batch_id=1874 Train_Accuracy=98.68: 100%|██████████| 1875/1875 [01:54<00:00, 16.36it/s]\n",
            "loss=0.0033418750390410423 batch_id=2 Train_Accuracy=100.00:   0%|          | 2/1875 [00:00<01:51, 16.79it/s]"
          ],
          "name": "stderr"
        },
        {
          "output_type": "stream",
          "text": [
            "\n",
            "Test set: Average loss: 0.0315, Teast_Accuracy: 9908/10000 (99.08%)\n",
            "\n",
            "EPOCH: 8\n"
          ],
          "name": "stdout"
        },
        {
          "output_type": "stream",
          "text": [
            "loss=0.04829595610499382 batch_id=1874 Train_Accuracy=98.69: 100%|██████████| 1875/1875 [01:53<00:00, 16.47it/s]\n",
            "loss=0.024282138794660568 batch_id=2 Train_Accuracy=100.00:   0%|          | 2/1875 [00:00<01:50, 16.97it/s]"
          ],
          "name": "stderr"
        },
        {
          "output_type": "stream",
          "text": [
            "\n",
            "Test set: Average loss: 0.0254, Teast_Accuracy: 9916/10000 (99.16%)\n",
            "\n",
            "EPOCH: 9\n"
          ],
          "name": "stdout"
        },
        {
          "output_type": "stream",
          "text": [
            "loss=0.043632037937641144 batch_id=1874 Train_Accuracy=98.80: 100%|██████████| 1875/1875 [01:54<00:00, 16.38it/s]\n",
            "loss=0.003139150096103549 batch_id=2 Train_Accuracy=100.00:   0%|          | 2/1875 [00:00<02:01, 15.37it/s] "
          ],
          "name": "stderr"
        },
        {
          "output_type": "stream",
          "text": [
            "\n",
            "Test set: Average loss: 0.0233, Teast_Accuracy: 9923/10000 (99.23%)\n",
            "\n",
            "EPOCH: 10\n"
          ],
          "name": "stdout"
        },
        {
          "output_type": "stream",
          "text": [
            "loss=0.003944450989365578 batch_id=1874 Train_Accuracy=98.85: 100%|██████████| 1875/1875 [01:55<00:00, 16.30it/s]\n",
            "loss=0.0006491998792625964 batch_id=2 Train_Accuracy=95.83:   0%|          | 2/1875 [00:00<01:51, 16.86it/s]"
          ],
          "name": "stderr"
        },
        {
          "output_type": "stream",
          "text": [
            "\n",
            "Test set: Average loss: 0.0232, Teast_Accuracy: 9919/10000 (99.19%)\n",
            "\n",
            "EPOCH: 11\n"
          ],
          "name": "stdout"
        },
        {
          "output_type": "stream",
          "text": [
            "loss=0.026486892253160477 batch_id=1874 Train_Accuracy=98.90: 100%|██████████| 1875/1875 [01:54<00:00, 16.34it/s]\n",
            "loss=0.2512228786945343 batch_id=2 Train_Accuracy=97.92:   0%|          | 2/1875 [00:00<01:51, 16.81it/s]   "
          ],
          "name": "stderr"
        },
        {
          "output_type": "stream",
          "text": [
            "\n",
            "Test set: Average loss: 0.0238, Teast_Accuracy: 9909/10000 (99.09%)\n",
            "\n",
            "EPOCH: 12\n"
          ],
          "name": "stdout"
        },
        {
          "output_type": "stream",
          "text": [
            "loss=0.002384321065619588 batch_id=1874 Train_Accuracy=98.86: 100%|██████████| 1875/1875 [01:54<00:00, 16.32it/s]\n",
            "loss=0.006977003067731857 batch_id=2 Train_Accuracy=98.96:   0%|          | 2/1875 [00:00<01:51, 16.73it/s]"
          ],
          "name": "stderr"
        },
        {
          "output_type": "stream",
          "text": [
            "\n",
            "Test set: Average loss: 0.0219, Teast_Accuracy: 9922/10000 (99.22%)\n",
            "\n",
            "EPOCH: 13\n"
          ],
          "name": "stdout"
        },
        {
          "output_type": "stream",
          "text": [
            "loss=0.002876818412914872 batch_id=1874 Train_Accuracy=98.89: 100%|██████████| 1875/1875 [01:53<00:00, 16.49it/s]\n",
            "loss=0.01352925319224596 batch_id=2 Train_Accuracy=98.96:   0%|          | 2/1875 [00:00<01:58, 15.85it/s] "
          ],
          "name": "stderr"
        },
        {
          "output_type": "stream",
          "text": [
            "\n",
            "Test set: Average loss: 0.0260, Teast_Accuracy: 9911/10000 (99.11%)\n",
            "\n",
            "EPOCH: 14\n"
          ],
          "name": "stdout"
        },
        {
          "output_type": "stream",
          "text": [
            "loss=0.02468656189739704 batch_id=1874 Train_Accuracy=98.94: 100%|██████████| 1875/1875 [01:55<00:00, 16.26it/s]\n"
          ],
          "name": "stderr"
        },
        {
          "output_type": "stream",
          "text": [
            "\n",
            "Test set: Average loss: 0.0226, Teast_Accuracy: 9923/10000 (99.23%)\n",
            "\n"
          ],
          "name": "stdout"
        }
      ]
    },
    {
      "cell_type": "code",
      "metadata": {
        "id": "PAeArUHHU8yn"
      },
      "source": [
        "%matplotlib inline\r\n",
        "import matplotlib.pyplot as plt\r\n",
        "\r\n",
        "fig, axs = plt.subplots(2,2,figsize=(15,10))\r\n",
        "axs[0, 0].plot(train_losses)\r\n",
        "axs[0, 0].set_title(\"Training Loss\")\r\n",
        "axs[1, 0].plot(train_acc[4000:])\r\n",
        "axs[1, 0].set_title(\"Training Accuracy\")\r\n",
        "axs[0, 1].plot(test_losses)\r\n",
        "axs[0, 1].set_title(\"Test Loss\")\r\n",
        "axs[1, 1].plot(test_acc)\r\n",
        "axs[1, 1].set_title(\"Test Accuracy\")"
      ],
      "execution_count": null,
      "outputs": []
    }
  ]
}