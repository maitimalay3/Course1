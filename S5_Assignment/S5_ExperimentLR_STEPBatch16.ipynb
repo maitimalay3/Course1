{
 "cells": [
  {
   "cell_type": "code",
   "execution_count": null,
   "metadata": {
    "id": "H6__NdmqS4nh"
   },
   "outputs": [],
   "source": [
    "from __future__ import print_function\n",
    "import torch\n",
    "import torch.nn as nn\n",
    "import torch.nn.functional as F\n",
    "import torch.optim as optim\n",
    "from torchvision import datasets, transforms"
   ]
  },
  {
   "cell_type": "code",
   "execution_count": null,
   "metadata": {
    "id": "zZpmFxATTIDh"
   },
   "outputs": [],
   "source": [
    "dropout_value = 0.0\n",
    "class Net(nn.Module):\n",
    "    def __init__(self):\n",
    "        super(Net, self).__init__()\n",
    "        self.convblock1 = nn.Sequential(nn.Conv2d(in_channels=1, out_channels=10, kernel_size=(3, 3), padding=1, bias=False),nn.ReLU(),nn.BatchNorm2d(10), nn.Dropout(dropout_value)) \n",
    "        self.convblock2 = nn.Sequential(nn.Conv2d(in_channels=10, out_channels=16, kernel_size=(3, 3), padding=1, bias=False),nn.ReLU(),nn.BatchNorm2d(16), nn.Dropout(dropout_value))\n",
    "        self.convblock3 = nn.Sequential(nn.Conv2d(in_channels=16, out_channels=10, kernel_size=(1, 1), bias=False))\n",
    "        self.pool1 = nn.MaxPool2d(2,2)\n",
    "        \n",
    "        \n",
    "        self.convblock4 = nn.Sequential(nn.Conv2d(in_channels= 10, out_channels= 16, kernel_size=(3, 3), padding=1, bias=False), nn.ReLU(),nn.BatchNorm2d(16), nn.Dropout(dropout_value))\n",
    "        self.convblock5 = nn.Sequential(nn.Conv2d(in_channels=16, out_channels= 20, kernel_size=(3, 3), padding=1, bias=False),nn.ReLU(),nn.BatchNorm2d(20), nn.Dropout(dropout_value))\n",
    "        self.convblock6 = nn.Sequential(nn.Conv2d(in_channels=20, out_channels=10, kernel_size=(1, 1), bias=False))\n",
    "        self.pool2 = nn.MaxPool2d(2, 2)\n",
    "        self.convblock7 = nn.Sequential(nn.Conv2d(in_channels=10, out_channels= 16, kernel_size=(3, 3), bias=False),nn.ReLU(),nn.BatchNorm2d(16), nn.Dropout(dropout_value))\n",
    "        self.gap = nn.Sequential(nn.AvgPool2d(kernel_size=5))\n",
    "        self.convblock8 = nn.Sequential(nn.Conv2d(in_channels=16, out_channels=10, kernel_size=(1, 1), bias=False))\n",
    "        \n",
    "         \n",
    "\n",
    "    def forward(self, x):\n",
    "        x = self.convblock1(x) #input - 28; Output - 28; RF - 3; output channels - 10\n",
    "        x = self.convblock2(x) #input - 28; Output - 28; RF - 5; output channels - 16\n",
    "        x = self.convblock3(x)\n",
    "        x = self.pool1(x) #input - 28; Output - 14; RF - 10; output channels - 10\n",
    "        x = self.convblock4(x) #input - 14; Output - 14; RF - 12; output channels - 16\n",
    "        x = self.convblock5(x)#input - 14; Output - 14; RF - 14; output channels - 20\n",
    "        x = self.convblock6(x)\n",
    "        x = self.pool2(x)#input - 14; Output - 7; RF - 28; output channels - 10\n",
    "        x = self.convblock7(x)#input - 7; Output - 7; RF - 30; output channels - 16\n",
    "        x = self.gap(x)        \n",
    "        x = self.convblock8(x)\n",
    "        x = x.view(-1, 10)\n",
    "        return F.log_softmax(x)"
   ]
  },
  {
   "cell_type": "code",
   "execution_count": null,
   "metadata": {
    "colab": {
     "base_uri": "https://localhost:8080/"
    },
    "id": "6xkLW5EfUOxI",
    "outputId": "9312a8b2-79eb-4b42-8aca-df1277771b46"
   },
   "outputs": [
    {
     "name": "stdout",
     "output_type": "stream",
     "text": [
      "cpu\n",
      "----------------------------------------------------------------\n",
      "        Layer (type)               Output Shape         Param #\n",
      "================================================================\n",
      "            Conv2d-1           [-1, 10, 28, 28]              90\n",
      "              ReLU-2           [-1, 10, 28, 28]               0\n",
      "       BatchNorm2d-3           [-1, 10, 28, 28]              20\n",
      "           Dropout-4           [-1, 10, 28, 28]               0\n",
      "            Conv2d-5           [-1, 16, 28, 28]           1,440\n",
      "              ReLU-6           [-1, 16, 28, 28]               0\n",
      "       BatchNorm2d-7           [-1, 16, 28, 28]              32\n",
      "           Dropout-8           [-1, 16, 28, 28]               0\n",
      "            Conv2d-9           [-1, 10, 28, 28]             160\n",
      "        MaxPool2d-10           [-1, 10, 14, 14]               0\n",
      "           Conv2d-11           [-1, 16, 14, 14]           1,440\n",
      "             ReLU-12           [-1, 16, 14, 14]               0\n",
      "      BatchNorm2d-13           [-1, 16, 14, 14]              32\n",
      "          Dropout-14           [-1, 16, 14, 14]               0\n",
      "           Conv2d-15           [-1, 20, 14, 14]           2,880\n",
      "             ReLU-16           [-1, 20, 14, 14]               0\n",
      "      BatchNorm2d-17           [-1, 20, 14, 14]              40\n",
      "          Dropout-18           [-1, 20, 14, 14]               0\n",
      "           Conv2d-19           [-1, 10, 14, 14]             200\n",
      "        MaxPool2d-20             [-1, 10, 7, 7]               0\n",
      "           Conv2d-21             [-1, 16, 5, 5]           1,440\n",
      "             ReLU-22             [-1, 16, 5, 5]               0\n",
      "      BatchNorm2d-23             [-1, 16, 5, 5]              32\n",
      "          Dropout-24             [-1, 16, 5, 5]               0\n",
      "        AvgPool2d-25             [-1, 16, 1, 1]               0\n",
      "           Conv2d-26             [-1, 10, 1, 1]             160\n",
      "================================================================\n",
      "Total params: 7,966\n",
      "Trainable params: 7,966\n",
      "Non-trainable params: 0\n",
      "----------------------------------------------------------------\n",
      "Input size (MB): 0.00\n",
      "Forward/backward pass size (MB): 0.94\n",
      "Params size (MB): 0.03\n",
      "Estimated Total Size (MB): 0.98\n",
      "----------------------------------------------------------------\n"
     ]
    },
    {
     "name": "stderr",
     "output_type": "stream",
     "text": [
      "/usr/local/lib/python3.6/dist-packages/ipykernel_launcher.py:34: UserWarning: Implicit dimension choice for log_softmax has been deprecated. Change the call to include dim=X as an argument.\n"
     ]
    }
   ],
   "source": [
    "#!pip install torchsummary\n",
    "from torchsummary import summary\n",
    "use_cuda = torch.cuda.is_available()\n",
    "device = torch.device(\"cuda\" if use_cuda else \"cpu\")\n",
    "print(device)\n",
    "model = Net().to(device)\n",
    "summary(model, input_size=(1, 28, 28))"
   ]
  },
  {
   "cell_type": "code",
   "execution_count": null,
   "metadata": {
    "id": "vDz0iLv_UYay"
   },
   "outputs": [],
   "source": [
    "torch.manual_seed(1)\n",
    "batch_size = 16\n",
    "\n",
    "kwargs = {'num_workers': 1, 'pin_memory': True} if use_cuda else {}\n",
    "train_loader = torch.utils.data.DataLoader(\n",
    "    datasets.MNIST('../data', train=True, download=True,\n",
    "                    transform=transforms.Compose([\n",
    "                        transforms.RandomRotation((-10.0, 10.0), fill=(1,)),\n",
    "                        transforms.ToTensor(),\n",
    "                        transforms.Normalize((0.1307,), (0.3081,))\n",
    "                    ])),\n",
    "    batch_size=batch_size, shuffle=True, **kwargs)\n",
    "test_loader = torch.utils.data.DataLoader(\n",
    "    datasets.MNIST('../data', train=False, transform=transforms.Compose([\n",
    "                        transforms.ToTensor(),\n",
    "                        transforms.Normalize((0.1307,), (0.3081,))\n",
    "                    ])),\n",
    "    batch_size=batch_size, shuffle=True, **kwargs)"
   ]
  },
  {
   "cell_type": "code",
   "execution_count": null,
   "metadata": {
    "id": "SsoVEVB5Upmv"
   },
   "outputs": [],
   "source": [
    "from tqdm import tqdm\n",
    "\n",
    "train_losses = []\n",
    "test_losses = []\n",
    "train_acc = []\n",
    "test_acc = []\n",
    "\n",
    "def train(model, device, train_loader, optimizer, epoch):\n",
    "    model.train()\n",
    "    pbar = tqdm(train_loader)\n",
    "    correct = 0\n",
    "    processed = 0\n",
    "    for batch_idx, (data, target) in enumerate(pbar):\n",
    "        # get samples\n",
    "        data, target = data.to(device), target.to(device)\n",
    "        # Init\n",
    "        optimizer.zero_grad()\n",
    "        # In PyTorch, we need to set the gradients to zero before starting to do backpropragation because PyTorch accumulates the gradients on subsequent backward passes. \n",
    "        # Because of this, when you start your training loop, ideally you should zero out the gradients so that you do the parameter update correctly.\n",
    "        \n",
    "        # Predict\n",
    "        y_pred = model(data)\n",
    "        \n",
    "        # Calculate loss\n",
    "        loss = F.nll_loss(y_pred, target)\n",
    "        train_losses.append(loss)\n",
    "\n",
    "        # Backpropagation\n",
    "        loss.backward()\n",
    "        optimizer.step()\n",
    "        \n",
    "        # Update pbar-tqdm\n",
    "        pred = y_pred.argmax(dim=1, keepdim=True)  # get the index of the max log-probability\n",
    "        correct += pred.eq(target.view_as(pred)).sum().item()\n",
    "        processed += len(data)\n",
    "\n",
    "        pbar.set_description(desc= f'loss={loss.item()} batch_id={batch_idx} Train_Accuracy={100*correct/processed:0.2f}')\n",
    "        train_acc.append(100*correct/processed)\n",
    "\n",
    "        \n",
    "\n",
    "def test(model, device, test_loader):\n",
    "    model.eval()\n",
    "    test_loss = 0\n",
    "    correct = 0\n",
    "    with torch.no_grad():\n",
    "        for data, target in test_loader:\n",
    "            data, target = data.to(device), target.to(device)\n",
    "            output = model(data)\n",
    "            test_loss += F.nll_loss(output, target, reduction='sum').item()  # sum up batch loss\n",
    "            pred = output.argmax(dim=1, keepdim=True)  # get the index of the max log-probability\n",
    "            correct += pred.eq(target.view_as(pred)).sum().item()\n",
    "\n",
    "    test_loss /= len(test_loader.dataset)\n",
    "    test_losses.append(test_loss)\n",
    "\n",
    "    print('\\nTest set: Average loss: {:.4f}, Teast_Accuracy: {}/{} ({:.2f}%)\\n'.format(\n",
    "        test_loss, correct, len(test_loader.dataset),\n",
    "        100. * correct / len(test_loader.dataset)))\n",
    "    \n",
    "    test_acc.append(100. * correct / len(test_loader.dataset))"
   ]
  },
  {
   "cell_type": "code",
   "execution_count": null,
   "metadata": {
    "colab": {
     "base_uri": "https://localhost:8080/"
    },
    "id": "xCbfot_tU3XQ",
    "outputId": "321bdfe1-72ce-43c1-8793-88461f8ceff2"
   },
   "outputs": [
    {
     "name": "stderr",
     "output_type": "stream",
     "text": [
      "  0%|          | 0/3750 [00:00<?, ?it/s]/usr/local/lib/python3.6/dist-packages/ipykernel_launcher.py:34: UserWarning: Implicit dimension choice for log_softmax has been deprecated. Change the call to include dim=X as an argument.\n",
      "loss=2.278353214263916 batch_id=4 Train_Accuracy=15.00:   0%|          | 3/3750 [00:00<02:13, 27.98it/s] "
     ]
    },
    {
     "name": "stdout",
     "output_type": "stream",
     "text": [
      "EPOCH: 0\n"
     ]
    },
    {
     "name": "stderr",
     "output_type": "stream",
     "text": [
      "loss=0.09798498451709747 batch_id=3749 Train_Accuracy=92.79: 100%|██████████| 3750/3750 [02:07<00:00, 29.31it/s]\n",
      "loss=0.006119248922914267 batch_id=4 Train_Accuracy=95.00:   0%|          | 3/3750 [00:00<02:05, 29.95it/s]"
     ]
    },
    {
     "name": "stdout",
     "output_type": "stream",
     "text": [
      "\n",
      "Test set: Average loss: 0.0527, Teast_Accuracy: 9841/10000 (98.41%)\n",
      "\n",
      "EPOCH: 1\n"
     ]
    },
    {
     "name": "stderr",
     "output_type": "stream",
     "text": [
      "loss=0.052861571311950684 batch_id=3749 Train_Accuracy=97.22: 100%|██████████| 3750/3750 [02:07<00:00, 29.30it/s]\n",
      "loss=0.0031722700223326683 batch_id=4 Train_Accuracy=97.50:   0%|          | 3/3750 [00:00<02:11, 28.52it/s]"
     ]
    },
    {
     "name": "stdout",
     "output_type": "stream",
     "text": [
      "\n",
      "Test set: Average loss: 0.0392, Teast_Accuracy: 9874/10000 (98.74%)\n",
      "\n",
      "EPOCH: 2\n"
     ]
    },
    {
     "name": "stderr",
     "output_type": "stream",
     "text": [
      "loss=0.004673723131418228 batch_id=3749 Train_Accuracy=97.78: 100%|██████████| 3750/3750 [02:04<00:00, 30.03it/s]\n",
      "loss=0.0008386795525439084 batch_id=4 Train_Accuracy=98.75:   0%|          | 3/3750 [00:00<02:05, 29.77it/s]"
     ]
    },
    {
     "name": "stdout",
     "output_type": "stream",
     "text": [
      "\n",
      "Test set: Average loss: 0.0331, Teast_Accuracy: 9881/10000 (98.81%)\n",
      "\n",
      "EPOCH: 3\n"
     ]
    },
    {
     "name": "stderr",
     "output_type": "stream",
     "text": [
      "loss=0.16765038669109344 batch_id=3749 Train_Accuracy=98.00: 100%|██████████| 3750/3750 [02:09<00:00, 29.04it/s]\n",
      "loss=0.022084306925535202 batch_id=4 Train_Accuracy=97.50:   0%|          | 3/3750 [00:00<02:14, 27.85it/s]"
     ]
    },
    {
     "name": "stdout",
     "output_type": "stream",
     "text": [
      "\n",
      "Test set: Average loss: 0.0374, Teast_Accuracy: 9875/10000 (98.75%)\n",
      "\n",
      "EPOCH: 4\n"
     ]
    },
    {
     "name": "stderr",
     "output_type": "stream",
     "text": [
      "loss=0.0010170179884880781 batch_id=3749 Train_Accuracy=98.48: 100%|██████████| 3750/3750 [02:09<00:00, 29.06it/s]\n",
      "loss=0.00827756617218256 batch_id=5 Train_Accuracy=100.00:   0%|          | 4/3750 [00:00<02:00, 31.00it/s] "
     ]
    },
    {
     "name": "stdout",
     "output_type": "stream",
     "text": [
      "\n",
      "Test set: Average loss: 0.0198, Teast_Accuracy: 9933/10000 (99.33%)\n",
      "\n",
      "EPOCH: 5\n"
     ]
    },
    {
     "name": "stderr",
     "output_type": "stream",
     "text": [
      "loss=0.08586721122264862 batch_id=3749 Train_Accuracy=98.66: 100%|██████████| 3750/3750 [02:08<00:00, 29.07it/s]\n",
      "loss=0.09863902628421783 batch_id=4 Train_Accuracy=98.75:   0%|          | 3/3750 [00:00<02:11, 28.50it/s]  "
     ]
    },
    {
     "name": "stdout",
     "output_type": "stream",
     "text": [
      "\n",
      "Test set: Average loss: 0.0207, Teast_Accuracy: 9932/10000 (99.32%)\n",
      "\n",
      "EPOCH: 6\n"
     ]
    },
    {
     "name": "stderr",
     "output_type": "stream",
     "text": [
      "loss=0.10735773295164108 batch_id=3749 Train_Accuracy=98.60: 100%|██████████| 3750/3750 [02:09<00:00, 29.07it/s]\n",
      "loss=0.021504757925868034 batch_id=4 Train_Accuracy=100.00:   0%|          | 3/3750 [00:00<02:05, 29.79it/s]"
     ]
    },
    {
     "name": "stdout",
     "output_type": "stream",
     "text": [
      "\n",
      "Test set: Average loss: 0.0200, Teast_Accuracy: 9933/10000 (99.33%)\n",
      "\n",
      "EPOCH: 7\n"
     ]
    },
    {
     "name": "stderr",
     "output_type": "stream",
     "text": [
      "loss=0.05053909868001938 batch_id=3749 Train_Accuracy=98.72: 100%|██████████| 3750/3750 [02:12<00:00, 28.30it/s]\n",
      "loss=0.003980876412242651 batch_id=4 Train_Accuracy=100.00:   0%|          | 3/3750 [00:00<02:07, 29.42it/s]"
     ]
    },
    {
     "name": "stdout",
     "output_type": "stream",
     "text": [
      "\n",
      "Test set: Average loss: 0.0199, Teast_Accuracy: 9937/10000 (99.37%)\n",
      "\n",
      "EPOCH: 8\n"
     ]
    },
    {
     "name": "stderr",
     "output_type": "stream",
     "text": [
      "loss=0.09916316717863083 batch_id=3749 Train_Accuracy=98.69: 100%|██████████| 3750/3750 [02:14<00:00, 27.96it/s]\n",
      "loss=0.019734714180231094 batch_id=4 Train_Accuracy=98.75:   0%|          | 3/3750 [00:00<02:12, 28.35it/s]"
     ]
    },
    {
     "name": "stdout",
     "output_type": "stream",
     "text": [
      "\n",
      "Test set: Average loss: 0.0188, Teast_Accuracy: 9932/10000 (99.32%)\n",
      "\n",
      "EPOCH: 9\n"
     ]
    },
    {
     "name": "stderr",
     "output_type": "stream",
     "text": [
      "loss=0.0019692054484039545 batch_id=3749 Train_Accuracy=98.73: 100%|██████████| 3750/3750 [02:14<00:00, 27.97it/s]\n",
      "loss=0.027004050090909004 batch_id=4 Train_Accuracy=100.00:   0%|          | 3/3750 [00:00<02:08, 29.05it/s] "
     ]
    },
    {
     "name": "stdout",
     "output_type": "stream",
     "text": [
      "\n",
      "Test set: Average loss: 0.0188, Teast_Accuracy: 9934/10000 (99.34%)\n",
      "\n",
      "EPOCH: 10\n"
     ]
    },
    {
     "name": "stderr",
     "output_type": "stream",
     "text": [
      "loss=0.007074120920151472 batch_id=3749 Train_Accuracy=98.80: 100%|██████████| 3750/3750 [02:13<00:00, 28.01it/s]\n",
      "loss=0.0018935023108497262 batch_id=4 Train_Accuracy=96.25:   0%|          | 4/3750 [00:00<02:04, 30.10it/s]"
     ]
    },
    {
     "name": "stdout",
     "output_type": "stream",
     "text": [
      "\n",
      "Test set: Average loss: 0.0191, Teast_Accuracy: 9932/10000 (99.32%)\n",
      "\n",
      "EPOCH: 11\n"
     ]
    },
    {
     "name": "stderr",
     "output_type": "stream",
     "text": [
      "loss=0.0008297952590510249 batch_id=3749 Train_Accuracy=98.84: 100%|██████████| 3750/3750 [02:12<00:00, 28.28it/s]\n",
      "loss=0.2991411089897156 batch_id=4 Train_Accuracy=97.50:   0%|          | 3/3750 [00:00<02:06, 29.57it/s]   "
     ]
    },
    {
     "name": "stdout",
     "output_type": "stream",
     "text": [
      "\n",
      "Test set: Average loss: 0.0186, Teast_Accuracy: 9938/10000 (99.38%)\n",
      "\n",
      "EPOCH: 12\n"
     ]
    },
    {
     "name": "stderr",
     "output_type": "stream",
     "text": [
      "loss=0.0033781942911446095 batch_id=2650 Train_Accuracy=98.78:  71%|███████   | 2650/3750 [01:31<00:37, 29.34it/s]"
     ]
    }
   ],
   "source": [
    "from torch.optim.lr_scheduler import StepLR\n",
    "torch.manual_seed(2)\n",
    "\n",
    "model = Net().to(device)\n",
    "optimizer = optim.SGD(model.parameters(), lr=0.01, momentum=0.9)\n",
    "scheduler = StepLR(optimizer, step_size=4, gamma=0.1)\n",
    "\n",
    "\n",
    "EPOCHS = 15\n",
    "for epoch in range(EPOCHS):\n",
    "    print(\"EPOCH:\", epoch)\n",
    "    train(model, device, train_loader, optimizer, epoch)\n",
    "    test(model, device, test_loader)\n",
    "    scheduler.step()"
   ]
  },
  {
   "cell_type": "code",
   "execution_count": null,
   "metadata": {
    "id": "PAeArUHHU8yn"
   },
   "outputs": [],
   "source": [
    "%matplotlib inline\n",
    "import matplotlib.pyplot as plt\n",
    "\n",
    "fig, axs = plt.subplots(2,2,figsize=(15,10))\n",
    "axs[0, 0].plot(train_losses)\n",
    "axs[0, 0].set_title(\"Training Loss\")\n",
    "axs[1, 0].plot(train_acc[4000:])\n",
    "axs[1, 0].set_title(\"Training Accuracy\")\n",
    "axs[0, 1].plot(test_losses)\n",
    "axs[0, 1].set_title(\"Test Loss\")\n",
    "axs[1, 1].plot(test_acc)\n",
    "axs[1, 1].set_title(\"Test Accuracy\")"
   ]
  }
 ],
 "metadata": {
  "colab": {
   "collapsed_sections": [],
   "name": "S5 ExperimentLR STEPBatch16.ipynb",
   "provenance": []
  },
  "kernelspec": {
   "display_name": "Python 3",
   "language": "python",
   "name": "python3"
  },
  "language_info": {
   "codemirror_mode": {
    "name": "ipython",
    "version": 3
   },
   "file_extension": ".py",
   "mimetype": "text/x-python",
   "name": "python",
   "nbconvert_exporter": "python",
   "pygments_lexer": "ipython3",
   "version": "3.7.4"
  },
  "toc": {
   "base_numbering": 1,
   "nav_menu": {},
   "number_sections": true,
   "sideBar": true,
   "skip_h1_title": false,
   "title_cell": "Table of Contents",
   "title_sidebar": "Contents",
   "toc_cell": false,
   "toc_position": {},
   "toc_section_display": true,
   "toc_window_display": false
  }
 },
 "nbformat": 4,
 "nbformat_minor": 1
}
