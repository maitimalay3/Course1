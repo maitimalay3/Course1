{
  "nbformat": 4,
  "nbformat_minor": 0,
  "metadata": {
    "colab": {
      "name": "Copy of EVA4 - Session 2.ipynb",
      "provenance": [],
      "collapsed_sections": []
    },
    "kernelspec": {
      "name": "python3",
      "display_name": "Python 3"
    },
    "accelerator": "GPU"
  },
  "cells": [
    {
      "cell_type": "code",
      "metadata": {
        "id": "0m2JWFliFfKT"
      },
      "source": [
        "from __future__ import print_function\n",
        "import torch\n",
        "import torch.nn as nn\n",
        "import torch.nn.functional as F\n",
        "import torch.optim as optim\n",
        "from torchvision import datasets, transforms"
      ],
      "execution_count": null,
      "outputs": []
    },
    {
      "cell_type": "markdown",
      "metadata": {
        "id": "rGdwWvG6JzA7"
      },
      "source": [
        "class Net(nn.Module): # inherit the nn.Module class\n",
        "    def __init__(self): # Class intialization\n",
        "        super(Net, self).__init__()\n",
        "        self.conv1 = nn.Conv2d(1, 32, 3, padding=1) #input 28*28*1 Output: 28*28*32 RF 3*3\n",
        "        self.conv2 = nn.Conv2d(32, 64, 3, padding=1) #input 28*28*32 Output: 28*28*64 RF 5*5\n",
        "        self.pool1 = nn.MaxPool2d(2, 2) #input 28*28*64 Output: 14*14*64 RF 10*10\n",
        "        self.conv3 = nn.Conv2d(64, 128, 3, padding=1)#input 14*14*64 Output: 14*14*128 RF 12*12\n",
        "        self.conv4 = nn.Conv2d(128, 256, 3, padding=1)#input 14*14*128 Output: 14*14*256 RF 14*14\n",
        "        self.pool2 = nn.MaxPool2d(2, 2)#input 14*14*256 Output: 7*7*256 RF 28*28\n",
        "        self.conv5 = nn.Conv2d(256, 512, 3)#input 7*7*256 Output: 5*5* 512RF 30*30\n",
        "        self.conv6 = nn.Conv2d(512, 1024, 3)#input 5*5*512 Output: 3*3* 1024RF 32*32\n",
        "        self.conv7 = nn.Conv2d(1024, 10, 3)#input 3*3*1024 Output: 1*1* 10RF 34*34\n",
        "\n",
        "    def forward(self, x):\n",
        "        x = self.pool1(F.relu(self.conv2(F.relu(self.conv1(x))))) # conv1-Relu->cov2->Relu-Maxpool\n",
        "        x = self.pool2(F.relu(self.conv4(F.relu(self.conv3(x))))) # conv3-> Relu->conv4-> Relu->Maxpool\n",
        "        x = F.relu(self.conv6(F.relu(self.conv5(x))))#conv5->Relu, Conv6->Relu\n",
        "        x = F.relu(self.conv7(x))#Conv> Reu\n",
        "        x = x.view(-1, 10)#Flatten\n",
        "        return F.log_softmax(x)#Sigmoid"
      ]
    },
    {
      "cell_type": "code",
      "metadata": {
        "id": "h_Cx9q2QFgM7"
      },
      "source": [
        "class Net(nn.Module):\n",
        "    def __init__(self):\n",
        "        super(Net, self).__init__()\n",
        "        self.conv1 = nn.Conv2d(1, 32, 3, padding=1) #input -? OUtput? RF\n",
        "        self.conv2 = nn.Conv2d(32, 64, 3, padding=1)\n",
        "        self.pool1 = nn.MaxPool2d(2, 2)\n",
        "        self.conv3 = nn.Conv2d(64, 128, 3, padding=1)\n",
        "        self.conv4 = nn.Conv2d(128, 256, 3, padding=1)\n",
        "        self.pool2 = nn.MaxPool2d(2, 2)\n",
        "        self.conv5 = nn.Conv2d(256, 512, 3)\n",
        "        self.conv6 = nn.Conv2d(512, 1024, 3)\n",
        "        self.conv7 = nn.Conv2d(1024, 10, 3)\n",
        "\n",
        "    def forward(self, x):\n",
        "        x = self.pool1(F.relu(self.conv2(F.relu(self.conv1(x)))))\n",
        "        x = self.pool2(F.relu(self.conv4(F.relu(self.conv3(x)))))\n",
        "        x = F.relu(self.conv6(F.relu(self.conv5(x))))\n",
        "        x = F.relu(self.conv7(x))\n",
        "        x = x.view(-1, 10)\n",
        "        return F.log_softmax(x)"
      ],
      "execution_count": null,
      "outputs": []
    },
    {
      "cell_type": "code",
      "metadata": {
        "id": "xdydjYTZFyi3"
      },
      "source": [
        "!pip install torchsummary\n",
        "from torchsummary import summary\n",
        "use_cuda = torch.cuda.is_available()\n",
        "device = torch.device(\"cuda\" if use_cuda else \"cpu\")\n",
        "model = Net().to(device)\n",
        "summary(model, input_size=(1, 28, 28))"
      ],
      "execution_count": null,
      "outputs": []
    },
    {
      "cell_type": "code",
      "metadata": {
        "id": "DqTWLaM5GHgH"
      },
      "source": [
        "\n",
        "\n",
        "torch.manual_seed(1)\n",
        "batch_size = 128\n",
        "\n",
        "kwargs = {'num_workers': 1, 'pin_memory': True} if use_cuda else {}\n",
        "train_loader = torch.utils.data.DataLoader(\n",
        "    datasets.MNIST('../data', train=True, download=True,\n",
        "                    transform=transforms.Compose([\n",
        "                        transforms.ToTensor(),\n",
        "                        transforms.Normalize((0.1307,), (0.3081,))\n",
        "                    ])),\n",
        "    batch_size=batch_size, shuffle=True, **kwargs)\n",
        "test_loader = torch.utils.data.DataLoader(\n",
        "    datasets.MNIST('../data', train=False, transform=transforms.Compose([\n",
        "                        transforms.ToTensor(),\n",
        "                        transforms.Normalize((0.1307,), (0.3081,))\n",
        "                    ])),\n",
        "    batch_size=batch_size, shuffle=True, **kwargs)\n"
      ],
      "execution_count": null,
      "outputs": []
    },
    {
      "cell_type": "markdown",
      "metadata": {
        "id": "Z8thGKPONLl2"
      },
      "source": [
        "Dowln load the data and normalize it. Not sure about compose and and toTensor operation"
      ]
    },
    {
      "cell_type": "markdown",
      "metadata": {
        "id": "j737bk9xNI2Z"
      },
      "source": [
        "def train(model, device, train_loader, optimizer, epoch):\n",
        "    model.train() # Initialize the model for training. Initializing the weights\n",
        "    pbar = tqdm(train_loader) # data loading. tqdm manages the progress bar\n",
        "    for batch_idx, (data, target) in enumerate(pbar): # get the data in batch size\n",
        "        data, target = data.to(device), target.to(device) #parallel loading of data and target \n",
        "        optimizer.zero_grad() # clears the old gradiants\n",
        "        output = model(data) # forward prop output\n",
        "        loss = F.nll_loss(output, target) # claculating loss\n",
        "        loss.backward() # When you call loss.backward(), all it does is compute #gradient of loss w.r.t all the parameters in loss that have requires_grad = #True and store them in parameter.grad attribute for every parameter.\n",
        "#optimizer.step() updates all the parameters based on parameter.grad\n",
        "        optimizer.step()\n",
        "        pbar.set_description(desc= f'loss={loss.item()} batch_id={batch_idx}')"
      ]
    },
    {
      "cell_type": "markdown",
      "metadata": {
        "id": "G21ZomLgNJaj"
      },
      "source": [
        ""
      ]
    },
    {
      "cell_type": "code",
      "metadata": {
        "id": "8fDefDhaFlwH"
      },
      "source": [
        "from tqdm import tqdm\n",
        "def train(model, device, train_loader, optimizer, epoch):\n",
        "    model.train()\n",
        "    pbar = tqdm(train_loader)\n",
        "    for batch_idx, (data, target) in enumerate(pbar):\n",
        "        data, target = data.to(device), target.to(device)\n",
        "        optimizer.zero_grad()\n",
        "        output = model(data)\n",
        "        loss = F.nll_loss(output, target)\n",
        "        loss.backward()\n",
        "        optimizer.step()\n",
        "        pbar.set_description(desc= f'loss={loss.item()} batch_id={batch_idx}')\n",
        "\n",
        "\n",
        "def test(model, device, test_loader):\n",
        "    model.eval()\n",
        "    test_loss = 0\n",
        "    correct = 0\n",
        "    with torch.no_grad():\n",
        "        for data, target in test_loader:\n",
        "            data, target = data.to(device), target.to(device)\n",
        "            output = model(data)\n",
        "            test_loss += F.nll_loss(output, target, reduction='sum').item()  # sum up batch loss\n",
        "            pred = output.argmax(dim=1, keepdim=True)  # get the index of the max log-probability\n",
        "            correct += pred.eq(target.view_as(pred)).sum().item()\n",
        "\n",
        "    test_loss /= len(test_loader.dataset)\n",
        "\n",
        "    print('\\nTest set: Average loss: {:.4f}, Accuracy: {}/{} ({:.0f}%)\\n'.format(\n",
        "        test_loss, correct, len(test_loader.dataset),\n",
        "        100. * correct / len(test_loader.dataset)))"
      ],
      "execution_count": null,
      "outputs": []
    },
    {
      "cell_type": "code",
      "metadata": {
        "id": "MMWbLWO6FuHb"
      },
      "source": [
        "\n",
        "model = Net().to(device)\n",
        "optimizer = optim.SGD(model.parameters(), lr=0.01, momentum=0.9)\n",
        "\n",
        "for epoch in range(1, 2):\n",
        "    train(model, device, train_loader, optimizer, epoch)\n",
        "    test(model, device, test_loader)"
      ],
      "execution_count": null,
      "outputs": []
    },
    {
      "cell_type": "code",
      "metadata": {
        "id": "So5uk4EkHW6R"
      },
      "source": [
        ""
      ],
      "execution_count": null,
      "outputs": []
    }
  ]
}